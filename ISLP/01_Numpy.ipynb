{
 "cells": [
  {
   "cell_type": "code",
   "execution_count": 1,
   "metadata": {},
   "outputs": [],
   "source": [
    "import numpy as np"
   ]
  },
  {
   "cell_type": "code",
   "execution_count": 4,
   "metadata": {},
   "outputs": [
    {
     "data": {
      "text/plain": [
       "(array([3, 4, 5]), array([4, 9, 7]))"
      ]
     },
     "execution_count": 4,
     "metadata": {},
     "output_type": "execute_result"
    }
   ],
   "source": [
    "x = np.array([3, 4, 5])\n",
    "y = np.array([4, 9, 7])\n",
    "x, y"
   ]
  },
  {
   "cell_type": "code",
   "execution_count": 5,
   "metadata": {},
   "outputs": [
    {
     "data": {
      "text/plain": [
       "array([ 7, 13, 12])"
      ]
     },
     "execution_count": 5,
     "metadata": {},
     "output_type": "execute_result"
    }
   ],
   "source": [
    "x + y"
   ]
  },
  {
   "cell_type": "code",
   "execution_count": 6,
   "metadata": {},
   "outputs": [
    {
     "data": {
      "text/plain": [
       "array([[1, 2],\n",
       "       [3, 4]])"
      ]
     },
     "execution_count": 6,
     "metadata": {},
     "output_type": "execute_result"
    }
   ],
   "source": [
    "x = np.array([[1, 2], [3, 4]])\n",
    "x"
   ]
  },
  {
   "cell_type": "code",
   "execution_count": 7,
   "metadata": {},
   "outputs": [
    {
     "data": {
      "text/plain": [
       "2"
      ]
     },
     "execution_count": 7,
     "metadata": {},
     "output_type": "execute_result"
    }
   ],
   "source": [
    "x.ndim"
   ]
  },
  {
   "cell_type": "code",
   "execution_count": 8,
   "metadata": {},
   "outputs": [
    {
     "data": {
      "text/plain": [
       "dtype('int64')"
      ]
     },
     "execution_count": 8,
     "metadata": {},
     "output_type": "execute_result"
    }
   ],
   "source": [
    "x.dtype"
   ]
  },
  {
   "cell_type": "code",
   "execution_count": 9,
   "metadata": {},
   "outputs": [
    {
     "data": {
      "text/plain": [
       "dtype('float64')"
      ]
     },
     "execution_count": 9,
     "metadata": {},
     "output_type": "execute_result"
    }
   ],
   "source": [
    "np.array([[1, 2], [3.0, 4]]).dtype"
   ]
  },
  {
   "cell_type": "code",
   "execution_count": null,
   "metadata": {},
   "outputs": [],
   "source": [
    "np.array?"
   ]
  },
  {
   "cell_type": "code",
   "execution_count": 12,
   "metadata": {},
   "outputs": [
    {
     "data": {
      "text/plain": [
       "dtype('float64')"
      ]
     },
     "execution_count": 12,
     "metadata": {},
     "output_type": "execute_result"
    }
   ],
   "source": [
    "np.array([[1, 2], [3, 4]], float).dtype"
   ]
  },
  {
   "cell_type": "code",
   "execution_count": 13,
   "metadata": {},
   "outputs": [
    {
     "data": {
      "text/plain": [
       "(2, 2)"
      ]
     },
     "execution_count": 13,
     "metadata": {},
     "output_type": "execute_result"
    }
   ],
   "source": [
    "x.shape"
   ]
  },
  {
   "cell_type": "code",
   "execution_count": 15,
   "metadata": {},
   "outputs": [
    {
     "data": {
      "text/plain": [
       "np.int64(10)"
      ]
     },
     "execution_count": 15,
     "metadata": {},
     "output_type": "execute_result"
    }
   ],
   "source": [
    "# Given an array x, the expression x.sum() sums all of its elements, using the sum() method for arrays.\n",
    "# The call x.sum() automatically provides x as the first argument to its sum() method\n",
    "x = np.array([1, 2, 3, 4])\n",
    "x.sum()"
   ]
  },
  {
   "cell_type": "code",
   "execution_count": 16,
   "metadata": {},
   "outputs": [
    {
     "data": {
      "text/plain": [
       "np.int64(10)"
      ]
     },
     "execution_count": 16,
     "metadata": {},
     "output_type": "execute_result"
    }
   ],
   "source": [
    "# We could also sum the elements of x by passing in x as an argument to the np.sum() function\n",
    "x = np.array([1, 2, 3, 4])\n",
    "np.sum(x)"
   ]
  },
  {
   "cell_type": "code",
   "execution_count": 18,
   "metadata": {},
   "outputs": [
    {
     "name": "stdout",
     "output_type": "stream",
     "text": [
      "beginning x:\n",
      " [1 2 3 4 5 6]\n",
      "reshaped x:\n",
      " [[1 2 3]\n",
      " [4 5 6]]\n"
     ]
    }
   ],
   "source": [
    "# The reshape() methor returns a new array with the same elements as x, but a different shape. We do this by passing in a tuple()\n",
    "# in our call to reshape(), in this case(2, 3). This tuple specifies that we would like to create a two-dimensional array with 2 rows and 3 columns.\n",
    "x = np.array([1, 2, 3, 4, 5, 6])\n",
    "print('beginning x:\\n', x)\n",
    "x_reshape = x.reshape((2, 3))\n",
    "print('reshaped x:\\n', x_reshape)"
   ]
  },
  {
   "cell_type": "code",
   "execution_count": 19,
   "metadata": {},
   "outputs": [
    {
     "data": {
      "text/plain": [
       "np.int64(1)"
      ]
     },
     "execution_count": 19,
     "metadata": {},
     "output_type": "execute_result"
    }
   ],
   "source": [
    "# The previous output reveals that numpy arrays are specified as a sequence of rows. This is called row-major ordering as opposed to column-major ordering.\n",
    "# Python (and hence numpy) uses 0-based indexing. This means that to access the top left element of x_reshape, we type in x_reshape[0, 0]\n",
    "\n",
    "x_reshape[0, 0]"
   ]
  },
  {
   "cell_type": "code",
   "execution_count": 20,
   "metadata": {},
   "outputs": [
    {
     "data": {
      "text/plain": [
       "np.int64(6)"
      ]
     },
     "execution_count": 20,
     "metadata": {},
     "output_type": "execute_result"
    }
   ],
   "source": [
    "x_reshape[1, 2]"
   ]
  },
  {
   "cell_type": "code",
   "execution_count": 21,
   "metadata": {},
   "outputs": [
    {
     "data": {
      "text/plain": [
       "np.int64(3)"
      ]
     },
     "execution_count": 21,
     "metadata": {},
     "output_type": "execute_result"
    }
   ],
   "source": [
    "x[2]"
   ]
  },
  {
   "cell_type": "code",
   "execution_count": 22,
   "metadata": {},
   "outputs": [
    {
     "name": "stdout",
     "output_type": "stream",
     "text": [
      "x before we modify x_reshape :\n",
      " [1 2 3 4 5 6]\n",
      "x_reshape before we modify x _reshape :\n",
      " [[1 2 3]\n",
      " [4 5 6]]\n",
      "x_reshape after we modify its top left element :\n",
      " [[5 2 3]\n",
      " [4 5 6]]\n",
      "x after we modify top left element of x_reshape :\n",
      " [5 2 3 4 5 6]\n"
     ]
    }
   ],
   "source": [
    "# Now let's modify the top left element of x_reshape. To our surprise, we discover that the first element of x has been modified as well!\n",
    "print('x before we modify x_reshape :\\n', x)\n",
    "print('x_reshape before we modify x _reshape :\\n', x_reshape)\n",
    "x_reshape[0, 0] = 5\n",
    "print('x_reshape after we modify its top left element :\\n', x_reshape)\n",
    "print('x after we modify top left element of x_reshape :\\n', x)"
   ]
  },
  {
   "cell_type": "markdown",
   "metadata": {},
   "source": [
    "Modifying x_reshape also modified x because the two objects occupy the same space in memory."
   ]
  },
  {
   "cell_type": "code",
   "execution_count": 23,
   "metadata": {},
   "outputs": [
    {
     "ename": "TypeError",
     "evalue": "'tuple' object does not support item assignment",
     "output_type": "error",
     "traceback": [
      "\u001b[31m---------------------------------------------------------------------------\u001b[39m",
      "\u001b[31mTypeError\u001b[39m                                 Traceback (most recent call last)",
      "\u001b[36mCell\u001b[39m\u001b[36m \u001b[39m\u001b[32mIn[23]\u001b[39m\u001b[32m, line 4\u001b[39m\n\u001b[32m      1\u001b[39m \u001b[38;5;66;03m# We just saw that we can modify an element of an array. Can we also modify a tuple? It turns out that we cannot, and trying to do so introduces\u001b[39;00m\n\u001b[32m      2\u001b[39m \u001b[38;5;66;03m# an exception, or error\u001b[39;00m\n\u001b[32m      3\u001b[39m my_tuple = (\u001b[32m3\u001b[39m, \u001b[32m4\u001b[39m, \u001b[32m5\u001b[39m)\n\u001b[32m----> \u001b[39m\u001b[32m4\u001b[39m \u001b[43mmy_tuple\u001b[49m\u001b[43m[\u001b[49m\u001b[32;43m0\u001b[39;49m\u001b[43m]\u001b[49m = \u001b[32m2\u001b[39m\n",
      "\u001b[31mTypeError\u001b[39m: 'tuple' object does not support item assignment"
     ]
    }
   ],
   "source": [
    "# We just saw that we can modify an element of an array. Can we also modify a tuple? It turns out that we cannot, and trying to do so introduces\n",
    "# an exception, or error\n",
    "my_tuple = (3, 4, 5)\n",
    "my_tuple[0] = 2"
   ]
  },
  {
   "cell_type": "code",
   "execution_count": 24,
   "metadata": {},
   "outputs": [
    {
     "data": {
      "text/plain": [
       "((2, 3),\n",
       " 2,\n",
       " array([[5, 4],\n",
       "        [2, 5],\n",
       "        [3, 6]]))"
      ]
     },
     "execution_count": 24,
     "metadata": {},
     "output_type": "execute_result"
    }
   ],
   "source": [
    "# We now briefly mention some attributes of arrays that will come in handy.\n",
    "# An array's shape attribute contains its dimension; this is always a tuple.\n",
    "# The ndim attribute yields the number of dimensions, and T provides its transpose.\n",
    "x_reshape.shape, x_reshape.ndim, x_reshape.T"
   ]
  },
  {
   "cell_type": "markdown",
   "metadata": {},
   "source": [
    "Notice that the three individual outputs (2, 3), 2, and array ([[5, 4], [2, 5], [3, 6]]) are themselves output as a tuple."
   ]
  },
  {
   "cell_type": "code",
   "execution_count": 25,
   "metadata": {},
   "outputs": [
    {
     "data": {
      "text/plain": [
       "array([2.23606798, 1.41421356, 1.73205081, 2.        , 2.23606798,\n",
       "       2.44948974])"
      ]
     },
     "execution_count": 25,
     "metadata": {},
     "output_type": "execute_result"
    }
   ],
   "source": [
    "# We will often want to apply functions to arrays. For instance, we can compute the square root of the entries using the np.sqrt() function\n",
    "np.sqrt(x)"
   ]
  },
  {
   "cell_type": "code",
   "execution_count": 26,
   "metadata": {},
   "outputs": [
    {
     "data": {
      "text/plain": [
       "array([25,  4,  9, 16, 25, 36])"
      ]
     },
     "execution_count": 26,
     "metadata": {},
     "output_type": "execute_result"
    }
   ],
   "source": [
    "# We can also square the elements\n",
    "x ** 2"
   ]
  },
  {
   "cell_type": "code",
   "execution_count": 27,
   "metadata": {},
   "outputs": [
    {
     "data": {
      "text/plain": [
       "array([2.23606798, 1.41421356, 1.73205081, 2.        , 2.23606798,\n",
       "       2.44948974])"
      ]
     },
     "execution_count": 27,
     "metadata": {},
     "output_type": "execute_result"
    }
   ],
   "source": [
    "# We can compute the square roots using the same notation, raising to the power of 1/2 instead of 2\n",
    "x ** 0.5"
   ]
  },
  {
   "cell_type": "markdown",
   "metadata": {},
   "source": [
    "Throughout this book, we will often want to generate random data. The np.random.normal() function generates a vector of random normal variables.\n",
    "We can learn more about this function by looking at the help page, via a call to np.random.normal?. The first line of the help page reads\n",
    "normal(loc=0.0, scale=1.0, size=None). This signature line tells us that the function's arguments are loc, scale, and size. These are keyword arguments, which means that when they are passed into the function, they can be referred to by name(in any order). By default, this function will generate random normal variables(s) with mean (loc) 0 and standard deviation (scale) 1; furthermore, a single random variable will be generated unless the argument to size is changed."
   ]
  },
  {
   "cell_type": "code",
   "execution_count": 30,
   "metadata": {},
   "outputs": [
    {
     "name": "stdout",
     "output_type": "stream",
     "text": [
      "\u001b[31mSignature:\u001b[39m np.random.normal(loc=\u001b[32m0.0\u001b[39m, scale=\u001b[32m1.0\u001b[39m, size=\u001b[38;5;28;01mNone\u001b[39;00m)\n",
      "\u001b[31mDocstring:\u001b[39m\n",
      "normal(loc=0.0, scale=1.0, size=None)\n",
      "\n",
      "Draw random samples from a normal (Gaussian) distribution.\n",
      "\n",
      "The probability density function of the normal distribution, first\n",
      "derived by De Moivre and 200 years later by both Gauss and Laplace\n",
      "independently [2]_, is often called the bell curve because of\n",
      "its characteristic shape (see the example below).\n",
      "\n",
      "The normal distributions occurs often in nature.  For example, it\n",
      "describes the commonly occurring distribution of samples influenced\n",
      "by a large number of tiny, random disturbances, each with its own\n",
      "unique distribution [2]_.\n",
      "\n",
      ".. note::\n",
      "    New code should use the `~numpy.random.Generator.normal`\n",
      "    method of a `~numpy.random.Generator` instance instead;\n",
      "    please see the :ref:`random-quick-start`.\n",
      "\n",
      "Parameters\n",
      "----------\n",
      "loc : float or array_like of floats\n",
      "    Mean (\"centre\") of the distribution.\n",
      "scale : float or array_like of floats\n",
      "    Standard deviation (spread or \"width\") of the distribution. Must be\n",
      "    non-negative.\n",
      "size : int or tuple of ints, optional\n",
      "    Output shape.  If the given shape is, e.g., ``(m, n, k)``, then\n",
      "    ``m * n * k`` samples are drawn.  If size is ``None`` (default),\n",
      "    a single value is returned if ``loc`` and ``scale`` are both scalars.\n",
      "    Otherwise, ``np.broadcast(loc, scale).size`` samples are drawn.\n",
      "\n",
      "Returns\n",
      "-------\n",
      "out : ndarray or scalar\n",
      "    Drawn samples from the parameterized normal distribution.\n",
      "\n",
      "See Also\n",
      "--------\n",
      "scipy.stats.norm : probability density function, distribution or\n",
      "    cumulative density function, etc.\n",
      "random.Generator.normal: which should be used for new code.\n",
      "\n",
      "Notes\n",
      "-----\n",
      "The probability density for the Gaussian distribution is\n",
      "\n",
      ".. math:: p(x) = \\frac{1}{\\sqrt{ 2 \\pi \\sigma^2 }}\n",
      "                 e^{ - \\frac{ (x - \\mu)^2 } {2 \\sigma^2} },\n",
      "\n",
      "where :math:`\\mu` is the mean and :math:`\\sigma` the standard\n",
      "deviation. The square of the standard deviation, :math:`\\sigma^2`,\n",
      "is called the variance.\n",
      "\n",
      "The function has its peak at the mean, and its \"spread\" increases with\n",
      "the standard deviation (the function reaches 0.607 times its maximum at\n",
      ":math:`x + \\sigma` and :math:`x - \\sigma` [2]_).  This implies that\n",
      "normal is more likely to return samples lying close to the mean, rather\n",
      "than those far away.\n",
      "\n",
      "References\n",
      "----------\n",
      ".. [1] Wikipedia, \"Normal distribution\",\n",
      "       https://en.wikipedia.org/wiki/Normal_distribution\n",
      ".. [2] P. R. Peebles Jr., \"Central Limit Theorem\" in \"Probability,\n",
      "       Random Variables and Random Signal Principles\", 4th ed., 2001,\n",
      "       pp. 51, 51, 125.\n",
      "\n",
      "Examples\n",
      "--------\n",
      "Draw samples from the distribution:\n",
      "\n",
      ">>> mu, sigma = 0, 0.1 # mean and standard deviation\n",
      ">>> s = np.random.normal(mu, sigma, 1000)\n",
      "\n",
      "Verify the mean and the standard deviation:\n",
      "\n",
      ">>> abs(mu - np.mean(s))\n",
      "0.0  # may vary\n",
      "\n",
      ">>> abs(sigma - np.std(s, ddof=1))\n",
      "0.1  # may vary\n",
      "\n",
      "Display the histogram of the samples, along with\n",
      "the probability density function:\n",
      "\n",
      ">>> import matplotlib.pyplot as plt\n",
      ">>> count, bins, ignored = plt.hist(s, 30, density=True)\n",
      ">>> plt.plot(bins, 1/(sigma * np.sqrt(2 * np.pi)) *\n",
      "...                np.exp( - (bins - mu)**2 / (2 * sigma**2) ),\n",
      "...          linewidth=2, color='r')\n",
      ">>> plt.show()\n",
      "\n",
      "Two-by-four array of samples from the normal distribution with\n",
      "mean 3 and standard deviation 2.5:\n",
      "\n",
      ">>> np.random.normal(3, 2.5, size=(2, 4))\n",
      "array([[-4.49401501,  4.00950034, -1.81814867,  7.29718677],   # random\n",
      "       [ 0.39924804,  4.68456316,  4.99394529,  4.84057254]])  # random\n",
      "\u001b[31mType:\u001b[39m      method"
     ]
    }
   ],
   "source": [
    "np.random.normal?"
   ]
  },
  {
   "cell_type": "code",
   "execution_count": 28,
   "metadata": {},
   "outputs": [
    {
     "data": {
      "text/plain": [
       "array([ 0.15784199,  0.61440991, -0.46145374,  0.76589359,  1.27846699,\n",
       "        0.87160691,  1.80805911,  0.14929493,  1.44120734,  0.36891996,\n",
       "       -1.45203511,  0.63879341,  2.24516684, -0.58279896,  0.71151663,\n",
       "        0.69516101, -1.59291061, -0.05646906, -1.03213808, -0.83431407,\n",
       "        0.31770512,  0.29635831,  0.19870698, -1.28265366,  1.01833666,\n",
       "       -0.96082045, -0.82273362, -0.61217834,  1.23326161,  0.33948569,\n",
       "       -0.07762703,  0.13493198,  0.90365006,  0.10651485, -0.58043953,\n",
       "        0.88133643,  1.6451784 , -0.78124208, -0.2879252 ,  1.80371887,\n",
       "        1.09104249, -0.40492281,  0.71394905, -1.1531886 ,  1.09884811,\n",
       "        0.35270909, -1.65125357, -1.3797584 ,  2.35105616,  0.87378915])"
      ]
     },
     "execution_count": 28,
     "metadata": {},
     "output_type": "execute_result"
    }
   ],
   "source": [
    "# We now generate 50 independent random variables from a N(0, 1) distribution.\n",
    "x = np.random.normal(size=50)\n",
    "x"
   ]
  },
  {
   "cell_type": "code",
   "execution_count": 32,
   "metadata": {},
   "outputs": [
    {
     "data": {
      "text/plain": [
       "array([51.17895926, 52.37730938, 48.17907565, 49.96613584, 50.75692283,\n",
       "       50.31008436, 51.21788366, 50.0263998 , 51.82795643, 49.90950196,\n",
       "       48.35737219, 50.06962673, 51.63904863, 49.45011702, 51.18076463,\n",
       "       50.83874348, 48.86168431, 48.92119605, 48.54393659, 49.14227134,\n",
       "       51.74539213, 50.81333886, 48.8859305 , 47.94903994, 50.05427811,\n",
       "       49.3848503 , 49.95350952, 50.02572632, 52.63628762, 50.18964537,\n",
       "       48.61751546, 50.06965699, 51.1110394 , 49.50134099, 49.53738258,\n",
       "       51.2696458 , 51.12163077, 48.8463265 , 48.188902  , 51.96018552,\n",
       "       52.65354216, 50.08307034, 50.50227404, 49.74102616, 53.63562952,\n",
       "       50.29694142, 49.48515677, 49.1798307 , 53.02524876, 50.76985564])"
      ]
     },
     "execution_count": 32,
     "metadata": {},
     "output_type": "execute_result"
    }
   ],
   "source": [
    "# We can create an array y by adding an independent N(50, 1) random variable to each element of x.\n",
    "y = x + np.random.normal(loc=50, scale=1, size=50)\n",
    "y"
   ]
  },
  {
   "cell_type": "code",
   "execution_count": 33,
   "metadata": {},
   "outputs": [
    {
     "data": {
      "text/plain": [
       "array([[1.        , 0.76896827],\n",
       "       [0.76896827, 1.        ]])"
      ]
     },
     "execution_count": 33,
     "metadata": {},
     "output_type": "execute_result"
    }
   ],
   "source": [
    "# The np.corrcoef() function computes the correlation matrix between x and y. The off-diagonal elements give the correlation between x and y.\n",
    "np.corrcoef(x, y)"
   ]
  },
  {
   "cell_type": "code",
   "execution_count": 34,
   "metadata": {},
   "outputs": [
    {
     "name": "stdout",
     "output_type": "stream",
     "text": [
      "[ 0.03914093 -2.85265776]\n",
      "[0.4698382  7.58329415]\n"
     ]
    }
   ],
   "source": [
    "#Each time we call np.random.normal(), we will get a different answer, as shown in the following example.\n",
    "print(np.random.normal(scale=5, size=2))\n",
    "print(np.random.normal(scale=5, size=2))"
   ]
  },
  {
   "cell_type": "code",
   "execution_count": 35,
   "metadata": {},
   "outputs": [
    {
     "name": "stdout",
     "output_type": "stream",
     "text": [
      "[ 4.09482632 -1.07485605]\n",
      "[ 4.09482632 -1.07485605]\n"
     ]
    }
   ],
   "source": [
    "#In order to ensure that our code provides the same results each time it is run, we can set a random seed using the np.random.default_rng() function.\n",
    "#This function takes an aritrary, user-specified interger argument.\n",
    "#If we set a random seed before generating random data, then re-running our code will yield the same results. The object rng has essentially all the \n",
    "#random number generating methods found in np.random. Hence, to generate normal data we use rng.normal().\n",
    "rng = np.random.default_rng(1303)\n",
    "print(rng.normal(scale=5, size=2))\n",
    "rng2 = np.random.default_rng(1303)\n",
    "print(rng2.normal(scale=5, size=2))"
   ]
  },
  {
   "cell_type": "markdown",
   "metadata": {},
   "source": [
    "Throughout the labs, we use np.random.default_rng() whenever we perform calculations involving random quantities with numpy"
   ]
  },
  {
   "cell_type": "code",
   "execution_count": 36,
   "metadata": {},
   "outputs": [
    {
     "data": {
      "text/plain": [
       "(np.float64(-0.1126795190952861), np.float64(-0.1126795190952861))"
      ]
     },
     "execution_count": 36,
     "metadata": {},
     "output_type": "execute_result"
    }
   ],
   "source": [
    "# The np.mean(), np.var(), and np.std() functions can be used to compute the mean, variance, and standard deviation of arrays. These functions are\n",
    "#also available as methods on the arrays.\n",
    "rng = np.random.default_rng(3)\n",
    "y = rng.standard_normal(10)\n",
    "np.mean(y), y.mean()"
   ]
  },
  {
   "cell_type": "code",
   "execution_count": 38,
   "metadata": {},
   "outputs": [
    {
     "data": {
      "text/plain": [
       "(np.float64(2.7243406406465125),\n",
       " np.float64(2.7243406406465125),\n",
       " np.float64(2.7243406406465125))"
      ]
     },
     "execution_count": 38,
     "metadata": {},
     "output_type": "execute_result"
    }
   ],
   "source": [
    "np.var(y), y.var(), np.mean((y - y.mean()) ** 2)"
   ]
  },
  {
   "cell_type": "markdown",
   "metadata": {},
   "source": [
    "Notice that by default np.var() divides by the sample size n rather than n - 1; see the ddof argument in np.var?"
   ]
  },
  {
   "cell_type": "code",
   "execution_count": 39,
   "metadata": {},
   "outputs": [
    {
     "name": "stdout",
     "output_type": "stream",
     "text": [
      "\u001b[31mSignature:\u001b[39m      \n",
      "np.var(\n",
      "    a,\n",
      "    axis=\u001b[38;5;28;01mNone\u001b[39;00m,\n",
      "    dtype=\u001b[38;5;28;01mNone\u001b[39;00m,\n",
      "    out=\u001b[38;5;28;01mNone\u001b[39;00m,\n",
      "    ddof=\u001b[32m0\u001b[39m,\n",
      "    keepdims=<no value>,\n",
      "    *,\n",
      "    where=<no value>,\n",
      "    mean=<no value>,\n",
      "    correction=<no value>,\n",
      ")\n",
      "\u001b[31mCall signature:\u001b[39m  np.var(*args, **kwargs)\n",
      "\u001b[31mType:\u001b[39m            _ArrayFunctionDispatcher\n",
      "\u001b[31mString form:\u001b[39m     <function var at 0x000001B3C9D707C0>\n",
      "\u001b[31mFile:\u001b[39m            c:\\users\\anthonny.paz\\documents\\github\\ml-projects\\ml_proj\\lib\\site-packages\\numpy\\_core\\fromnumeric.py\n",
      "\u001b[31mDocstring:\u001b[39m      \n",
      "Compute the variance along the specified axis.\n",
      "\n",
      "Returns the variance of the array elements, a measure of the spread of a\n",
      "distribution.  The variance is computed for the flattened array by\n",
      "default, otherwise over the specified axis.\n",
      "\n",
      "Parameters\n",
      "----------\n",
      "a : array_like\n",
      "    Array containing numbers whose variance is desired.  If `a` is not an\n",
      "    array, a conversion is attempted.\n",
      "axis : None or int or tuple of ints, optional\n",
      "    Axis or axes along which the variance is computed.  The default is to\n",
      "    compute the variance of the flattened array.\n",
      "    If this is a tuple of ints, a variance is performed over multiple axes,\n",
      "    instead of a single axis or all the axes as before.\n",
      "dtype : data-type, optional\n",
      "    Type to use in computing the variance.  For arrays of integer type\n",
      "    the default is `float64`; for arrays of float types it is the same as\n",
      "    the array type.\n",
      "out : ndarray, optional\n",
      "    Alternate output array in which to place the result.  It must have\n",
      "    the same shape as the expected output, but the type is cast if\n",
      "    necessary.\n",
      "ddof : {int, float}, optional\n",
      "    \"Delta Degrees of Freedom\": the divisor used in the calculation is\n",
      "    ``N - ddof``, where ``N`` represents the number of elements. By\n",
      "    default `ddof` is zero. See notes for details about use of `ddof`.\n",
      "keepdims : bool, optional\n",
      "    If this is set to True, the axes which are reduced are left\n",
      "    in the result as dimensions with size one. With this option,\n",
      "    the result will broadcast correctly against the input array.\n",
      "\n",
      "    If the default value is passed, then `keepdims` will not be\n",
      "    passed through to the `var` method of sub-classes of\n",
      "    `ndarray`, however any non-default value will be.  If the\n",
      "    sub-class' method does not implement `keepdims` any\n",
      "    exceptions will be raised.\n",
      "where : array_like of bool, optional\n",
      "    Elements to include in the variance. See `~numpy.ufunc.reduce` for\n",
      "    details.\n",
      "\n",
      "    .. versionadded:: 1.20.0\n",
      "\n",
      "mean : array like, optional\n",
      "    Provide the mean to prevent its recalculation. The mean should have\n",
      "    a shape as if it was calculated with ``keepdims=True``.\n",
      "    The axis for the calculation of the mean should be the same as used in\n",
      "    the call to this var function.\n",
      "\n",
      "    .. versionadded:: 2.0.0\n",
      "\n",
      "correction : {int, float}, optional\n",
      "    Array API compatible name for the ``ddof`` parameter. Only one of them\n",
      "    can be provided at the same time.\n",
      "\n",
      "    .. versionadded:: 2.0.0\n",
      "\n",
      "Returns\n",
      "-------\n",
      "variance : ndarray, see dtype parameter above\n",
      "    If ``out=None``, returns a new array containing the variance;\n",
      "    otherwise, a reference to the output array is returned.\n",
      "\n",
      "See Also\n",
      "--------\n",
      "std, mean, nanmean, nanstd, nanvar\n",
      ":ref:`ufuncs-output-type`\n",
      "\n",
      "Notes\n",
      "-----\n",
      "There are several common variants of the array variance calculation.\n",
      "Assuming the input `a` is a one-dimensional NumPy array and ``mean`` is\n",
      "either provided as an argument or computed as ``a.mean()``, NumPy\n",
      "computes the variance of an array as::\n",
      "\n",
      "    N = len(a)\n",
      "    d2 = abs(a - mean)**2  # abs is for complex `a`\n",
      "    var = d2.sum() / (N - ddof)  # note use of `ddof`\n",
      "\n",
      "Different values of the argument `ddof` are useful in different\n",
      "contexts. NumPy's default ``ddof=0`` corresponds with the expression:\n",
      "\n",
      ".. math::\n",
      "\n",
      "    \\frac{\\sum_i{|a_i - \\bar{a}|^2 }}{N}\n",
      "\n",
      "which is sometimes called the \"population variance\" in the field of\n",
      "statistics because it applies the definition of variance to `a` as if `a`\n",
      "were a complete population of possible observations.\n",
      "\n",
      "Many other libraries define the variance of an array differently, e.g.:\n",
      "\n",
      ".. math::\n",
      "\n",
      "    \\frac{\\sum_i{|a_i - \\bar{a}|^2}}{N - 1}\n",
      "\n",
      "In statistics, the resulting quantity is sometimes called the \"sample\n",
      "variance\" because if `a` is a random sample from a larger population,\n",
      "this calculation provides an unbiased estimate of the variance of the\n",
      "population.  The use of :math:`N-1` in the denominator is often called\n",
      "\"Bessel's correction\" because it corrects for bias (toward lower values)\n",
      "in the variance estimate introduced when the sample mean of `a` is used\n",
      "in place of the true mean of the population. For this quantity, use\n",
      "``ddof=1``.\n",
      "\n",
      "Note that for complex numbers, the absolute value is taken before\n",
      "squaring, so that the result is always real and nonnegative.\n",
      "\n",
      "For floating-point input, the variance is computed using the same\n",
      "precision the input has.  Depending on the input data, this can cause\n",
      "the results to be inaccurate, especially for `float32` (see example\n",
      "below).  Specifying a higher-accuracy accumulator using the ``dtype``\n",
      "keyword can alleviate this issue.\n",
      "\n",
      "Examples\n",
      "--------\n",
      ">>> import numpy as np\n",
      ">>> a = np.array([[1, 2], [3, 4]])\n",
      ">>> np.var(a)\n",
      "1.25\n",
      ">>> np.var(a, axis=0)\n",
      "array([1.,  1.])\n",
      ">>> np.var(a, axis=1)\n",
      "array([0.25,  0.25])\n",
      "\n",
      "In single precision, var() can be inaccurate:\n",
      "\n",
      ">>> a = np.zeros((2, 512*512), dtype=np.float32)\n",
      ">>> a[0, :] = 1.0\n",
      ">>> a[1, :] = 0.1\n",
      ">>> np.var(a)\n",
      "np.float32(0.20250003)\n",
      "\n",
      "Computing the variance in float64 is more accurate:\n",
      "\n",
      ">>> np.var(a, dtype=np.float64)\n",
      "0.20249999932944759 # may vary\n",
      ">>> ((1-0.55)**2 + (0.1-0.55)**2)/2\n",
      "0.2025\n",
      "\n",
      "Specifying a where argument:\n",
      "\n",
      ">>> a = np.array([[14, 8, 11, 10], [7, 9, 10, 11], [10, 15, 5, 10]])\n",
      ">>> np.var(a)\n",
      "6.833333333333333 # may vary\n",
      ">>> np.var(a, where=[[True], [True], [False]])\n",
      "4.0\n",
      "\n",
      "Using the mean keyword to save computation time:\n",
      "\n",
      ">>> import numpy as np\n",
      ">>> from timeit import timeit\n",
      ">>>\n",
      ">>> a = np.array([[14, 8, 11, 10], [7, 9, 10, 11], [10, 15, 5, 10]])\n",
      ">>> mean = np.mean(a, axis=1, keepdims=True)\n",
      ">>>\n",
      ">>> g = globals()\n",
      ">>> n = 10000\n",
      ">>> t1 = timeit(\"var = np.var(a, axis=1, mean=mean)\", globals=g, number=n)\n",
      ">>> t2 = timeit(\"var = np.var(a, axis=1)\", globals=g, number=n)\n",
      ">>> print(f'Percentage execution time saved {100*(t2-t1)/t2:.0f}%')\n",
      "#doctest: +SKIP\n",
      "Percentage execution time saved 32%\n",
      "\u001b[31mClass docstring:\u001b[39m\n",
      "Class to wrap functions with checks for __array_function__ overrides.\n",
      "\n",
      "All arguments are required, and can only be passed by position.\n",
      "\n",
      "Parameters\n",
      "----------\n",
      "dispatcher : function or None\n",
      "    The dispatcher function that returns a single sequence-like object\n",
      "    of all arguments relevant.  It must have the same signature (except\n",
      "    the default values) as the actual implementation.\n",
      "    If ``None``, this is a ``like=`` dispatcher and the\n",
      "    ``_ArrayFunctionDispatcher`` must be called with ``like`` as the\n",
      "    first (additional and positional) argument.\n",
      "implementation : function\n",
      "    Function that implements the operation on NumPy arrays without\n",
      "    overrides.  Arguments passed calling the ``_ArrayFunctionDispatcher``\n",
      "    will be forwarded to this (and the ``dispatcher``) as if using\n",
      "    ``*args, **kwargs``.\n",
      "\n",
      "Attributes\n",
      "----------\n",
      "_implementation : function\n",
      "    The original implementation passed in."
     ]
    }
   ],
   "source": [
    "np.var?"
   ]
  },
  {
   "cell_type": "code",
   "execution_count": 40,
   "metadata": {},
   "outputs": [
    {
     "data": {
      "text/plain": [
       "(np.float64(1.6505576756498128), np.float64(1.6505576756498128))"
      ]
     },
     "execution_count": 40,
     "metadata": {},
     "output_type": "execute_result"
    }
   ],
   "source": [
    "np.sqrt(np.var(y)), np.std(y)"
   ]
  },
  {
   "cell_type": "code",
   "execution_count": 42,
   "metadata": {},
   "outputs": [
    {
     "data": {
      "text/plain": [
       "array([[ 0.22578661, -0.35263079, -0.28128742],\n",
       "       [-0.66804635, -1.05515055, -0.39080098],\n",
       "       [ 0.48194539, -0.23855361,  0.9577587 ],\n",
       "       [-0.19980213,  0.02425957,  1.54582085],\n",
       "       [ 0.54510552, -0.50522874, -0.18283897],\n",
       "       [ 0.54052513,  1.93508803, -0.26962033],\n",
       "       [-0.24355868,  1.0023136 , -0.88645994],\n",
       "       [-0.29172023,  0.88253897,  0.58035002],\n",
       "       [ 0.0915167 ,  0.67010435, -2.82816231],\n",
       "       [ 1.02130682, -0.95964476, -1.66861984]])"
      ]
     },
     "execution_count": 42,
     "metadata": {},
     "output_type": "execute_result"
    }
   ],
   "source": [
    "# The np.mean(), np.var(), and np.std() functions can also be applied to the rows and columns of a matrix. To see this, we construct a 10 x 3 matrix of\n",
    "#N(0, 1) random variables, and consider computing its row sums.\n",
    "X = rng.standard_normal((10, 3))\n",
    "X"
   ]
  },
  {
   "cell_type": "code",
   "execution_count": 44,
   "metadata": {},
   "outputs": [
    {
     "data": {
      "text/plain": [
       "array([ 0.15030588,  0.14030961, -0.34238602])"
      ]
     },
     "execution_count": 44,
     "metadata": {},
     "output_type": "execute_result"
    }
   ],
   "source": [
    "# Since arrays are row-major ordered, the first axis, i.e. axis = 0, refers to its rows. We pass this argument into the mean() method for the object X.\n",
    "X.mean(axis=0)"
   ]
  },
  {
   "cell_type": "code",
   "execution_count": 46,
   "metadata": {},
   "outputs": [
    {
     "data": {
      "text/plain": [
       "array([ 0.15030588,  0.14030961, -0.34238602])"
      ]
     },
     "execution_count": 46,
     "metadata": {},
     "output_type": "execute_result"
    }
   ],
   "source": [
    "# The following yields the same result.\n",
    "X.mean(0)"
   ]
  }
 ],
 "metadata": {
  "kernelspec": {
   "display_name": "ml_proj",
   "language": "python",
   "name": "python3"
  },
  "language_info": {
   "codemirror_mode": {
    "name": "ipython",
    "version": 3
   },
   "file_extension": ".py",
   "mimetype": "text/x-python",
   "name": "python",
   "nbconvert_exporter": "python",
   "pygments_lexer": "ipython3",
   "version": "3.13.2"
  }
 },
 "nbformat": 4,
 "nbformat_minor": 2
}
