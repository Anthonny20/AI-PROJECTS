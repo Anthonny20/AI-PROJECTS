{
 "cells": [
  {
   "cell_type": "markdown",
   "id": "6eaaa226",
   "metadata": {},
   "source": [
    "Conceptual"
   ]
  },
  {
   "cell_type": "markdown",
   "id": "e1775d00",
   "metadata": {},
   "source": [
    "1. For each of parts (a) through (d), indicate whether we would generally expect the perfomance of a flexible statistical learning method to be better or worse than an inflexible method. Justify your answer."
   ]
  },
  {
   "cell_type": "markdown",
   "id": "b9255458",
   "metadata": {},
   "source": [
    "(A) The sample size n is extremely large, and the number of predictors p is small.\n",
    "\n",
    "Answer: "
   ]
  },
  {
   "cell_type": "code",
   "execution_count": null,
   "id": "a1b3ccfc",
   "metadata": {},
   "outputs": [],
   "source": []
  }
 ],
 "metadata": {
  "language_info": {
   "name": "python"
  }
 },
 "nbformat": 4,
 "nbformat_minor": 5
}
