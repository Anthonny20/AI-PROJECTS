{
 "cells": [
  {
   "cell_type": "markdown",
   "id": "6eaaa226",
   "metadata": {},
   "source": [
    "Conceptual"
   ]
  },
  {
   "cell_type": "markdown",
   "id": "e1775d00",
   "metadata": {},
   "source": [
    "1. For each of parts (a) through (d), indicate whether we would generally expect the perfomance of a flexible statistical learning method to be better or worse than an inflexible method. Justify your answer."
   ]
  },
  {
   "cell_type": "markdown",
   "id": "b9255458",
   "metadata": {},
   "source": [
    "(A) The sample size n is extremely large, and the number of predictors p is small.\n",
    "\n",
    "Answer: "
   ]
  },
  {
   "cell_type": "markdown",
   "id": "d3262134",
   "metadata": {},
   "source": [
    "Flexible method: BETTER\n",
    "Justification: With a large number of observations and a small number of predictors, flexible methods can model complex relationships without overfitting. The large n helps reduce the variance of the estimates, which is often a concern with flexible methods. So, the flexibility can be fully leveraged here."
   ]
  },
  {
   "cell_type": "markdown",
   "id": "748e76e8",
   "metadata": {},
   "source": [
    "(B) The number of predictors p is extremely large, and the number of observatios n is small."
   ]
  },
  {
   "cell_type": "markdown",
   "id": "69975f23",
   "metadata": {},
   "source": [
    "Flexible method: WORSE\n",
    "Justification: In this case, flexible methods are likely to overfit. They tend to have high variance, and with very few data points compared to the number of predictors, the model will likely capture noise instead of signal. An inflexible(simpler) method is preferable because it can regularize and avoid overfitting in high dimensional, low-sample-size settings."
   ]
  },
  {
   "cell_type": "markdown",
   "id": "4614f1f0",
   "metadata": {},
   "source": [
    "(C) The relationship between the predictors and response is highly non-linear."
   ]
  },
  {
   "cell_type": "markdown",
   "id": "5cb475bf",
   "metadata": {},
   "source": [
    "Flexible method: BETTER\n",
    "Justification: Flexible methods (e.g., decision trees, splines, neural networks) are specifically designed to capture non-linear patterns. Inflexible methods (like linear regression) will struggle here due to model misspecification. So a flexible approach would generally perform better in modeling the true underlying relationship."
   ]
  },
  {
   "cell_type": "markdown",
   "id": "803793ef",
   "metadata": {},
   "source": [
    "(D) The variance of the error terms, i.e. σ² = Var(ε), is extremely high."
   ]
  },
  {
   "cell_type": "markdown",
   "id": "12359dc0",
   "metadata": {},
   "source": [
    "Flexible method: WORSE\n",
    "Justification: High variance in the error terms adds a lot of noise to the data. Flexible methods try to fit the data closely, and when the data is noisy, they tend to overfit that noise, leading to poor generalization. In contrast, inflexible methods smooth over the noise and tend to generalize better in high-noise settings."
   ]
  },
  {
   "cell_type": "markdown",
   "id": "bcfc0720",
   "metadata": {},
   "source": [
    "2- Explain whether each scenario is a classification or regression problem, and indicate whether we are most interested in inference or prediction. Finally, provide n and p."
   ]
  },
  {
   "cell_type": "markdown",
   "id": "7b6a82db",
   "metadata": {},
   "source": [
    "(A) We collect a set of data on the top 500 firms in the US. For each firm we record profit, number of employees, industry and the CEO salary. We are interested in understanding which factors affect CEO salary.\n",
    "\n",
    "Answer: Data on top 500 firms in the US. Variables: profit, number of employees, industry, and CEO salary. Goal: understand what affects CEO salary.\n",
    "\n",
    "-Type: Regression - CEO salary is a continuos numeric variable.\n",
    "-Goal: Inference - We're interested in understanding the relationship between predictors and CEO salary (i.e., which factors affect it), not just predicting it.\n",
    "-n: 500(one row per firm)\n",
    "-p: 3(profit, number of employees, industry - the predictors)"
   ]
  },
  {
   "cell_type": "markdown",
   "id": "e81e97a9",
   "metadata": {},
   "source": [
    "(B) We are considering launching a new product and wish to know whether it will be a success or a failure. We collect data on 20 similiar products that were previously lauched. For each product we have recorded whether it was a success or failure, price charged for the product, marketing budget, competetion price, and ten other variables.\n",
    "\n",
    "Answer: Launch a new product; outcome: success or failure. 20 similar products in the past. Variable include success/failure, price, marketing budget, competition price, and 10 others.\n",
    "\n",
    "-Type: Classification - The response is categorical (success or failure).\n",
    "-Goal: Prediction - We're trying to predict if a new product will succeed.\n",
    "-n: 20(20 products)\n",
    "-p: 13 predictors (price, budget, comp price, +10 others)"
   ]
  },
  {
   "cell_type": "markdown",
   "id": "fa53e04d",
   "metadata": {},
   "source": [
    "(C) We are interested in predicting the % change in the USD/EURO exchange rate in relation to the weekly changes in the world stock markets. Hence we collect weekly data for all of 2012. For each week we record the % change in the USD/EURO, the % change in the US market, the % change in the British market, and the % change in the Germany market.\n",
    "\n",
    "Answer: Predictiong % change in the USD/EURO based on world stock market changes. Weekly data for all 2012.\n",
    "\n",
    "-Type: Regression - The response variable is the % change in exchange rate(continous).\n",
    "-Goal: Prediction - The focus is on predicting future exchange rate changes, not interpreting relationships.\n",
    "-n: 52 (52 weeks in a year)\n",
    "-p:3 predictors (% changes in the US, British, and German markets())"
   ]
  },
  {
   "cell_type": "markdown",
   "id": "4214fc2d",
   "metadata": {},
   "source": [
    "3- We now revisit the bias-variance decomposition."
   ]
  }
 ],
 "metadata": {
  "language_info": {
   "name": "python"
  }
 },
 "nbformat": 4,
 "nbformat_minor": 5
}
