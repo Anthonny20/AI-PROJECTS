{
 "cells": [
  {
   "cell_type": "markdown",
   "id": "88508aba",
   "metadata": {},
   "source": [
    "Machine Learning with Pytorch"
   ]
  },
  {
   "cell_type": "markdown",
   "id": "43e3be4a",
   "metadata": {},
   "source": [
    "PyTorch is an open source framework for AI research and commercial production in machine learning. It is used to build, train and optmize deep learning neural networks for applications such as image recognition, natural language processing, and speech recognition. It provides computation support for CPU, GPU, parallel and distributed training on multiple GPUs and multiple nodes. PyTorch is also flexible and easily extensible, with specific libraries and tools available for many different domains. All of the above have made PyTorch a leading framework in machine learning."
   ]
  },
  {
   "cell_type": "markdown",
   "id": "cc8ed789",
   "metadata": {},
   "source": [
    "This lab shows you how easy is to get started with PyTorch and use it to build, train and evaluate a neural network."
   ]
  },
  {
   "cell_type": "markdown",
   "id": "da34b16c",
   "metadata": {},
   "source": [
    "Objectives\n",
    "\n",
    "After completing this lab you will be able to:\n",
    "\n",
    "    - Install necessary PyTorch libraries;\n",
    "    - Use PyTorch to build, train and evaluate neural networks.\n",
    "    - Save the trained model parameters and use them later for inferencing.\n"
   ]
  },
  {
   "cell_type": "markdown",
   "id": "d5e84ab1",
   "metadata": {},
   "source": [
    "Setup\n",
    "\n",
    "For this lab, we will be using the following libraries:\n",
    "\n",
    "    - torch\n",
    "    - TorchVision   "
   ]
  },
  {
   "cell_type": "markdown",
   "id": "f1713610",
   "metadata": {},
   "source": [
    "Importing Required Libraries"
   ]
  },
  {
   "cell_type": "code",
   "execution_count": 1,
   "id": "af60faad",
   "metadata": {},
   "outputs": [],
   "source": [
    "import torch\n",
    "from torch import nn\n",
    "from torch.utils.data import DataLoader\n",
    "from torchvision import datasets\n",
    "from torchvision.transforms import ToTensor"
   ]
  },
  {
   "cell_type": "markdown",
   "id": "853ab661",
   "metadata": {},
   "source": [
    "How does this lab work?\n",
    "\n",
    "The lab uses MNIST datasets. The dataset has over 60,000 images of hand written digits. The data will be partitioned between training the AI model and testing the AI model after training.\n",
    "\n",
    "The main steps in this project include:\n",
    "\n",
    "1. Download the MNIST dataset and create a DataLoader for the dataset.\n",
    "2. Define an AI model to recognize a hand written digit.\n",
    "3. Train the defined AI model using training data from the MNIST dataset.\n",
    "4. Test the trained AI model using testing data from the MNIST dataset.\n",
    "5. Evaluate"
   ]
  },
  {
   "cell_type": "markdown",
   "id": "4d4eed6e",
   "metadata": {},
   "source": [
    "Download Dataset and Create Data Loader"
   ]
  },
  {
   "cell_type": "markdown",
   "id": "0b8a9a78",
   "metadata": {},
   "source": [
    "The images are 28x28 pixel images of digits 0 through 9."
   ]
  },
  {
   "cell_type": "code",
   "execution_count": 9,
   "id": "56f61cc2",
   "metadata": {},
   "outputs": [
    {
     "name": "stdout",
     "output_type": "stream",
     "text": [
      "Training data size 60032\n",
      "Test data size: 10048\n",
      "Shape of X [N, C, H, W]: torch.Size([64, 1, 28, 28])\n",
      "Shape of y: torch.Size([64]) torch.int64\n"
     ]
    },
    {
     "name": "stderr",
     "output_type": "stream",
     "text": [
      "<>:3: SyntaxWarning: invalid escape sequence '\\P'\n",
      "<>:11: SyntaxWarning: invalid escape sequence '\\P'\n",
      "<>:3: SyntaxWarning: invalid escape sequence '\\P'\n",
      "<>:11: SyntaxWarning: invalid escape sequence '\\P'\n",
      "C:\\Users\\anthonny.paz\\AppData\\Local\\Temp\\ipykernel_9868\\2042593826.py:3: SyntaxWarning: invalid escape sequence '\\P'\n",
      "  root=\"..\\Pytorch\\Datasets\",\n",
      "C:\\Users\\anthonny.paz\\AppData\\Local\\Temp\\ipykernel_9868\\2042593826.py:11: SyntaxWarning: invalid escape sequence '\\P'\n",
      "  root=\"..\\Pytorch\\Datasets\",\n"
     ]
    }
   ],
   "source": [
    "# Download training data from the MNIST datasets.\n",
    "training_data = datasets.MNIST(\n",
    "    root=\"..\\Pytorch\\Datasets\",\n",
    "    train=True,\n",
    "    download=True,\n",
    "    transform=ToTensor(),\n",
    ")\n",
    "\n",
    "# Download test data from open datasets.\n",
    "test_data = datasets.MNIST(\n",
    "    root=\"..\\Pytorch\\Datasets\",\n",
    "    train=False, \n",
    "    download=True,\n",
    "    transform=ToTensor(),\n",
    ")\n",
    "\n",
    "batch_size = 64\n",
    "\n",
    "# Create data loaders to iterate over data\n",
    "train_dataloader = DataLoader(training_data, batch_size=batch_size)\n",
    "test_dataloader = DataLoader(test_data, batch_size=batch_size)\n",
    "\n",
    "print(\"Training data size\", len(train_dataloader) * batch_size)\n",
    "print(\"Test data size:\", len(test_dataloader) * batch_size)\n",
    "\n",
    "for X, y in test_dataloader:\n",
    "    print(f\"Shape of X [N, C, H, W]: {X.shape}\")\n",
    "    print(f\"Shape of y: {y.shape} {y.dtype}\")\n",
    "    break"
   ]
  },
  {
   "cell_type": "markdown",
   "id": "e61cc66f",
   "metadata": {},
   "source": [
    "Define Model"
   ]
  },
  {
   "cell_type": "markdown",
   "id": "96aae9b8",
   "metadata": {},
   "source": [
    "We first determine the best device for perfoming training with cpu as the default device.\n",
    "\n",
    "We then define the AI model as a neural network with 3 layers: an input layer, a hidden layer, and an output layer.\n",
    "Between the layers, we use ReLU activation function.\n",
    "\n",
    "Since the input images are 1x28x28 tensors, we need to flatten the input tensors into a 784 element tensor using the Flatten module before passing the input into our neural network."
   ]
  }
 ],
 "metadata": {
  "kernelspec": {
   "display_name": "ml_proj",
   "language": "python",
   "name": "python3"
  },
  "language_info": {
   "codemirror_mode": {
    "name": "ipython",
    "version": 3
   },
   "file_extension": ".py",
   "mimetype": "text/x-python",
   "name": "python",
   "nbconvert_exporter": "python",
   "pygments_lexer": "ipython3",
   "version": "3.13.2"
  }
 },
 "nbformat": 4,
 "nbformat_minor": 5
}
