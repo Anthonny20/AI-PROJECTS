{
 "cells": [
  {
   "cell_type": "code",
   "execution_count": 59,
   "metadata": {},
   "outputs": [],
   "source": [
    "import pandas as pd"
   ]
  },
  {
   "cell_type": "markdown",
   "metadata": {},
   "source": [
    "Loading and Exploring the Dataset"
   ]
  },
  {
   "cell_type": "code",
   "execution_count": 60,
   "metadata": {},
   "outputs": [],
   "source": [
    "rainfall_data = pd.read_csv('rainfall_area-wt_India_1901-2015.csv')"
   ]
  },
  {
   "cell_type": "code",
   "execution_count": 61,
   "metadata": {},
   "outputs": [
    {
     "data": {
      "text/html": [
       "<div>\n",
       "<style scoped>\n",
       "    .dataframe tbody tr th:only-of-type {\n",
       "        vertical-align: middle;\n",
       "    }\n",
       "\n",
       "    .dataframe tbody tr th {\n",
       "        vertical-align: top;\n",
       "    }\n",
       "\n",
       "    .dataframe thead th {\n",
       "        text-align: right;\n",
       "    }\n",
       "</style>\n",
       "<table border=\"1\" class=\"dataframe\">\n",
       "  <thead>\n",
       "    <tr style=\"text-align: right;\">\n",
       "      <th></th>\n",
       "      <th>REGION</th>\n",
       "      <th>YEAR</th>\n",
       "      <th>JAN</th>\n",
       "      <th>FEB</th>\n",
       "      <th>MAR</th>\n",
       "      <th>APR</th>\n",
       "      <th>MAY</th>\n",
       "      <th>JUN</th>\n",
       "      <th>JUL</th>\n",
       "      <th>AUG</th>\n",
       "      <th>SEP</th>\n",
       "      <th>OCT</th>\n",
       "      <th>NOV</th>\n",
       "      <th>DEC</th>\n",
       "      <th>ANNUAL</th>\n",
       "      <th>Jan-Feb</th>\n",
       "      <th>Mar-May</th>\n",
       "      <th>Jun-Sep</th>\n",
       "      <th>Oct-Dec</th>\n",
       "    </tr>\n",
       "  </thead>\n",
       "  <tbody>\n",
       "    <tr>\n",
       "      <th>0</th>\n",
       "      <td>INDIA</td>\n",
       "      <td>1901</td>\n",
       "      <td>34.7</td>\n",
       "      <td>37.7</td>\n",
       "      <td>18.0</td>\n",
       "      <td>39.3</td>\n",
       "      <td>50.8</td>\n",
       "      <td>113.4</td>\n",
       "      <td>242.2</td>\n",
       "      <td>272.9</td>\n",
       "      <td>124.4</td>\n",
       "      <td>52.7</td>\n",
       "      <td>38.0</td>\n",
       "      <td>8.3</td>\n",
       "      <td>1032.3</td>\n",
       "      <td>72.4</td>\n",
       "      <td>108.1</td>\n",
       "      <td>752.8</td>\n",
       "      <td>99.0</td>\n",
       "    </tr>\n",
       "    <tr>\n",
       "      <th>1</th>\n",
       "      <td>INDIA</td>\n",
       "      <td>1902</td>\n",
       "      <td>7.4</td>\n",
       "      <td>4.3</td>\n",
       "      <td>19.0</td>\n",
       "      <td>43.5</td>\n",
       "      <td>48.3</td>\n",
       "      <td>108.8</td>\n",
       "      <td>284.0</td>\n",
       "      <td>199.7</td>\n",
       "      <td>201.5</td>\n",
       "      <td>61.5</td>\n",
       "      <td>27.9</td>\n",
       "      <td>24.4</td>\n",
       "      <td>1030.2</td>\n",
       "      <td>11.7</td>\n",
       "      <td>110.8</td>\n",
       "      <td>794.0</td>\n",
       "      <td>113.8</td>\n",
       "    </tr>\n",
       "    <tr>\n",
       "      <th>2</th>\n",
       "      <td>INDIA</td>\n",
       "      <td>1903</td>\n",
       "      <td>17.0</td>\n",
       "      <td>8.3</td>\n",
       "      <td>31.3</td>\n",
       "      <td>17.1</td>\n",
       "      <td>59.5</td>\n",
       "      <td>118.3</td>\n",
       "      <td>297.0</td>\n",
       "      <td>270.4</td>\n",
       "      <td>199.1</td>\n",
       "      <td>117.9</td>\n",
       "      <td>36.9</td>\n",
       "      <td>17.7</td>\n",
       "      <td>1190.5</td>\n",
       "      <td>25.3</td>\n",
       "      <td>107.9</td>\n",
       "      <td>884.8</td>\n",
       "      <td>172.5</td>\n",
       "    </tr>\n",
       "    <tr>\n",
       "      <th>3</th>\n",
       "      <td>INDIA</td>\n",
       "      <td>1904</td>\n",
       "      <td>14.4</td>\n",
       "      <td>9.6</td>\n",
       "      <td>31.8</td>\n",
       "      <td>33.1</td>\n",
       "      <td>72.4</td>\n",
       "      <td>164.8</td>\n",
       "      <td>261.0</td>\n",
       "      <td>206.4</td>\n",
       "      <td>129.6</td>\n",
       "      <td>69.0</td>\n",
       "      <td>11.2</td>\n",
       "      <td>16.3</td>\n",
       "      <td>1019.8</td>\n",
       "      <td>24.0</td>\n",
       "      <td>137.4</td>\n",
       "      <td>761.8</td>\n",
       "      <td>96.6</td>\n",
       "    </tr>\n",
       "    <tr>\n",
       "      <th>4</th>\n",
       "      <td>INDIA</td>\n",
       "      <td>1905</td>\n",
       "      <td>25.3</td>\n",
       "      <td>20.9</td>\n",
       "      <td>42.7</td>\n",
       "      <td>33.7</td>\n",
       "      <td>55.7</td>\n",
       "      <td>93.3</td>\n",
       "      <td>252.8</td>\n",
       "      <td>200.8</td>\n",
       "      <td>178.4</td>\n",
       "      <td>51.4</td>\n",
       "      <td>9.7</td>\n",
       "      <td>10.5</td>\n",
       "      <td>975.3</td>\n",
       "      <td>46.2</td>\n",
       "      <td>132.2</td>\n",
       "      <td>725.4</td>\n",
       "      <td>71.6</td>\n",
       "    </tr>\n",
       "  </tbody>\n",
       "</table>\n",
       "</div>"
      ],
      "text/plain": [
       "  REGION  YEAR   JAN   FEB   MAR   APR   MAY    JUN    JUL    AUG    SEP  \\\n",
       "0  INDIA  1901  34.7  37.7  18.0  39.3  50.8  113.4  242.2  272.9  124.4   \n",
       "1  INDIA  1902   7.4   4.3  19.0  43.5  48.3  108.8  284.0  199.7  201.5   \n",
       "2  INDIA  1903  17.0   8.3  31.3  17.1  59.5  118.3  297.0  270.4  199.1   \n",
       "3  INDIA  1904  14.4   9.6  31.8  33.1  72.4  164.8  261.0  206.4  129.6   \n",
       "4  INDIA  1905  25.3  20.9  42.7  33.7  55.7   93.3  252.8  200.8  178.4   \n",
       "\n",
       "     OCT   NOV   DEC  ANNUAL  Jan-Feb  Mar-May  Jun-Sep  Oct-Dec  \n",
       "0   52.7  38.0   8.3  1032.3     72.4    108.1    752.8     99.0  \n",
       "1   61.5  27.9  24.4  1030.2     11.7    110.8    794.0    113.8  \n",
       "2  117.9  36.9  17.7  1190.5     25.3    107.9    884.8    172.5  \n",
       "3   69.0  11.2  16.3  1019.8     24.0    137.4    761.8     96.6  \n",
       "4   51.4   9.7  10.5   975.3     46.2    132.2    725.4     71.6  "
      ]
     },
     "execution_count": 61,
     "metadata": {},
     "output_type": "execute_result"
    }
   ],
   "source": [
    "rainfall_data.head()"
   ]
  },
  {
   "cell_type": "markdown",
   "metadata": {},
   "source": [
    "Analyzing Annual Rainfall Trends Over Time"
   ]
  },
  {
   "cell_type": "code",
   "execution_count": 62,
   "metadata": {},
   "outputs": [
    {
     "data": {
      "application/vnd.plotly.v1+json": {
       "config": {
        "plotlyServerURL": "https://plot.ly"
       },
       "data": [
        {
         "line": {
          "color": "blue",
          "width": 2
         },
         "mode": "lines",
         "name": "Annual Rainfall",
         "opacity": 0.7,
         "type": "scatter",
         "x": [
          1901,
          1902,
          1903,
          1904,
          1905,
          1906,
          1907,
          1908,
          1909,
          1910,
          1911,
          1912,
          1913,
          1914,
          1915,
          1916,
          1917,
          1918,
          1919,
          1920,
          1921,
          1922,
          1923,
          1924,
          1925,
          1926,
          1927,
          1928,
          1929,
          1930,
          1931,
          1932,
          1933,
          1934,
          1935,
          1936,
          1937,
          1938,
          1939,
          1940,
          1941,
          1942,
          1943,
          1944,
          1945,
          1946,
          1947,
          1948,
          1949,
          1950,
          1951,
          1952,
          1953,
          1954,
          1955,
          1956,
          1957,
          1958,
          1959,
          1960,
          1961,
          1962,
          1963,
          1964,
          1965,
          1966,
          1967,
          1968,
          1969,
          1970,
          1971,
          1972,
          1973,
          1974,
          1975,
          1976,
          1977,
          1978,
          1979,
          1980,
          1981,
          1982,
          1983,
          1984,
          1985,
          1986,
          1987,
          1988,
          1989,
          1990,
          1991,
          1992,
          1993,
          1994,
          1995,
          1996,
          1997,
          1998,
          1999,
          2000,
          2001,
          2002,
          2003,
          2004,
          2005,
          2006,
          2007,
          2008,
          2009,
          2010,
          2011,
          2012,
          2013,
          2014,
          2015
         ],
         "y": [
          1032.3,
          1030.2,
          1190.5,
          1019.8,
          975.3,
          1144.1,
          1039.7,
          1096.6,
          1158.1,
          1200.3,
          1047.5,
          1078.1,
          1068.9,
          1214.3,
          1137.2,
          1337.1,
          1480.3,
          1026.2,
          1308.9,
          1047.9,
          1240.2,
          1211.9,
          1176.3,
          1268.3,
          1210.4,
          1246.8,
          1262.6,
          1218.4,
          1208.5,
          1209.4,
          1314.6,
          1218.9,
          1393.5,
          1227.6,
          1143.4,
          1341.7,
          1218.1,
          1306.7,
          1125.9,
          1214.6,
          1080.9,
          1292.7,
          1282.1,
          1319.1,
          1225.8,
          1332.6,
          1236.6,
          1341.9,
          1272.4,
          1172.5,
          1061.3,
          1108.2,
          1222.9,
          1180.3,
          1298.3,
          1386.2,
          1178.2,
          1331,
          1382.1,
          1149,
          1403,
          1196.4,
          1210.2,
          1235.1,
          938.4,
          1064,
          1148.3,
          1054.2,
          1147.7,
          1247,
          1218,
          948.5,
          1214,
          1043.7,
          1290.2,
          1124.8,
          1270.4,
          1239.3,
          1023.4,
          1189.5,
          1171.6,
          1086.8,
          1331.5,
          1155.9,
          1140,
          1126.6,
          1078.9,
          1351,
          1122.4,
          1400.6,
          1159.9,
          1121.3,
          1201.9,
          1295.6,
          1243.6,
          1181.8,
          1171.4,
          1243.5,
          1132,
          1050.4,
          1083.3,
          920.8,
          1174.5,
          1071.3,
          1232.5,
          1199.4,
          1215.6,
          1132.1,
          959.3,
          1200.5,
          1110.1,
          1073.5,
          1216.2,
          1033.7,
          1093.2
         ]
        },
        {
         "line": {
          "color": "red",
          "dash": "dash"
         },
         "mode": "lines",
         "name": "Mean Rainfall",
         "type": "scatter",
         "x": [
          1901,
          1902,
          1903,
          1904,
          1905,
          1906,
          1907,
          1908,
          1909,
          1910,
          1911,
          1912,
          1913,
          1914,
          1915,
          1916,
          1917,
          1918,
          1919,
          1920,
          1921,
          1922,
          1923,
          1924,
          1925,
          1926,
          1927,
          1928,
          1929,
          1930,
          1931,
          1932,
          1933,
          1934,
          1935,
          1936,
          1937,
          1938,
          1939,
          1940,
          1941,
          1942,
          1943,
          1944,
          1945,
          1946,
          1947,
          1948,
          1949,
          1950,
          1951,
          1952,
          1953,
          1954,
          1955,
          1956,
          1957,
          1958,
          1959,
          1960,
          1961,
          1962,
          1963,
          1964,
          1965,
          1966,
          1967,
          1968,
          1969,
          1970,
          1971,
          1972,
          1973,
          1974,
          1975,
          1976,
          1977,
          1978,
          1979,
          1980,
          1981,
          1982,
          1983,
          1984,
          1985,
          1986,
          1987,
          1988,
          1989,
          1990,
          1991,
          1992,
          1993,
          1994,
          1995,
          1996,
          1997,
          1998,
          1999,
          2000,
          2001,
          2002,
          2003,
          2004,
          2005,
          2006,
          2007,
          2008,
          2009,
          2010,
          2011,
          2012,
          2013,
          2014,
          2015
         ],
         "y": [
          1182.0347826086959,
          1182.0347826086959,
          1182.0347826086959,
          1182.0347826086959,
          1182.0347826086959,
          1182.0347826086959,
          1182.0347826086959,
          1182.0347826086959,
          1182.0347826086959,
          1182.0347826086959,
          1182.0347826086959,
          1182.0347826086959,
          1182.0347826086959,
          1182.0347826086959,
          1182.0347826086959,
          1182.0347826086959,
          1182.0347826086959,
          1182.0347826086959,
          1182.0347826086959,
          1182.0347826086959,
          1182.0347826086959,
          1182.0347826086959,
          1182.0347826086959,
          1182.0347826086959,
          1182.0347826086959,
          1182.0347826086959,
          1182.0347826086959,
          1182.0347826086959,
          1182.0347826086959,
          1182.0347826086959,
          1182.0347826086959,
          1182.0347826086959,
          1182.0347826086959,
          1182.0347826086959,
          1182.0347826086959,
          1182.0347826086959,
          1182.0347826086959,
          1182.0347826086959,
          1182.0347826086959,
          1182.0347826086959,
          1182.0347826086959,
          1182.0347826086959,
          1182.0347826086959,
          1182.0347826086959,
          1182.0347826086959,
          1182.0347826086959,
          1182.0347826086959,
          1182.0347826086959,
          1182.0347826086959,
          1182.0347826086959,
          1182.0347826086959,
          1182.0347826086959,
          1182.0347826086959,
          1182.0347826086959,
          1182.0347826086959,
          1182.0347826086959,
          1182.0347826086959,
          1182.0347826086959,
          1182.0347826086959,
          1182.0347826086959,
          1182.0347826086959,
          1182.0347826086959,
          1182.0347826086959,
          1182.0347826086959,
          1182.0347826086959,
          1182.0347826086959,
          1182.0347826086959,
          1182.0347826086959,
          1182.0347826086959,
          1182.0347826086959,
          1182.0347826086959,
          1182.0347826086959,
          1182.0347826086959,
          1182.0347826086959,
          1182.0347826086959,
          1182.0347826086959,
          1182.0347826086959,
          1182.0347826086959,
          1182.0347826086959,
          1182.0347826086959,
          1182.0347826086959,
          1182.0347826086959,
          1182.0347826086959,
          1182.0347826086959,
          1182.0347826086959,
          1182.0347826086959,
          1182.0347826086959,
          1182.0347826086959,
          1182.0347826086959,
          1182.0347826086959,
          1182.0347826086959,
          1182.0347826086959,
          1182.0347826086959,
          1182.0347826086959,
          1182.0347826086959,
          1182.0347826086959,
          1182.0347826086959,
          1182.0347826086959,
          1182.0347826086959,
          1182.0347826086959,
          1182.0347826086959,
          1182.0347826086959,
          1182.0347826086959,
          1182.0347826086959,
          1182.0347826086959,
          1182.0347826086959,
          1182.0347826086959,
          1182.0347826086959,
          1182.0347826086959,
          1182.0347826086959,
          1182.0347826086959,
          1182.0347826086959,
          1182.0347826086959,
          1182.0347826086959,
          1182.0347826086959
         ]
        }
       ],
       "layout": {
        "height": 500,
        "legend": {
         "title": {
          "text": "Legend"
         }
        },
        "template": {
         "data": {
          "bar": [
           {
            "error_x": {
             "color": "#2a3f5f"
            },
            "error_y": {
             "color": "#2a3f5f"
            },
            "marker": {
             "line": {
              "color": "white",
              "width": 0.5
             },
             "pattern": {
              "fillmode": "overlay",
              "size": 10,
              "solidity": 0.2
             }
            },
            "type": "bar"
           }
          ],
          "barpolar": [
           {
            "marker": {
             "line": {
              "color": "white",
              "width": 0.5
             },
             "pattern": {
              "fillmode": "overlay",
              "size": 10,
              "solidity": 0.2
             }
            },
            "type": "barpolar"
           }
          ],
          "carpet": [
           {
            "aaxis": {
             "endlinecolor": "#2a3f5f",
             "gridcolor": "#C8D4E3",
             "linecolor": "#C8D4E3",
             "minorgridcolor": "#C8D4E3",
             "startlinecolor": "#2a3f5f"
            },
            "baxis": {
             "endlinecolor": "#2a3f5f",
             "gridcolor": "#C8D4E3",
             "linecolor": "#C8D4E3",
             "minorgridcolor": "#C8D4E3",
             "startlinecolor": "#2a3f5f"
            },
            "type": "carpet"
           }
          ],
          "choropleth": [
           {
            "colorbar": {
             "outlinewidth": 0,
             "ticks": ""
            },
            "type": "choropleth"
           }
          ],
          "contour": [
           {
            "colorbar": {
             "outlinewidth": 0,
             "ticks": ""
            },
            "colorscale": [
             [
              0,
              "#0d0887"
             ],
             [
              0.1111111111111111,
              "#46039f"
             ],
             [
              0.2222222222222222,
              "#7201a8"
             ],
             [
              0.3333333333333333,
              "#9c179e"
             ],
             [
              0.4444444444444444,
              "#bd3786"
             ],
             [
              0.5555555555555556,
              "#d8576b"
             ],
             [
              0.6666666666666666,
              "#ed7953"
             ],
             [
              0.7777777777777778,
              "#fb9f3a"
             ],
             [
              0.8888888888888888,
              "#fdca26"
             ],
             [
              1,
              "#f0f921"
             ]
            ],
            "type": "contour"
           }
          ],
          "contourcarpet": [
           {
            "colorbar": {
             "outlinewidth": 0,
             "ticks": ""
            },
            "type": "contourcarpet"
           }
          ],
          "heatmap": [
           {
            "colorbar": {
             "outlinewidth": 0,
             "ticks": ""
            },
            "colorscale": [
             [
              0,
              "#0d0887"
             ],
             [
              0.1111111111111111,
              "#46039f"
             ],
             [
              0.2222222222222222,
              "#7201a8"
             ],
             [
              0.3333333333333333,
              "#9c179e"
             ],
             [
              0.4444444444444444,
              "#bd3786"
             ],
             [
              0.5555555555555556,
              "#d8576b"
             ],
             [
              0.6666666666666666,
              "#ed7953"
             ],
             [
              0.7777777777777778,
              "#fb9f3a"
             ],
             [
              0.8888888888888888,
              "#fdca26"
             ],
             [
              1,
              "#f0f921"
             ]
            ],
            "type": "heatmap"
           }
          ],
          "heatmapgl": [
           {
            "colorbar": {
             "outlinewidth": 0,
             "ticks": ""
            },
            "colorscale": [
             [
              0,
              "#0d0887"
             ],
             [
              0.1111111111111111,
              "#46039f"
             ],
             [
              0.2222222222222222,
              "#7201a8"
             ],
             [
              0.3333333333333333,
              "#9c179e"
             ],
             [
              0.4444444444444444,
              "#bd3786"
             ],
             [
              0.5555555555555556,
              "#d8576b"
             ],
             [
              0.6666666666666666,
              "#ed7953"
             ],
             [
              0.7777777777777778,
              "#fb9f3a"
             ],
             [
              0.8888888888888888,
              "#fdca26"
             ],
             [
              1,
              "#f0f921"
             ]
            ],
            "type": "heatmapgl"
           }
          ],
          "histogram": [
           {
            "marker": {
             "pattern": {
              "fillmode": "overlay",
              "size": 10,
              "solidity": 0.2
             }
            },
            "type": "histogram"
           }
          ],
          "histogram2d": [
           {
            "colorbar": {
             "outlinewidth": 0,
             "ticks": ""
            },
            "colorscale": [
             [
              0,
              "#0d0887"
             ],
             [
              0.1111111111111111,
              "#46039f"
             ],
             [
              0.2222222222222222,
              "#7201a8"
             ],
             [
              0.3333333333333333,
              "#9c179e"
             ],
             [
              0.4444444444444444,
              "#bd3786"
             ],
             [
              0.5555555555555556,
              "#d8576b"
             ],
             [
              0.6666666666666666,
              "#ed7953"
             ],
             [
              0.7777777777777778,
              "#fb9f3a"
             ],
             [
              0.8888888888888888,
              "#fdca26"
             ],
             [
              1,
              "#f0f921"
             ]
            ],
            "type": "histogram2d"
           }
          ],
          "histogram2dcontour": [
           {
            "colorbar": {
             "outlinewidth": 0,
             "ticks": ""
            },
            "colorscale": [
             [
              0,
              "#0d0887"
             ],
             [
              0.1111111111111111,
              "#46039f"
             ],
             [
              0.2222222222222222,
              "#7201a8"
             ],
             [
              0.3333333333333333,
              "#9c179e"
             ],
             [
              0.4444444444444444,
              "#bd3786"
             ],
             [
              0.5555555555555556,
              "#d8576b"
             ],
             [
              0.6666666666666666,
              "#ed7953"
             ],
             [
              0.7777777777777778,
              "#fb9f3a"
             ],
             [
              0.8888888888888888,
              "#fdca26"
             ],
             [
              1,
              "#f0f921"
             ]
            ],
            "type": "histogram2dcontour"
           }
          ],
          "mesh3d": [
           {
            "colorbar": {
             "outlinewidth": 0,
             "ticks": ""
            },
            "type": "mesh3d"
           }
          ],
          "parcoords": [
           {
            "line": {
             "colorbar": {
              "outlinewidth": 0,
              "ticks": ""
             }
            },
            "type": "parcoords"
           }
          ],
          "pie": [
           {
            "automargin": true,
            "type": "pie"
           }
          ],
          "scatter": [
           {
            "fillpattern": {
             "fillmode": "overlay",
             "size": 10,
             "solidity": 0.2
            },
            "type": "scatter"
           }
          ],
          "scatter3d": [
           {
            "line": {
             "colorbar": {
              "outlinewidth": 0,
              "ticks": ""
             }
            },
            "marker": {
             "colorbar": {
              "outlinewidth": 0,
              "ticks": ""
             }
            },
            "type": "scatter3d"
           }
          ],
          "scattercarpet": [
           {
            "marker": {
             "colorbar": {
              "outlinewidth": 0,
              "ticks": ""
             }
            },
            "type": "scattercarpet"
           }
          ],
          "scattergeo": [
           {
            "marker": {
             "colorbar": {
              "outlinewidth": 0,
              "ticks": ""
             }
            },
            "type": "scattergeo"
           }
          ],
          "scattergl": [
           {
            "marker": {
             "colorbar": {
              "outlinewidth": 0,
              "ticks": ""
             }
            },
            "type": "scattergl"
           }
          ],
          "scattermapbox": [
           {
            "marker": {
             "colorbar": {
              "outlinewidth": 0,
              "ticks": ""
             }
            },
            "type": "scattermapbox"
           }
          ],
          "scatterpolar": [
           {
            "marker": {
             "colorbar": {
              "outlinewidth": 0,
              "ticks": ""
             }
            },
            "type": "scatterpolar"
           }
          ],
          "scatterpolargl": [
           {
            "marker": {
             "colorbar": {
              "outlinewidth": 0,
              "ticks": ""
             }
            },
            "type": "scatterpolargl"
           }
          ],
          "scatterternary": [
           {
            "marker": {
             "colorbar": {
              "outlinewidth": 0,
              "ticks": ""
             }
            },
            "type": "scatterternary"
           }
          ],
          "surface": [
           {
            "colorbar": {
             "outlinewidth": 0,
             "ticks": ""
            },
            "colorscale": [
             [
              0,
              "#0d0887"
             ],
             [
              0.1111111111111111,
              "#46039f"
             ],
             [
              0.2222222222222222,
              "#7201a8"
             ],
             [
              0.3333333333333333,
              "#9c179e"
             ],
             [
              0.4444444444444444,
              "#bd3786"
             ],
             [
              0.5555555555555556,
              "#d8576b"
             ],
             [
              0.6666666666666666,
              "#ed7953"
             ],
             [
              0.7777777777777778,
              "#fb9f3a"
             ],
             [
              0.8888888888888888,
              "#fdca26"
             ],
             [
              1,
              "#f0f921"
             ]
            ],
            "type": "surface"
           }
          ],
          "table": [
           {
            "cells": {
             "fill": {
              "color": "#EBF0F8"
             },
             "line": {
              "color": "white"
             }
            },
            "header": {
             "fill": {
              "color": "#C8D4E3"
             },
             "line": {
              "color": "white"
             }
            },
            "type": "table"
           }
          ]
         },
         "layout": {
          "annotationdefaults": {
           "arrowcolor": "#2a3f5f",
           "arrowhead": 0,
           "arrowwidth": 1
          },
          "autotypenumbers": "strict",
          "coloraxis": {
           "colorbar": {
            "outlinewidth": 0,
            "ticks": ""
           }
          },
          "colorscale": {
           "diverging": [
            [
             0,
             "#8e0152"
            ],
            [
             0.1,
             "#c51b7d"
            ],
            [
             0.2,
             "#de77ae"
            ],
            [
             0.3,
             "#f1b6da"
            ],
            [
             0.4,
             "#fde0ef"
            ],
            [
             0.5,
             "#f7f7f7"
            ],
            [
             0.6,
             "#e6f5d0"
            ],
            [
             0.7,
             "#b8e186"
            ],
            [
             0.8,
             "#7fbc41"
            ],
            [
             0.9,
             "#4d9221"
            ],
            [
             1,
             "#276419"
            ]
           ],
           "sequential": [
            [
             0,
             "#0d0887"
            ],
            [
             0.1111111111111111,
             "#46039f"
            ],
            [
             0.2222222222222222,
             "#7201a8"
            ],
            [
             0.3333333333333333,
             "#9c179e"
            ],
            [
             0.4444444444444444,
             "#bd3786"
            ],
            [
             0.5555555555555556,
             "#d8576b"
            ],
            [
             0.6666666666666666,
             "#ed7953"
            ],
            [
             0.7777777777777778,
             "#fb9f3a"
            ],
            [
             0.8888888888888888,
             "#fdca26"
            ],
            [
             1,
             "#f0f921"
            ]
           ],
           "sequentialminus": [
            [
             0,
             "#0d0887"
            ],
            [
             0.1111111111111111,
             "#46039f"
            ],
            [
             0.2222222222222222,
             "#7201a8"
            ],
            [
             0.3333333333333333,
             "#9c179e"
            ],
            [
             0.4444444444444444,
             "#bd3786"
            ],
            [
             0.5555555555555556,
             "#d8576b"
            ],
            [
             0.6666666666666666,
             "#ed7953"
            ],
            [
             0.7777777777777778,
             "#fb9f3a"
            ],
            [
             0.8888888888888888,
             "#fdca26"
            ],
            [
             1,
             "#f0f921"
            ]
           ]
          },
          "colorway": [
           "#636efa",
           "#EF553B",
           "#00cc96",
           "#ab63fa",
           "#FFA15A",
           "#19d3f3",
           "#FF6692",
           "#B6E880",
           "#FF97FF",
           "#FECB52"
          ],
          "font": {
           "color": "#2a3f5f"
          },
          "geo": {
           "bgcolor": "white",
           "lakecolor": "white",
           "landcolor": "white",
           "showlakes": true,
           "showland": true,
           "subunitcolor": "#C8D4E3"
          },
          "hoverlabel": {
           "align": "left"
          },
          "hovermode": "closest",
          "mapbox": {
           "style": "light"
          },
          "paper_bgcolor": "white",
          "plot_bgcolor": "white",
          "polar": {
           "angularaxis": {
            "gridcolor": "#EBF0F8",
            "linecolor": "#EBF0F8",
            "ticks": ""
           },
           "bgcolor": "white",
           "radialaxis": {
            "gridcolor": "#EBF0F8",
            "linecolor": "#EBF0F8",
            "ticks": ""
           }
          },
          "scene": {
           "xaxis": {
            "backgroundcolor": "white",
            "gridcolor": "#DFE8F3",
            "gridwidth": 2,
            "linecolor": "#EBF0F8",
            "showbackground": true,
            "ticks": "",
            "zerolinecolor": "#EBF0F8"
           },
           "yaxis": {
            "backgroundcolor": "white",
            "gridcolor": "#DFE8F3",
            "gridwidth": 2,
            "linecolor": "#EBF0F8",
            "showbackground": true,
            "ticks": "",
            "zerolinecolor": "#EBF0F8"
           },
           "zaxis": {
            "backgroundcolor": "white",
            "gridcolor": "#DFE8F3",
            "gridwidth": 2,
            "linecolor": "#EBF0F8",
            "showbackground": true,
            "ticks": "",
            "zerolinecolor": "#EBF0F8"
           }
          },
          "shapedefaults": {
           "line": {
            "color": "#2a3f5f"
           }
          },
          "ternary": {
           "aaxis": {
            "gridcolor": "#DFE8F3",
            "linecolor": "#A2B1C6",
            "ticks": ""
           },
           "baxis": {
            "gridcolor": "#DFE8F3",
            "linecolor": "#A2B1C6",
            "ticks": ""
           },
           "bgcolor": "white",
           "caxis": {
            "gridcolor": "#DFE8F3",
            "linecolor": "#A2B1C6",
            "ticks": ""
           }
          },
          "title": {
           "x": 0.05
          },
          "xaxis": {
           "automargin": true,
           "gridcolor": "#EBF0F8",
           "linecolor": "#EBF0F8",
           "ticks": "",
           "title": {
            "standoff": 15
           },
           "zerolinecolor": "#EBF0F8",
           "zerolinewidth": 2
          },
          "yaxis": {
           "automargin": true,
           "gridcolor": "#EBF0F8",
           "linecolor": "#EBF0F8",
           "ticks": "",
           "title": {
            "standoff": 15
           },
           "zerolinecolor": "#EBF0F8",
           "zerolinewidth": 2
          }
         }
        },
        "title": {
         "text": "Trend in Annual Rainfall in India (1901-2015)"
        },
        "xaxis": {
         "title": {
          "text": "Year"
         }
        },
        "yaxis": {
         "title": {
          "text": "Rainfall (mm)"
         }
        }
       }
      }
     },
     "metadata": {},
     "output_type": "display_data"
    }
   ],
   "source": [
    "import plotly.graph_objects as go\n",
    "import plotly.express as px\n",
    "\n",
    "# analyze trends in annual rainfall over time\n",
    "annual_rainfall = rainfall_data[['YEAR', 'ANNUAL']]\n",
    "\n",
    "fig_annual = go.Figure()\n",
    "fig_annual.add_trace(go.Scatter(\n",
    "    x=annual_rainfall['YEAR'],\n",
    "    y=annual_rainfall['ANNUAL'],\n",
    "    mode='lines',\n",
    "    name='Annual Rainfall',\n",
    "    line=dict(color='blue', width=2),\n",
    "    opacity=0.7\n",
    "))\n",
    "\n",
    "fig_annual.add_trace(go.Scatter(\n",
    "    x=annual_rainfall['YEAR'],\n",
    "    y=[annual_rainfall['ANNUAL'].mean()] * len(annual_rainfall),\n",
    "    mode='lines',\n",
    "    name='Mean Rainfall',\n",
    "    line=dict(color='red', dash='dash')\n",
    "))\n",
    "\n",
    "fig_annual.update_layout(\n",
    "    title='Trend in Annual Rainfall in India (1901-2015)',\n",
    "    xaxis_title='Year',\n",
    "    yaxis_title='Rainfall (mm)',\n",
    "    template='plotly_white',\n",
    "    legend=dict(title='Legend'),\n",
    "    height=500\n",
    ")\n",
    "fig_annual"
   ]
  },
  {
   "cell_type": "code",
   "execution_count": 63,
   "metadata": {},
   "outputs": [
    {
     "data": {
      "text/plain": [
       "JAN     19.759130\n",
       "FEB     23.434783\n",
       "MAR     28.254783\n",
       "APR     38.241739\n",
       "MAY     62.193913\n",
       "JUN    168.360000\n",
       "JUL    291.022609\n",
       "AUG    258.400870\n",
       "SEP    172.473043\n",
       "OCT     75.701739\n",
       "NOV     29.205217\n",
       "DEC     14.980000\n",
       "dtype: float64"
      ]
     },
     "execution_count": 63,
     "metadata": {},
     "output_type": "execute_result"
    }
   ],
   "source": [
    "# identify months with the highest and lowest rainfall on average\n",
    "monthly_columns = ['JAN', 'FEB', 'MAR', 'APR', 'MAY', 'JUN', 'JUL', 'AUG', 'SEP',\n",
    "                    'OCT', 'NOV', 'DEC']\n",
    "monthly_avg = rainfall_data[monthly_columns].mean()\n",
    "\n",
    "highest_rainfall_month = monthly_avg.idxmax()\n",
    "lowest_raingall_month  = monthly_avg.idxmin()\n",
    "monthly_avg"
   ]
  },
  {
   "cell_type": "code",
   "execution_count": 64,
   "metadata": {},
   "outputs": [
    {
     "data": {
      "application/vnd.plotly.v1+json": {
       "config": {
        "plotlyServerURL": "https://plot.ly"
       },
       "data": [
        {
         "alignmentgroup": "True",
         "hovertemplate": "Month=%{x}<br>Rainfall (mm)=%{y}<br>text=%{text}<extra></extra>",
         "legendgroup": "",
         "marker": {
          "color": "skyblue",
          "line": {
           "color": "black",
           "width": 2
          },
          "pattern": {
           "shape": ""
          }
         },
         "name": "",
         "offsetgroup": "",
         "orientation": "v",
         "showlegend": false,
         "text": [
          19.759130434782616,
          23.434782608695652,
          28.25478260869565,
          38.24173913043477,
          62.19391304347827,
          168.36,
          291.02260869565225,
          258.4008695652174,
          172.47304347826088,
          75.70173913043477,
          29.20521739130435,
          14.98
         ],
         "textposition": "auto",
         "type": "bar",
         "x": [
          "JAN",
          "FEB",
          "MAR",
          "APR",
          "MAY",
          "JUN",
          "JUL",
          "AUG",
          "SEP",
          "OCT",
          "NOV",
          "DEC"
         ],
         "xaxis": "x",
         "y": [
          19.759130434782616,
          23.434782608695652,
          28.25478260869565,
          38.24173913043477,
          62.19391304347827,
          168.36,
          291.02260869565225,
          258.4008695652174,
          172.47304347826088,
          75.70173913043477,
          29.20521739130435,
          14.98
         ],
         "yaxis": "y"
        }
       ],
       "layout": {
        "annotations": [
         {
          "showarrow": false,
          "text": "Mean Rainfall",
          "x": 1,
          "xanchor": "right",
          "xref": "x domain",
          "y": 98.50231884057972,
          "yanchor": "bottom",
          "yref": "y"
         }
        ],
        "barmode": "relative",
        "height": 500,
        "legend": {
         "tracegroupgap": 0
        },
        "shapes": [
         {
          "line": {
           "color": "red",
           "dash": "dash"
          },
          "type": "line",
          "x0": 0,
          "x1": 1,
          "xref": "x domain",
          "y0": 98.50231884057972,
          "y1": 98.50231884057972,
          "yref": "y"
         }
        ],
        "template": {
         "data": {
          "bar": [
           {
            "error_x": {
             "color": "#2a3f5f"
            },
            "error_y": {
             "color": "#2a3f5f"
            },
            "marker": {
             "line": {
              "color": "white",
              "width": 0.5
             },
             "pattern": {
              "fillmode": "overlay",
              "size": 10,
              "solidity": 0.2
             }
            },
            "type": "bar"
           }
          ],
          "barpolar": [
           {
            "marker": {
             "line": {
              "color": "white",
              "width": 0.5
             },
             "pattern": {
              "fillmode": "overlay",
              "size": 10,
              "solidity": 0.2
             }
            },
            "type": "barpolar"
           }
          ],
          "carpet": [
           {
            "aaxis": {
             "endlinecolor": "#2a3f5f",
             "gridcolor": "#C8D4E3",
             "linecolor": "#C8D4E3",
             "minorgridcolor": "#C8D4E3",
             "startlinecolor": "#2a3f5f"
            },
            "baxis": {
             "endlinecolor": "#2a3f5f",
             "gridcolor": "#C8D4E3",
             "linecolor": "#C8D4E3",
             "minorgridcolor": "#C8D4E3",
             "startlinecolor": "#2a3f5f"
            },
            "type": "carpet"
           }
          ],
          "choropleth": [
           {
            "colorbar": {
             "outlinewidth": 0,
             "ticks": ""
            },
            "type": "choropleth"
           }
          ],
          "contour": [
           {
            "colorbar": {
             "outlinewidth": 0,
             "ticks": ""
            },
            "colorscale": [
             [
              0,
              "#0d0887"
             ],
             [
              0.1111111111111111,
              "#46039f"
             ],
             [
              0.2222222222222222,
              "#7201a8"
             ],
             [
              0.3333333333333333,
              "#9c179e"
             ],
             [
              0.4444444444444444,
              "#bd3786"
             ],
             [
              0.5555555555555556,
              "#d8576b"
             ],
             [
              0.6666666666666666,
              "#ed7953"
             ],
             [
              0.7777777777777778,
              "#fb9f3a"
             ],
             [
              0.8888888888888888,
              "#fdca26"
             ],
             [
              1,
              "#f0f921"
             ]
            ],
            "type": "contour"
           }
          ],
          "contourcarpet": [
           {
            "colorbar": {
             "outlinewidth": 0,
             "ticks": ""
            },
            "type": "contourcarpet"
           }
          ],
          "heatmap": [
           {
            "colorbar": {
             "outlinewidth": 0,
             "ticks": ""
            },
            "colorscale": [
             [
              0,
              "#0d0887"
             ],
             [
              0.1111111111111111,
              "#46039f"
             ],
             [
              0.2222222222222222,
              "#7201a8"
             ],
             [
              0.3333333333333333,
              "#9c179e"
             ],
             [
              0.4444444444444444,
              "#bd3786"
             ],
             [
              0.5555555555555556,
              "#d8576b"
             ],
             [
              0.6666666666666666,
              "#ed7953"
             ],
             [
              0.7777777777777778,
              "#fb9f3a"
             ],
             [
              0.8888888888888888,
              "#fdca26"
             ],
             [
              1,
              "#f0f921"
             ]
            ],
            "type": "heatmap"
           }
          ],
          "heatmapgl": [
           {
            "colorbar": {
             "outlinewidth": 0,
             "ticks": ""
            },
            "colorscale": [
             [
              0,
              "#0d0887"
             ],
             [
              0.1111111111111111,
              "#46039f"
             ],
             [
              0.2222222222222222,
              "#7201a8"
             ],
             [
              0.3333333333333333,
              "#9c179e"
             ],
             [
              0.4444444444444444,
              "#bd3786"
             ],
             [
              0.5555555555555556,
              "#d8576b"
             ],
             [
              0.6666666666666666,
              "#ed7953"
             ],
             [
              0.7777777777777778,
              "#fb9f3a"
             ],
             [
              0.8888888888888888,
              "#fdca26"
             ],
             [
              1,
              "#f0f921"
             ]
            ],
            "type": "heatmapgl"
           }
          ],
          "histogram": [
           {
            "marker": {
             "pattern": {
              "fillmode": "overlay",
              "size": 10,
              "solidity": 0.2
             }
            },
            "type": "histogram"
           }
          ],
          "histogram2d": [
           {
            "colorbar": {
             "outlinewidth": 0,
             "ticks": ""
            },
            "colorscale": [
             [
              0,
              "#0d0887"
             ],
             [
              0.1111111111111111,
              "#46039f"
             ],
             [
              0.2222222222222222,
              "#7201a8"
             ],
             [
              0.3333333333333333,
              "#9c179e"
             ],
             [
              0.4444444444444444,
              "#bd3786"
             ],
             [
              0.5555555555555556,
              "#d8576b"
             ],
             [
              0.6666666666666666,
              "#ed7953"
             ],
             [
              0.7777777777777778,
              "#fb9f3a"
             ],
             [
              0.8888888888888888,
              "#fdca26"
             ],
             [
              1,
              "#f0f921"
             ]
            ],
            "type": "histogram2d"
           }
          ],
          "histogram2dcontour": [
           {
            "colorbar": {
             "outlinewidth": 0,
             "ticks": ""
            },
            "colorscale": [
             [
              0,
              "#0d0887"
             ],
             [
              0.1111111111111111,
              "#46039f"
             ],
             [
              0.2222222222222222,
              "#7201a8"
             ],
             [
              0.3333333333333333,
              "#9c179e"
             ],
             [
              0.4444444444444444,
              "#bd3786"
             ],
             [
              0.5555555555555556,
              "#d8576b"
             ],
             [
              0.6666666666666666,
              "#ed7953"
             ],
             [
              0.7777777777777778,
              "#fb9f3a"
             ],
             [
              0.8888888888888888,
              "#fdca26"
             ],
             [
              1,
              "#f0f921"
             ]
            ],
            "type": "histogram2dcontour"
           }
          ],
          "mesh3d": [
           {
            "colorbar": {
             "outlinewidth": 0,
             "ticks": ""
            },
            "type": "mesh3d"
           }
          ],
          "parcoords": [
           {
            "line": {
             "colorbar": {
              "outlinewidth": 0,
              "ticks": ""
             }
            },
            "type": "parcoords"
           }
          ],
          "pie": [
           {
            "automargin": true,
            "type": "pie"
           }
          ],
          "scatter": [
           {
            "fillpattern": {
             "fillmode": "overlay",
             "size": 10,
             "solidity": 0.2
            },
            "type": "scatter"
           }
          ],
          "scatter3d": [
           {
            "line": {
             "colorbar": {
              "outlinewidth": 0,
              "ticks": ""
             }
            },
            "marker": {
             "colorbar": {
              "outlinewidth": 0,
              "ticks": ""
             }
            },
            "type": "scatter3d"
           }
          ],
          "scattercarpet": [
           {
            "marker": {
             "colorbar": {
              "outlinewidth": 0,
              "ticks": ""
             }
            },
            "type": "scattercarpet"
           }
          ],
          "scattergeo": [
           {
            "marker": {
             "colorbar": {
              "outlinewidth": 0,
              "ticks": ""
             }
            },
            "type": "scattergeo"
           }
          ],
          "scattergl": [
           {
            "marker": {
             "colorbar": {
              "outlinewidth": 0,
              "ticks": ""
             }
            },
            "type": "scattergl"
           }
          ],
          "scattermapbox": [
           {
            "marker": {
             "colorbar": {
              "outlinewidth": 0,
              "ticks": ""
             }
            },
            "type": "scattermapbox"
           }
          ],
          "scatterpolar": [
           {
            "marker": {
             "colorbar": {
              "outlinewidth": 0,
              "ticks": ""
             }
            },
            "type": "scatterpolar"
           }
          ],
          "scatterpolargl": [
           {
            "marker": {
             "colorbar": {
              "outlinewidth": 0,
              "ticks": ""
             }
            },
            "type": "scatterpolargl"
           }
          ],
          "scatterternary": [
           {
            "marker": {
             "colorbar": {
              "outlinewidth": 0,
              "ticks": ""
             }
            },
            "type": "scatterternary"
           }
          ],
          "surface": [
           {
            "colorbar": {
             "outlinewidth": 0,
             "ticks": ""
            },
            "colorscale": [
             [
              0,
              "#0d0887"
             ],
             [
              0.1111111111111111,
              "#46039f"
             ],
             [
              0.2222222222222222,
              "#7201a8"
             ],
             [
              0.3333333333333333,
              "#9c179e"
             ],
             [
              0.4444444444444444,
              "#bd3786"
             ],
             [
              0.5555555555555556,
              "#d8576b"
             ],
             [
              0.6666666666666666,
              "#ed7953"
             ],
             [
              0.7777777777777778,
              "#fb9f3a"
             ],
             [
              0.8888888888888888,
              "#fdca26"
             ],
             [
              1,
              "#f0f921"
             ]
            ],
            "type": "surface"
           }
          ],
          "table": [
           {
            "cells": {
             "fill": {
              "color": "#EBF0F8"
             },
             "line": {
              "color": "white"
             }
            },
            "header": {
             "fill": {
              "color": "#C8D4E3"
             },
             "line": {
              "color": "white"
             }
            },
            "type": "table"
           }
          ]
         },
         "layout": {
          "annotationdefaults": {
           "arrowcolor": "#2a3f5f",
           "arrowhead": 0,
           "arrowwidth": 1
          },
          "autotypenumbers": "strict",
          "coloraxis": {
           "colorbar": {
            "outlinewidth": 0,
            "ticks": ""
           }
          },
          "colorscale": {
           "diverging": [
            [
             0,
             "#8e0152"
            ],
            [
             0.1,
             "#c51b7d"
            ],
            [
             0.2,
             "#de77ae"
            ],
            [
             0.3,
             "#f1b6da"
            ],
            [
             0.4,
             "#fde0ef"
            ],
            [
             0.5,
             "#f7f7f7"
            ],
            [
             0.6,
             "#e6f5d0"
            ],
            [
             0.7,
             "#b8e186"
            ],
            [
             0.8,
             "#7fbc41"
            ],
            [
             0.9,
             "#4d9221"
            ],
            [
             1,
             "#276419"
            ]
           ],
           "sequential": [
            [
             0,
             "#0d0887"
            ],
            [
             0.1111111111111111,
             "#46039f"
            ],
            [
             0.2222222222222222,
             "#7201a8"
            ],
            [
             0.3333333333333333,
             "#9c179e"
            ],
            [
             0.4444444444444444,
             "#bd3786"
            ],
            [
             0.5555555555555556,
             "#d8576b"
            ],
            [
             0.6666666666666666,
             "#ed7953"
            ],
            [
             0.7777777777777778,
             "#fb9f3a"
            ],
            [
             0.8888888888888888,
             "#fdca26"
            ],
            [
             1,
             "#f0f921"
            ]
           ],
           "sequentialminus": [
            [
             0,
             "#0d0887"
            ],
            [
             0.1111111111111111,
             "#46039f"
            ],
            [
             0.2222222222222222,
             "#7201a8"
            ],
            [
             0.3333333333333333,
             "#9c179e"
            ],
            [
             0.4444444444444444,
             "#bd3786"
            ],
            [
             0.5555555555555556,
             "#d8576b"
            ],
            [
             0.6666666666666666,
             "#ed7953"
            ],
            [
             0.7777777777777778,
             "#fb9f3a"
            ],
            [
             0.8888888888888888,
             "#fdca26"
            ],
            [
             1,
             "#f0f921"
            ]
           ]
          },
          "colorway": [
           "#636efa",
           "#EF553B",
           "#00cc96",
           "#ab63fa",
           "#FFA15A",
           "#19d3f3",
           "#FF6692",
           "#B6E880",
           "#FF97FF",
           "#FECB52"
          ],
          "font": {
           "color": "#2a3f5f"
          },
          "geo": {
           "bgcolor": "white",
           "lakecolor": "white",
           "landcolor": "white",
           "showlakes": true,
           "showland": true,
           "subunitcolor": "#C8D4E3"
          },
          "hoverlabel": {
           "align": "left"
          },
          "hovermode": "closest",
          "mapbox": {
           "style": "light"
          },
          "paper_bgcolor": "white",
          "plot_bgcolor": "white",
          "polar": {
           "angularaxis": {
            "gridcolor": "#EBF0F8",
            "linecolor": "#EBF0F8",
            "ticks": ""
           },
           "bgcolor": "white",
           "radialaxis": {
            "gridcolor": "#EBF0F8",
            "linecolor": "#EBF0F8",
            "ticks": ""
           }
          },
          "scene": {
           "xaxis": {
            "backgroundcolor": "white",
            "gridcolor": "#DFE8F3",
            "gridwidth": 2,
            "linecolor": "#EBF0F8",
            "showbackground": true,
            "ticks": "",
            "zerolinecolor": "#EBF0F8"
           },
           "yaxis": {
            "backgroundcolor": "white",
            "gridcolor": "#DFE8F3",
            "gridwidth": 2,
            "linecolor": "#EBF0F8",
            "showbackground": true,
            "ticks": "",
            "zerolinecolor": "#EBF0F8"
           },
           "zaxis": {
            "backgroundcolor": "white",
            "gridcolor": "#DFE8F3",
            "gridwidth": 2,
            "linecolor": "#EBF0F8",
            "showbackground": true,
            "ticks": "",
            "zerolinecolor": "#EBF0F8"
           }
          },
          "shapedefaults": {
           "line": {
            "color": "#2a3f5f"
           }
          },
          "ternary": {
           "aaxis": {
            "gridcolor": "#DFE8F3",
            "linecolor": "#A2B1C6",
            "ticks": ""
           },
           "baxis": {
            "gridcolor": "#DFE8F3",
            "linecolor": "#A2B1C6",
            "ticks": ""
           },
           "bgcolor": "white",
           "caxis": {
            "gridcolor": "#DFE8F3",
            "linecolor": "#A2B1C6",
            "ticks": ""
           }
          },
          "title": {
           "x": 0.05
          },
          "xaxis": {
           "automargin": true,
           "gridcolor": "#EBF0F8",
           "linecolor": "#EBF0F8",
           "ticks": "",
           "title": {
            "standoff": 15
           },
           "zerolinecolor": "#EBF0F8",
           "zerolinewidth": 2
          },
          "yaxis": {
           "automargin": true,
           "gridcolor": "#EBF0F8",
           "linecolor": "#EBF0F8",
           "ticks": "",
           "title": {
            "standoff": 15
           },
           "zerolinecolor": "#EBF0F8",
           "zerolinewidth": 2
          }
         }
        },
        "title": {
         "text": "Average Monthly Rainfall in India (1901-2015)"
        },
        "xaxis": {
         "anchor": "y",
         "domain": [
          0,
          1
         ],
         "title": {
          "text": "Month"
         }
        },
        "yaxis": {
         "anchor": "x",
         "domain": [
          0,
          1
         ],
         "title": {
          "text": "Rainfall (mm)"
         }
        }
       }
      }
     },
     "metadata": {},
     "output_type": "display_data"
    }
   ],
   "source": [
    "fig_monthly = px.bar(\n",
    "    x=monthly_avg.index,\n",
    "    y=monthly_avg.values,\n",
    "    labels={'x': 'Month', 'y': 'Rainfall (mm)'},\n",
    "    title='Average Monthly Rainfall in India (1901-2015)',\n",
    "    text=monthly_avg.values\n",
    ")\n",
    "fig_monthly.add_hline(\n",
    "    y=monthly_avg.mean(),\n",
    "    line_dash='dash',\n",
    "    line_color='red',\n",
    "    annotation_text='Mean Rainfall',\n",
    "    annotation_position='top right'\n",
    ")\n",
    "fig_monthly.update_traces(marker_color='skyblue', marker_line_color='black', marker_line_width=2)\n",
    "fig_monthly.update_layout(template='plotly_white', height=500)\n",
    "fig_monthly"
   ]
  },
  {
   "cell_type": "code",
   "execution_count": 65,
   "metadata": {},
   "outputs": [
    {
     "data": {
      "text/plain": [
       "Jan-Feb     43.189565\n",
       "Mar-May    128.694783\n",
       "Jun-Sep    890.260870\n",
       "Oct-Dec    119.882609\n",
       "dtype: float64"
      ]
     },
     "execution_count": 65,
     "metadata": {},
     "output_type": "execute_result"
    }
   ],
   "source": [
    "# Seasonal rainfall distribution\n",
    "seasonal_columns = ['Jan-Feb', 'Mar-May', 'Jun-Sep', 'Oct-Dec']\n",
    "seasonal_avg = rainfall_data[seasonal_columns].mean()\n",
    "seasonal_avg"
   ]
  },
  {
   "cell_type": "code",
   "execution_count": 66,
   "metadata": {},
   "outputs": [
    {
     "data": {
      "application/vnd.plotly.v1+json": {
       "config": {
        "plotlyServerURL": "https://plot.ly"
       },
       "data": [
        {
         "alignmentgroup": "True",
         "hovertemplate": "Season=%{x}<br>Rainfall (mm)=%{y}<br>text=%{text}<br>color=%{marker.color}<extra></extra>",
         "legendgroup": "",
         "marker": {
          "color": [
           43.18956521739129,
           128.69478260869565,
           890.2608695652175,
           119.88260869565218
          ],
          "coloraxis": "coloraxis",
          "line": {
           "color": "black",
           "width": 1
          },
          "pattern": {
           "shape": ""
          }
         },
         "name": "",
         "offsetgroup": "",
         "orientation": "v",
         "showlegend": false,
         "text": [
          43.18956521739129,
          128.69478260869565,
          890.2608695652175,
          119.88260869565218
         ],
         "textposition": "auto",
         "type": "bar",
         "x": [
          "Jan-Feb",
          "Mar-May",
          "Jun-Sep",
          "Oct-Dec"
         ],
         "xaxis": "x",
         "y": [
          43.18956521739129,
          128.69478260869565,
          890.2608695652175,
          119.88260869565218
         ],
         "yaxis": "y"
        }
       ],
       "layout": {
        "annotations": [
         {
          "showarrow": false,
          "text": "Mean Seasonal Rainfall",
          "x": 0,
          "xanchor": "left",
          "xref": "x domain",
          "y": 295.50695652173914,
          "yanchor": "bottom",
          "yref": "y"
         }
        ],
        "barmode": "relative",
        "coloraxis": {
         "colorbar": {
          "title": {
           "text": "mm"
          }
         },
         "colorscale": [
          [
           0,
           "gold"
          ],
          [
           0.3333333333333333,
           "skyblue"
          ],
          [
           0.6666666666666666,
           "green"
          ],
          [
           1,
           "orange"
          ]
         ]
        },
        "height": 500,
        "legend": {
         "tracegroupgap": 0
        },
        "shapes": [
         {
          "line": {
           "color": "red",
           "dash": "dash"
          },
          "type": "line",
          "x0": 0,
          "x1": 1,
          "xref": "x domain",
          "y0": 295.50695652173914,
          "y1": 295.50695652173914,
          "yref": "y"
         }
        ],
        "template": {
         "data": {
          "bar": [
           {
            "error_x": {
             "color": "#2a3f5f"
            },
            "error_y": {
             "color": "#2a3f5f"
            },
            "marker": {
             "line": {
              "color": "white",
              "width": 0.5
             },
             "pattern": {
              "fillmode": "overlay",
              "size": 10,
              "solidity": 0.2
             }
            },
            "type": "bar"
           }
          ],
          "barpolar": [
           {
            "marker": {
             "line": {
              "color": "white",
              "width": 0.5
             },
             "pattern": {
              "fillmode": "overlay",
              "size": 10,
              "solidity": 0.2
             }
            },
            "type": "barpolar"
           }
          ],
          "carpet": [
           {
            "aaxis": {
             "endlinecolor": "#2a3f5f",
             "gridcolor": "#C8D4E3",
             "linecolor": "#C8D4E3",
             "minorgridcolor": "#C8D4E3",
             "startlinecolor": "#2a3f5f"
            },
            "baxis": {
             "endlinecolor": "#2a3f5f",
             "gridcolor": "#C8D4E3",
             "linecolor": "#C8D4E3",
             "minorgridcolor": "#C8D4E3",
             "startlinecolor": "#2a3f5f"
            },
            "type": "carpet"
           }
          ],
          "choropleth": [
           {
            "colorbar": {
             "outlinewidth": 0,
             "ticks": ""
            },
            "type": "choropleth"
           }
          ],
          "contour": [
           {
            "colorbar": {
             "outlinewidth": 0,
             "ticks": ""
            },
            "colorscale": [
             [
              0,
              "#0d0887"
             ],
             [
              0.1111111111111111,
              "#46039f"
             ],
             [
              0.2222222222222222,
              "#7201a8"
             ],
             [
              0.3333333333333333,
              "#9c179e"
             ],
             [
              0.4444444444444444,
              "#bd3786"
             ],
             [
              0.5555555555555556,
              "#d8576b"
             ],
             [
              0.6666666666666666,
              "#ed7953"
             ],
             [
              0.7777777777777778,
              "#fb9f3a"
             ],
             [
              0.8888888888888888,
              "#fdca26"
             ],
             [
              1,
              "#f0f921"
             ]
            ],
            "type": "contour"
           }
          ],
          "contourcarpet": [
           {
            "colorbar": {
             "outlinewidth": 0,
             "ticks": ""
            },
            "type": "contourcarpet"
           }
          ],
          "heatmap": [
           {
            "colorbar": {
             "outlinewidth": 0,
             "ticks": ""
            },
            "colorscale": [
             [
              0,
              "#0d0887"
             ],
             [
              0.1111111111111111,
              "#46039f"
             ],
             [
              0.2222222222222222,
              "#7201a8"
             ],
             [
              0.3333333333333333,
              "#9c179e"
             ],
             [
              0.4444444444444444,
              "#bd3786"
             ],
             [
              0.5555555555555556,
              "#d8576b"
             ],
             [
              0.6666666666666666,
              "#ed7953"
             ],
             [
              0.7777777777777778,
              "#fb9f3a"
             ],
             [
              0.8888888888888888,
              "#fdca26"
             ],
             [
              1,
              "#f0f921"
             ]
            ],
            "type": "heatmap"
           }
          ],
          "heatmapgl": [
           {
            "colorbar": {
             "outlinewidth": 0,
             "ticks": ""
            },
            "colorscale": [
             [
              0,
              "#0d0887"
             ],
             [
              0.1111111111111111,
              "#46039f"
             ],
             [
              0.2222222222222222,
              "#7201a8"
             ],
             [
              0.3333333333333333,
              "#9c179e"
             ],
             [
              0.4444444444444444,
              "#bd3786"
             ],
             [
              0.5555555555555556,
              "#d8576b"
             ],
             [
              0.6666666666666666,
              "#ed7953"
             ],
             [
              0.7777777777777778,
              "#fb9f3a"
             ],
             [
              0.8888888888888888,
              "#fdca26"
             ],
             [
              1,
              "#f0f921"
             ]
            ],
            "type": "heatmapgl"
           }
          ],
          "histogram": [
           {
            "marker": {
             "pattern": {
              "fillmode": "overlay",
              "size": 10,
              "solidity": 0.2
             }
            },
            "type": "histogram"
           }
          ],
          "histogram2d": [
           {
            "colorbar": {
             "outlinewidth": 0,
             "ticks": ""
            },
            "colorscale": [
             [
              0,
              "#0d0887"
             ],
             [
              0.1111111111111111,
              "#46039f"
             ],
             [
              0.2222222222222222,
              "#7201a8"
             ],
             [
              0.3333333333333333,
              "#9c179e"
             ],
             [
              0.4444444444444444,
              "#bd3786"
             ],
             [
              0.5555555555555556,
              "#d8576b"
             ],
             [
              0.6666666666666666,
              "#ed7953"
             ],
             [
              0.7777777777777778,
              "#fb9f3a"
             ],
             [
              0.8888888888888888,
              "#fdca26"
             ],
             [
              1,
              "#f0f921"
             ]
            ],
            "type": "histogram2d"
           }
          ],
          "histogram2dcontour": [
           {
            "colorbar": {
             "outlinewidth": 0,
             "ticks": ""
            },
            "colorscale": [
             [
              0,
              "#0d0887"
             ],
             [
              0.1111111111111111,
              "#46039f"
             ],
             [
              0.2222222222222222,
              "#7201a8"
             ],
             [
              0.3333333333333333,
              "#9c179e"
             ],
             [
              0.4444444444444444,
              "#bd3786"
             ],
             [
              0.5555555555555556,
              "#d8576b"
             ],
             [
              0.6666666666666666,
              "#ed7953"
             ],
             [
              0.7777777777777778,
              "#fb9f3a"
             ],
             [
              0.8888888888888888,
              "#fdca26"
             ],
             [
              1,
              "#f0f921"
             ]
            ],
            "type": "histogram2dcontour"
           }
          ],
          "mesh3d": [
           {
            "colorbar": {
             "outlinewidth": 0,
             "ticks": ""
            },
            "type": "mesh3d"
           }
          ],
          "parcoords": [
           {
            "line": {
             "colorbar": {
              "outlinewidth": 0,
              "ticks": ""
             }
            },
            "type": "parcoords"
           }
          ],
          "pie": [
           {
            "automargin": true,
            "type": "pie"
           }
          ],
          "scatter": [
           {
            "fillpattern": {
             "fillmode": "overlay",
             "size": 10,
             "solidity": 0.2
            },
            "type": "scatter"
           }
          ],
          "scatter3d": [
           {
            "line": {
             "colorbar": {
              "outlinewidth": 0,
              "ticks": ""
             }
            },
            "marker": {
             "colorbar": {
              "outlinewidth": 0,
              "ticks": ""
             }
            },
            "type": "scatter3d"
           }
          ],
          "scattercarpet": [
           {
            "marker": {
             "colorbar": {
              "outlinewidth": 0,
              "ticks": ""
             }
            },
            "type": "scattercarpet"
           }
          ],
          "scattergeo": [
           {
            "marker": {
             "colorbar": {
              "outlinewidth": 0,
              "ticks": ""
             }
            },
            "type": "scattergeo"
           }
          ],
          "scattergl": [
           {
            "marker": {
             "colorbar": {
              "outlinewidth": 0,
              "ticks": ""
             }
            },
            "type": "scattergl"
           }
          ],
          "scattermapbox": [
           {
            "marker": {
             "colorbar": {
              "outlinewidth": 0,
              "ticks": ""
             }
            },
            "type": "scattermapbox"
           }
          ],
          "scatterpolar": [
           {
            "marker": {
             "colorbar": {
              "outlinewidth": 0,
              "ticks": ""
             }
            },
            "type": "scatterpolar"
           }
          ],
          "scatterpolargl": [
           {
            "marker": {
             "colorbar": {
              "outlinewidth": 0,
              "ticks": ""
             }
            },
            "type": "scatterpolargl"
           }
          ],
          "scatterternary": [
           {
            "marker": {
             "colorbar": {
              "outlinewidth": 0,
              "ticks": ""
             }
            },
            "type": "scatterternary"
           }
          ],
          "surface": [
           {
            "colorbar": {
             "outlinewidth": 0,
             "ticks": ""
            },
            "colorscale": [
             [
              0,
              "#0d0887"
             ],
             [
              0.1111111111111111,
              "#46039f"
             ],
             [
              0.2222222222222222,
              "#7201a8"
             ],
             [
              0.3333333333333333,
              "#9c179e"
             ],
             [
              0.4444444444444444,
              "#bd3786"
             ],
             [
              0.5555555555555556,
              "#d8576b"
             ],
             [
              0.6666666666666666,
              "#ed7953"
             ],
             [
              0.7777777777777778,
              "#fb9f3a"
             ],
             [
              0.8888888888888888,
              "#fdca26"
             ],
             [
              1,
              "#f0f921"
             ]
            ],
            "type": "surface"
           }
          ],
          "table": [
           {
            "cells": {
             "fill": {
              "color": "#EBF0F8"
             },
             "line": {
              "color": "white"
             }
            },
            "header": {
             "fill": {
              "color": "#C8D4E3"
             },
             "line": {
              "color": "white"
             }
            },
            "type": "table"
           }
          ]
         },
         "layout": {
          "annotationdefaults": {
           "arrowcolor": "#2a3f5f",
           "arrowhead": 0,
           "arrowwidth": 1
          },
          "autotypenumbers": "strict",
          "coloraxis": {
           "colorbar": {
            "outlinewidth": 0,
            "ticks": ""
           }
          },
          "colorscale": {
           "diverging": [
            [
             0,
             "#8e0152"
            ],
            [
             0.1,
             "#c51b7d"
            ],
            [
             0.2,
             "#de77ae"
            ],
            [
             0.3,
             "#f1b6da"
            ],
            [
             0.4,
             "#fde0ef"
            ],
            [
             0.5,
             "#f7f7f7"
            ],
            [
             0.6,
             "#e6f5d0"
            ],
            [
             0.7,
             "#b8e186"
            ],
            [
             0.8,
             "#7fbc41"
            ],
            [
             0.9,
             "#4d9221"
            ],
            [
             1,
             "#276419"
            ]
           ],
           "sequential": [
            [
             0,
             "#0d0887"
            ],
            [
             0.1111111111111111,
             "#46039f"
            ],
            [
             0.2222222222222222,
             "#7201a8"
            ],
            [
             0.3333333333333333,
             "#9c179e"
            ],
            [
             0.4444444444444444,
             "#bd3786"
            ],
            [
             0.5555555555555556,
             "#d8576b"
            ],
            [
             0.6666666666666666,
             "#ed7953"
            ],
            [
             0.7777777777777778,
             "#fb9f3a"
            ],
            [
             0.8888888888888888,
             "#fdca26"
            ],
            [
             1,
             "#f0f921"
            ]
           ],
           "sequentialminus": [
            [
             0,
             "#0d0887"
            ],
            [
             0.1111111111111111,
             "#46039f"
            ],
            [
             0.2222222222222222,
             "#7201a8"
            ],
            [
             0.3333333333333333,
             "#9c179e"
            ],
            [
             0.4444444444444444,
             "#bd3786"
            ],
            [
             0.5555555555555556,
             "#d8576b"
            ],
            [
             0.6666666666666666,
             "#ed7953"
            ],
            [
             0.7777777777777778,
             "#fb9f3a"
            ],
            [
             0.8888888888888888,
             "#fdca26"
            ],
            [
             1,
             "#f0f921"
            ]
           ]
          },
          "colorway": [
           "#636efa",
           "#EF553B",
           "#00cc96",
           "#ab63fa",
           "#FFA15A",
           "#19d3f3",
           "#FF6692",
           "#B6E880",
           "#FF97FF",
           "#FECB52"
          ],
          "font": {
           "color": "#2a3f5f"
          },
          "geo": {
           "bgcolor": "white",
           "lakecolor": "white",
           "landcolor": "white",
           "showlakes": true,
           "showland": true,
           "subunitcolor": "#C8D4E3"
          },
          "hoverlabel": {
           "align": "left"
          },
          "hovermode": "closest",
          "mapbox": {
           "style": "light"
          },
          "paper_bgcolor": "white",
          "plot_bgcolor": "white",
          "polar": {
           "angularaxis": {
            "gridcolor": "#EBF0F8",
            "linecolor": "#EBF0F8",
            "ticks": ""
           },
           "bgcolor": "white",
           "radialaxis": {
            "gridcolor": "#EBF0F8",
            "linecolor": "#EBF0F8",
            "ticks": ""
           }
          },
          "scene": {
           "xaxis": {
            "backgroundcolor": "white",
            "gridcolor": "#DFE8F3",
            "gridwidth": 2,
            "linecolor": "#EBF0F8",
            "showbackground": true,
            "ticks": "",
            "zerolinecolor": "#EBF0F8"
           },
           "yaxis": {
            "backgroundcolor": "white",
            "gridcolor": "#DFE8F3",
            "gridwidth": 2,
            "linecolor": "#EBF0F8",
            "showbackground": true,
            "ticks": "",
            "zerolinecolor": "#EBF0F8"
           },
           "zaxis": {
            "backgroundcolor": "white",
            "gridcolor": "#DFE8F3",
            "gridwidth": 2,
            "linecolor": "#EBF0F8",
            "showbackground": true,
            "ticks": "",
            "zerolinecolor": "#EBF0F8"
           }
          },
          "shapedefaults": {
           "line": {
            "color": "#2a3f5f"
           }
          },
          "ternary": {
           "aaxis": {
            "gridcolor": "#DFE8F3",
            "linecolor": "#A2B1C6",
            "ticks": ""
           },
           "baxis": {
            "gridcolor": "#DFE8F3",
            "linecolor": "#A2B1C6",
            "ticks": ""
           },
           "bgcolor": "white",
           "caxis": {
            "gridcolor": "#DFE8F3",
            "linecolor": "#A2B1C6",
            "ticks": ""
           }
          },
          "title": {
           "x": 0.05
          },
          "xaxis": {
           "automargin": true,
           "gridcolor": "#EBF0F8",
           "linecolor": "#EBF0F8",
           "ticks": "",
           "title": {
            "standoff": 15
           },
           "zerolinecolor": "#EBF0F8",
           "zerolinewidth": 2
          },
          "yaxis": {
           "automargin": true,
           "gridcolor": "#EBF0F8",
           "linecolor": "#EBF0F8",
           "ticks": "",
           "title": {
            "standoff": 15
           },
           "zerolinecolor": "#EBF0F8",
           "zerolinewidth": 2
          }
         }
        },
        "title": {
         "text": "Seasonal Rainfall Distribution in India (1901-2015)"
        },
        "xaxis": {
         "anchor": "y",
         "domain": [
          0,
          1
         ],
         "title": {
          "text": "Season"
         }
        },
        "yaxis": {
         "anchor": "x",
         "domain": [
          0,
          1
         ],
         "title": {
          "text": "Rainfall (mm)"
         }
        }
       }
      }
     },
     "metadata": {},
     "output_type": "display_data"
    }
   ],
   "source": [
    "fig_seasonal = px.bar(\n",
    "    x=seasonal_avg.index,\n",
    "    y=seasonal_avg.values,\n",
    "    labels={'x': 'Season', 'y': 'Rainfall (mm)'},\n",
    "    title='Seasonal Rainfall Distribution in India (1901-2015)',\n",
    "    text=seasonal_avg.values,\n",
    "    color=seasonal_avg.values,\n",
    "    color_continuous_scale=['gold', 'skyblue', 'green', 'orange']\n",
    ")\n",
    "fig_seasonal.add_hline(\n",
    "    y=seasonal_avg.mean(),\n",
    "    line_dash='dash',\n",
    "    line_color='red',\n",
    "    annotation_text = 'Mean Seasonal Rainfall',\n",
    "    annotation_position = 'top left'\n",
    ")\n",
    "\n",
    "fig_seasonal.update_traces(marker_line_color='black', marker_line_width=1)\n",
    "fig_seasonal.update_layout(\n",
    "    template='plotly_white',\n",
    "    height=500,\n",
    "    coloraxis_colorbar=dict(title='mm')\n",
    ")\n",
    "fig_seasonal"
   ]
  },
  {
   "cell_type": "markdown",
   "metadata": {},
   "source": [
    "Assessing the Impact of Climate Change in the Rainfall Trends in India"
   ]
  },
  {
   "cell_type": "code",
   "execution_count": 67,
   "metadata": {},
   "outputs": [
    {
     "data": {
      "text/plain": [
       "0          NaN\n",
       "1          NaN\n",
       "2          NaN\n",
       "3          NaN\n",
       "4          NaN\n",
       "        ...   \n",
       "110    1121.61\n",
       "111    1136.88\n",
       "112    1141.05\n",
       "113    1137.29\n",
       "114    1123.36\n",
       "Name: 10-Year Rolling Avg, Length: 115, dtype: float64"
      ]
     },
     "execution_count": 67,
     "metadata": {},
     "output_type": "execute_result"
    }
   ],
   "source": [
    "# Calculating rolling averages to assess climate change impact\n",
    "rainfall_data['10-Year Rolling Avg'] = rainfall_data['ANNUAL'].rolling(window=10).mean()\n",
    "rainfall_data['10-Year Rolling Avg']"
   ]
  },
  {
   "cell_type": "code",
   "execution_count": 68,
   "metadata": {},
   "outputs": [
    {
     "data": {
      "application/vnd.plotly.v1+json": {
       "config": {
        "plotlyServerURL": "https://plot.ly"
       },
       "data": [
        {
         "line": {
          "color": "blue",
          "width": 3
         },
         "mode": "lines",
         "name": "Annual Rainfall",
         "opacity": 0.6,
         "type": "scatter",
         "x": [
          1901,
          1902,
          1903,
          1904,
          1905,
          1906,
          1907,
          1908,
          1909,
          1910,
          1911,
          1912,
          1913,
          1914,
          1915,
          1916,
          1917,
          1918,
          1919,
          1920,
          1921,
          1922,
          1923,
          1924,
          1925,
          1926,
          1927,
          1928,
          1929,
          1930,
          1931,
          1932,
          1933,
          1934,
          1935,
          1936,
          1937,
          1938,
          1939,
          1940,
          1941,
          1942,
          1943,
          1944,
          1945,
          1946,
          1947,
          1948,
          1949,
          1950,
          1951,
          1952,
          1953,
          1954,
          1955,
          1956,
          1957,
          1958,
          1959,
          1960,
          1961,
          1962,
          1963,
          1964,
          1965,
          1966,
          1967,
          1968,
          1969,
          1970,
          1971,
          1972,
          1973,
          1974,
          1975,
          1976,
          1977,
          1978,
          1979,
          1980,
          1981,
          1982,
          1983,
          1984,
          1985,
          1986,
          1987,
          1988,
          1989,
          1990,
          1991,
          1992,
          1993,
          1994,
          1995,
          1996,
          1997,
          1998,
          1999,
          2000,
          2001,
          2002,
          2003,
          2004,
          2005,
          2006,
          2007,
          2008,
          2009,
          2010,
          2011,
          2012,
          2013,
          2014,
          2015
         ],
         "y": [
          1032.3,
          1030.2,
          1190.5,
          1019.8,
          975.3,
          1144.1,
          1039.7,
          1096.6,
          1158.1,
          1200.3,
          1047.5,
          1078.1,
          1068.9,
          1214.3,
          1137.2,
          1337.1,
          1480.3,
          1026.2,
          1308.9,
          1047.9,
          1240.2,
          1211.9,
          1176.3,
          1268.3,
          1210.4,
          1246.8,
          1262.6,
          1218.4,
          1208.5,
          1209.4,
          1314.6,
          1218.9,
          1393.5,
          1227.6,
          1143.4,
          1341.7,
          1218.1,
          1306.7,
          1125.9,
          1214.6,
          1080.9,
          1292.7,
          1282.1,
          1319.1,
          1225.8,
          1332.6,
          1236.6,
          1341.9,
          1272.4,
          1172.5,
          1061.3,
          1108.2,
          1222.9,
          1180.3,
          1298.3,
          1386.2,
          1178.2,
          1331,
          1382.1,
          1149,
          1403,
          1196.4,
          1210.2,
          1235.1,
          938.4,
          1064,
          1148.3,
          1054.2,
          1147.7,
          1247,
          1218,
          948.5,
          1214,
          1043.7,
          1290.2,
          1124.8,
          1270.4,
          1239.3,
          1023.4,
          1189.5,
          1171.6,
          1086.8,
          1331.5,
          1155.9,
          1140,
          1126.6,
          1078.9,
          1351,
          1122.4,
          1400.6,
          1159.9,
          1121.3,
          1201.9,
          1295.6,
          1243.6,
          1181.8,
          1171.4,
          1243.5,
          1132,
          1050.4,
          1083.3,
          920.8,
          1174.5,
          1071.3,
          1232.5,
          1199.4,
          1215.6,
          1132.1,
          959.3,
          1200.5,
          1110.1,
          1073.5,
          1216.2,
          1033.7,
          1093.2
         ]
        },
        {
         "line": {
          "color": "red",
          "width": 3
         },
         "mode": "lines",
         "name": "10-Year Rolling Avg",
         "type": "scatter",
         "x": [
          1901,
          1902,
          1903,
          1904,
          1905,
          1906,
          1907,
          1908,
          1909,
          1910,
          1911,
          1912,
          1913,
          1914,
          1915,
          1916,
          1917,
          1918,
          1919,
          1920,
          1921,
          1922,
          1923,
          1924,
          1925,
          1926,
          1927,
          1928,
          1929,
          1930,
          1931,
          1932,
          1933,
          1934,
          1935,
          1936,
          1937,
          1938,
          1939,
          1940,
          1941,
          1942,
          1943,
          1944,
          1945,
          1946,
          1947,
          1948,
          1949,
          1950,
          1951,
          1952,
          1953,
          1954,
          1955,
          1956,
          1957,
          1958,
          1959,
          1960,
          1961,
          1962,
          1963,
          1964,
          1965,
          1966,
          1967,
          1968,
          1969,
          1970,
          1971,
          1972,
          1973,
          1974,
          1975,
          1976,
          1977,
          1978,
          1979,
          1980,
          1981,
          1982,
          1983,
          1984,
          1985,
          1986,
          1987,
          1988,
          1989,
          1990,
          1991,
          1992,
          1993,
          1994,
          1995,
          1996,
          1997,
          1998,
          1999,
          2000,
          2001,
          2002,
          2003,
          2004,
          2005,
          2006,
          2007,
          2008,
          2009,
          2010,
          2011,
          2012,
          2013,
          2014,
          2015
         ],
         "y": [
          null,
          null,
          null,
          null,
          null,
          null,
          null,
          null,
          null,
          1088.69,
          1090.21,
          1095,
          1082.84,
          1102.29,
          1118.48,
          1137.7800000000002,
          1181.84,
          1174.8,
          1189.8799999999999,
          1174.6399999999999,
          1193.91,
          1207.29,
          1218.03,
          1223.43,
          1230.75,
          1221.72,
          1199.95,
          1219.17,
          1209.1299999999999,
          1225.2800000000002,
          1232.72,
          1233.42,
          1255.14,
          1251.0700000000002,
          1244.3700000000001,
          1253.8600000000001,
          1249.41,
          1258.2400000000002,
          1249.98,
          1250.5,
          1227.13,
          1234.51,
          1223.37,
          1232.52,
          1240.7599999999998,
          1239.85,
          1241.7,
          1245.2199999999998,
          1259.8700000000001,
          1255.6599999999999,
          1253.7,
          1235.25,
          1229.3300000000002,
          1215.45,
          1222.7,
          1228.06,
          1222.22,
          1221.13,
          1232.1,
          1229.75,
          1263.92,
          1272.74,
          1271.4699999999998,
          1276.95,
          1240.96,
          1208.74,
          1205.75,
          1178.07,
          1154.6299999999999,
          1164.4299999999998,
          1145.9299999999998,
          1121.1399999999999,
          1121.52,
          1102.3799999999999,
          1137.56,
          1143.64,
          1155.85,
          1174.3600000000001,
          1161.9299999999998,
          1156.1799999999998,
          1151.54,
          1165.37,
          1177.12,
          1188.3400000000001,
          1173.3200000000002,
          1173.5,
          1154.35,
          1165.52,
          1175.42,
          1196.5300000000002,
          1195.3600000000001,
          1198.81,
          1185.85,
          1199.82,
          1210.1799999999998,
          1215.7,
          1224.95,
          1214.2,
          1215.16,
          1180.1399999999999,
          1172.48,
          1152.43,
          1149.69,
          1127.26,
          1126.15,
          1127.91,
          1132.33,
          1121.19,
          1103.9199999999998,
          1118.9299999999998,
          1121.6100000000001,
          1136.8799999999999,
          1141.05,
          1137.29,
          1123.3600000000001
         ]
        }
       ],
       "layout": {
        "height": 500,
        "legend": {
         "title": {
          "text": "Legend"
         }
        },
        "template": {
         "data": {
          "bar": [
           {
            "error_x": {
             "color": "#2a3f5f"
            },
            "error_y": {
             "color": "#2a3f5f"
            },
            "marker": {
             "line": {
              "color": "white",
              "width": 0.5
             },
             "pattern": {
              "fillmode": "overlay",
              "size": 10,
              "solidity": 0.2
             }
            },
            "type": "bar"
           }
          ],
          "barpolar": [
           {
            "marker": {
             "line": {
              "color": "white",
              "width": 0.5
             },
             "pattern": {
              "fillmode": "overlay",
              "size": 10,
              "solidity": 0.2
             }
            },
            "type": "barpolar"
           }
          ],
          "carpet": [
           {
            "aaxis": {
             "endlinecolor": "#2a3f5f",
             "gridcolor": "#C8D4E3",
             "linecolor": "#C8D4E3",
             "minorgridcolor": "#C8D4E3",
             "startlinecolor": "#2a3f5f"
            },
            "baxis": {
             "endlinecolor": "#2a3f5f",
             "gridcolor": "#C8D4E3",
             "linecolor": "#C8D4E3",
             "minorgridcolor": "#C8D4E3",
             "startlinecolor": "#2a3f5f"
            },
            "type": "carpet"
           }
          ],
          "choropleth": [
           {
            "colorbar": {
             "outlinewidth": 0,
             "ticks": ""
            },
            "type": "choropleth"
           }
          ],
          "contour": [
           {
            "colorbar": {
             "outlinewidth": 0,
             "ticks": ""
            },
            "colorscale": [
             [
              0,
              "#0d0887"
             ],
             [
              0.1111111111111111,
              "#46039f"
             ],
             [
              0.2222222222222222,
              "#7201a8"
             ],
             [
              0.3333333333333333,
              "#9c179e"
             ],
             [
              0.4444444444444444,
              "#bd3786"
             ],
             [
              0.5555555555555556,
              "#d8576b"
             ],
             [
              0.6666666666666666,
              "#ed7953"
             ],
             [
              0.7777777777777778,
              "#fb9f3a"
             ],
             [
              0.8888888888888888,
              "#fdca26"
             ],
             [
              1,
              "#f0f921"
             ]
            ],
            "type": "contour"
           }
          ],
          "contourcarpet": [
           {
            "colorbar": {
             "outlinewidth": 0,
             "ticks": ""
            },
            "type": "contourcarpet"
           }
          ],
          "heatmap": [
           {
            "colorbar": {
             "outlinewidth": 0,
             "ticks": ""
            },
            "colorscale": [
             [
              0,
              "#0d0887"
             ],
             [
              0.1111111111111111,
              "#46039f"
             ],
             [
              0.2222222222222222,
              "#7201a8"
             ],
             [
              0.3333333333333333,
              "#9c179e"
             ],
             [
              0.4444444444444444,
              "#bd3786"
             ],
             [
              0.5555555555555556,
              "#d8576b"
             ],
             [
              0.6666666666666666,
              "#ed7953"
             ],
             [
              0.7777777777777778,
              "#fb9f3a"
             ],
             [
              0.8888888888888888,
              "#fdca26"
             ],
             [
              1,
              "#f0f921"
             ]
            ],
            "type": "heatmap"
           }
          ],
          "heatmapgl": [
           {
            "colorbar": {
             "outlinewidth": 0,
             "ticks": ""
            },
            "colorscale": [
             [
              0,
              "#0d0887"
             ],
             [
              0.1111111111111111,
              "#46039f"
             ],
             [
              0.2222222222222222,
              "#7201a8"
             ],
             [
              0.3333333333333333,
              "#9c179e"
             ],
             [
              0.4444444444444444,
              "#bd3786"
             ],
             [
              0.5555555555555556,
              "#d8576b"
             ],
             [
              0.6666666666666666,
              "#ed7953"
             ],
             [
              0.7777777777777778,
              "#fb9f3a"
             ],
             [
              0.8888888888888888,
              "#fdca26"
             ],
             [
              1,
              "#f0f921"
             ]
            ],
            "type": "heatmapgl"
           }
          ],
          "histogram": [
           {
            "marker": {
             "pattern": {
              "fillmode": "overlay",
              "size": 10,
              "solidity": 0.2
             }
            },
            "type": "histogram"
           }
          ],
          "histogram2d": [
           {
            "colorbar": {
             "outlinewidth": 0,
             "ticks": ""
            },
            "colorscale": [
             [
              0,
              "#0d0887"
             ],
             [
              0.1111111111111111,
              "#46039f"
             ],
             [
              0.2222222222222222,
              "#7201a8"
             ],
             [
              0.3333333333333333,
              "#9c179e"
             ],
             [
              0.4444444444444444,
              "#bd3786"
             ],
             [
              0.5555555555555556,
              "#d8576b"
             ],
             [
              0.6666666666666666,
              "#ed7953"
             ],
             [
              0.7777777777777778,
              "#fb9f3a"
             ],
             [
              0.8888888888888888,
              "#fdca26"
             ],
             [
              1,
              "#f0f921"
             ]
            ],
            "type": "histogram2d"
           }
          ],
          "histogram2dcontour": [
           {
            "colorbar": {
             "outlinewidth": 0,
             "ticks": ""
            },
            "colorscale": [
             [
              0,
              "#0d0887"
             ],
             [
              0.1111111111111111,
              "#46039f"
             ],
             [
              0.2222222222222222,
              "#7201a8"
             ],
             [
              0.3333333333333333,
              "#9c179e"
             ],
             [
              0.4444444444444444,
              "#bd3786"
             ],
             [
              0.5555555555555556,
              "#d8576b"
             ],
             [
              0.6666666666666666,
              "#ed7953"
             ],
             [
              0.7777777777777778,
              "#fb9f3a"
             ],
             [
              0.8888888888888888,
              "#fdca26"
             ],
             [
              1,
              "#f0f921"
             ]
            ],
            "type": "histogram2dcontour"
           }
          ],
          "mesh3d": [
           {
            "colorbar": {
             "outlinewidth": 0,
             "ticks": ""
            },
            "type": "mesh3d"
           }
          ],
          "parcoords": [
           {
            "line": {
             "colorbar": {
              "outlinewidth": 0,
              "ticks": ""
             }
            },
            "type": "parcoords"
           }
          ],
          "pie": [
           {
            "automargin": true,
            "type": "pie"
           }
          ],
          "scatter": [
           {
            "fillpattern": {
             "fillmode": "overlay",
             "size": 10,
             "solidity": 0.2
            },
            "type": "scatter"
           }
          ],
          "scatter3d": [
           {
            "line": {
             "colorbar": {
              "outlinewidth": 0,
              "ticks": ""
             }
            },
            "marker": {
             "colorbar": {
              "outlinewidth": 0,
              "ticks": ""
             }
            },
            "type": "scatter3d"
           }
          ],
          "scattercarpet": [
           {
            "marker": {
             "colorbar": {
              "outlinewidth": 0,
              "ticks": ""
             }
            },
            "type": "scattercarpet"
           }
          ],
          "scattergeo": [
           {
            "marker": {
             "colorbar": {
              "outlinewidth": 0,
              "ticks": ""
             }
            },
            "type": "scattergeo"
           }
          ],
          "scattergl": [
           {
            "marker": {
             "colorbar": {
              "outlinewidth": 0,
              "ticks": ""
             }
            },
            "type": "scattergl"
           }
          ],
          "scattermapbox": [
           {
            "marker": {
             "colorbar": {
              "outlinewidth": 0,
              "ticks": ""
             }
            },
            "type": "scattermapbox"
           }
          ],
          "scatterpolar": [
           {
            "marker": {
             "colorbar": {
              "outlinewidth": 0,
              "ticks": ""
             }
            },
            "type": "scatterpolar"
           }
          ],
          "scatterpolargl": [
           {
            "marker": {
             "colorbar": {
              "outlinewidth": 0,
              "ticks": ""
             }
            },
            "type": "scatterpolargl"
           }
          ],
          "scatterternary": [
           {
            "marker": {
             "colorbar": {
              "outlinewidth": 0,
              "ticks": ""
             }
            },
            "type": "scatterternary"
           }
          ],
          "surface": [
           {
            "colorbar": {
             "outlinewidth": 0,
             "ticks": ""
            },
            "colorscale": [
             [
              0,
              "#0d0887"
             ],
             [
              0.1111111111111111,
              "#46039f"
             ],
             [
              0.2222222222222222,
              "#7201a8"
             ],
             [
              0.3333333333333333,
              "#9c179e"
             ],
             [
              0.4444444444444444,
              "#bd3786"
             ],
             [
              0.5555555555555556,
              "#d8576b"
             ],
             [
              0.6666666666666666,
              "#ed7953"
             ],
             [
              0.7777777777777778,
              "#fb9f3a"
             ],
             [
              0.8888888888888888,
              "#fdca26"
             ],
             [
              1,
              "#f0f921"
             ]
            ],
            "type": "surface"
           }
          ],
          "table": [
           {
            "cells": {
             "fill": {
              "color": "#EBF0F8"
             },
             "line": {
              "color": "white"
             }
            },
            "header": {
             "fill": {
              "color": "#C8D4E3"
             },
             "line": {
              "color": "white"
             }
            },
            "type": "table"
           }
          ]
         },
         "layout": {
          "annotationdefaults": {
           "arrowcolor": "#2a3f5f",
           "arrowhead": 0,
           "arrowwidth": 1
          },
          "autotypenumbers": "strict",
          "coloraxis": {
           "colorbar": {
            "outlinewidth": 0,
            "ticks": ""
           }
          },
          "colorscale": {
           "diverging": [
            [
             0,
             "#8e0152"
            ],
            [
             0.1,
             "#c51b7d"
            ],
            [
             0.2,
             "#de77ae"
            ],
            [
             0.3,
             "#f1b6da"
            ],
            [
             0.4,
             "#fde0ef"
            ],
            [
             0.5,
             "#f7f7f7"
            ],
            [
             0.6,
             "#e6f5d0"
            ],
            [
             0.7,
             "#b8e186"
            ],
            [
             0.8,
             "#7fbc41"
            ],
            [
             0.9,
             "#4d9221"
            ],
            [
             1,
             "#276419"
            ]
           ],
           "sequential": [
            [
             0,
             "#0d0887"
            ],
            [
             0.1111111111111111,
             "#46039f"
            ],
            [
             0.2222222222222222,
             "#7201a8"
            ],
            [
             0.3333333333333333,
             "#9c179e"
            ],
            [
             0.4444444444444444,
             "#bd3786"
            ],
            [
             0.5555555555555556,
             "#d8576b"
            ],
            [
             0.6666666666666666,
             "#ed7953"
            ],
            [
             0.7777777777777778,
             "#fb9f3a"
            ],
            [
             0.8888888888888888,
             "#fdca26"
            ],
            [
             1,
             "#f0f921"
            ]
           ],
           "sequentialminus": [
            [
             0,
             "#0d0887"
            ],
            [
             0.1111111111111111,
             "#46039f"
            ],
            [
             0.2222222222222222,
             "#7201a8"
            ],
            [
             0.3333333333333333,
             "#9c179e"
            ],
            [
             0.4444444444444444,
             "#bd3786"
            ],
            [
             0.5555555555555556,
             "#d8576b"
            ],
            [
             0.6666666666666666,
             "#ed7953"
            ],
            [
             0.7777777777777778,
             "#fb9f3a"
            ],
            [
             0.8888888888888888,
             "#fdca26"
            ],
            [
             1,
             "#f0f921"
            ]
           ]
          },
          "colorway": [
           "#636efa",
           "#EF553B",
           "#00cc96",
           "#ab63fa",
           "#FFA15A",
           "#19d3f3",
           "#FF6692",
           "#B6E880",
           "#FF97FF",
           "#FECB52"
          ],
          "font": {
           "color": "#2a3f5f"
          },
          "geo": {
           "bgcolor": "white",
           "lakecolor": "white",
           "landcolor": "white",
           "showlakes": true,
           "showland": true,
           "subunitcolor": "#C8D4E3"
          },
          "hoverlabel": {
           "align": "left"
          },
          "hovermode": "closest",
          "mapbox": {
           "style": "light"
          },
          "paper_bgcolor": "white",
          "plot_bgcolor": "white",
          "polar": {
           "angularaxis": {
            "gridcolor": "#EBF0F8",
            "linecolor": "#EBF0F8",
            "ticks": ""
           },
           "bgcolor": "white",
           "radialaxis": {
            "gridcolor": "#EBF0F8",
            "linecolor": "#EBF0F8",
            "ticks": ""
           }
          },
          "scene": {
           "xaxis": {
            "backgroundcolor": "white",
            "gridcolor": "#DFE8F3",
            "gridwidth": 2,
            "linecolor": "#EBF0F8",
            "showbackground": true,
            "ticks": "",
            "zerolinecolor": "#EBF0F8"
           },
           "yaxis": {
            "backgroundcolor": "white",
            "gridcolor": "#DFE8F3",
            "gridwidth": 2,
            "linecolor": "#EBF0F8",
            "showbackground": true,
            "ticks": "",
            "zerolinecolor": "#EBF0F8"
           },
           "zaxis": {
            "backgroundcolor": "white",
            "gridcolor": "#DFE8F3",
            "gridwidth": 2,
            "linecolor": "#EBF0F8",
            "showbackground": true,
            "ticks": "",
            "zerolinecolor": "#EBF0F8"
           }
          },
          "shapedefaults": {
           "line": {
            "color": "#2a3f5f"
           }
          },
          "ternary": {
           "aaxis": {
            "gridcolor": "#DFE8F3",
            "linecolor": "#A2B1C6",
            "ticks": ""
           },
           "baxis": {
            "gridcolor": "#DFE8F3",
            "linecolor": "#A2B1C6",
            "ticks": ""
           },
           "bgcolor": "white",
           "caxis": {
            "gridcolor": "#DFE8F3",
            "linecolor": "#A2B1C6",
            "ticks": ""
           }
          },
          "title": {
           "x": 0.05
          },
          "xaxis": {
           "automargin": true,
           "gridcolor": "#EBF0F8",
           "linecolor": "#EBF0F8",
           "ticks": "",
           "title": {
            "standoff": 15
           },
           "zerolinecolor": "#EBF0F8",
           "zerolinewidth": 2
          },
          "yaxis": {
           "automargin": true,
           "gridcolor": "#EBF0F8",
           "linecolor": "#EBF0F8",
           "ticks": "",
           "title": {
            "standoff": 15
           },
           "zerolinecolor": "#EBF0F8",
           "zerolinewidth": 2
          }
         }
        },
        "title": {
         "text": "Impact of Climate Change on Rainfall Patterns (1901-2015)"
        },
        "xaxis": {
         "title": {
          "text": "Year"
         }
        },
        "yaxis": {
         "title": {
          "text": "Rainfall (mm)"
         }
        }
       }
      }
     },
     "metadata": {},
     "output_type": "display_data"
    }
   ],
   "source": [
    "fig_climate_change = go.Figure()\n",
    "\n",
    "fig_climate_change.add_trace(go.Scatter(\n",
    "    x=rainfall_data['YEAR'],\n",
    "    y=rainfall_data['ANNUAL'],\n",
    "    mode='lines',\n",
    "    name='Annual Rainfall',\n",
    "    line=dict(color='blue', width=3),\n",
    "    opacity=0.6\n",
    "))\n",
    "\n",
    "fig_climate_change.add_trace(go.Scatter(\n",
    "    x=rainfall_data['YEAR'],\n",
    "    y=rainfall_data['10-Year Rolling Avg'],\n",
    "    mode='lines',\n",
    "    name='10-Year Rolling Avg',\n",
    "    line=dict(color='red', width=3)\n",
    "))\n",
    "\n",
    "fig_climate_change.update_layout(\n",
    "    title='Impact of Climate Change on Rainfall Patterns (1901-2015)',\n",
    "    xaxis_title = 'Year',\n",
    "    yaxis_title = 'Rainfall (mm)',\n",
    "    template='plotly_white',\n",
    "    legend=dict(title='Legend'),\n",
    "    height=500\n",
    ")\n",
    "\n",
    "fig_climate_change"
   ]
  },
  {
   "cell_type": "markdown",
   "metadata": {},
   "source": [
    "Using statistical thresholds, to identify years with extreme or deficient rainfall(1.5 standard deviations below or above the mean)."
   ]
  },
  {
   "cell_type": "code",
   "execution_count": 69,
   "metadata": {},
   "outputs": [
    {
     "data": {
      "text/html": [
       "<div>\n",
       "<style scoped>\n",
       "    .dataframe tbody tr th:only-of-type {\n",
       "        vertical-align: middle;\n",
       "    }\n",
       "\n",
       "    .dataframe tbody tr th {\n",
       "        vertical-align: top;\n",
       "    }\n",
       "\n",
       "    .dataframe thead th {\n",
       "        text-align: right;\n",
       "    }\n",
       "</style>\n",
       "<table border=\"1\" class=\"dataframe\">\n",
       "  <thead>\n",
       "    <tr style=\"text-align: right;\">\n",
       "      <th></th>\n",
       "      <th>YEAR</th>\n",
       "      <th>ANNUAL</th>\n",
       "    </tr>\n",
       "  </thead>\n",
       "  <tbody>\n",
       "    <tr>\n",
       "      <th>0</th>\n",
       "      <td>1905</td>\n",
       "      <td>975.3</td>\n",
       "    </tr>\n",
       "    <tr>\n",
       "      <th>1</th>\n",
       "      <td>1965</td>\n",
       "      <td>938.4</td>\n",
       "    </tr>\n",
       "    <tr>\n",
       "      <th>2</th>\n",
       "      <td>1972</td>\n",
       "      <td>948.5</td>\n",
       "    </tr>\n",
       "    <tr>\n",
       "      <th>3</th>\n",
       "      <td>2002</td>\n",
       "      <td>920.8</td>\n",
       "    </tr>\n",
       "    <tr>\n",
       "      <th>4</th>\n",
       "      <td>2009</td>\n",
       "      <td>959.3</td>\n",
       "    </tr>\n",
       "  </tbody>\n",
       "</table>\n",
       "</div>"
      ],
      "text/plain": [
       "   YEAR  ANNUAL\n",
       "0  1905   975.3\n",
       "1  1965   938.4\n",
       "2  1972   948.5\n",
       "3  2002   920.8\n",
       "4  2009   959.3"
      ]
     },
     "execution_count": 69,
     "metadata": {},
     "output_type": "execute_result"
    }
   ],
   "source": [
    "from scipy.stats import pearsonr\n",
    "\n",
    "# Identifyig drought and extreme rainfall years\n",
    "mean_rainfall = rainfall_data['ANNUAL'].mean()\n",
    "std_dev_rainfall = rainfall_data['ANNUAL'].std()\n",
    "\n",
    "drought_years = rainfall_data[rainfall_data['ANNUAL'] < (mean_rainfall - 1.5 * std_dev_rainfall)]\n",
    "extreme_rainfall_years = rainfall_data[rainfall_data['ANNUAL'] > (mean_rainfall + 1.5 * std_dev_rainfall)]\n",
    "\n",
    "# correlating seasonal rainfall with annual rainfall totals\n",
    "seasonal_columns = ['Jan-Feb', 'Mar-May', 'Jun-Sep', 'Oct-Dec']\n",
    "seasonal_correlations = {\n",
    "    season: pearsonr(rainfall_data[season], rainfall_data['ANNUAL'])[0] for season in seasonal_columns\n",
    "}\n",
    "\n",
    "# displaying results for drought/extreme years and correlations\n",
    "drought_years_summary = drought_years[['YEAR', 'ANNUAL']].reset_index(drop=True)\n",
    "extreme_rainfall_years_summary = extreme_rainfall_years[['YEAR', 'ANNUAL']].reset_index(drop=True)\n",
    "seasonal_correlations_summary = pd.DataFrame.from_dict(seasonal_correlations, orient='index', columns=['Correlation'])\n",
    "\n",
    "drought_years_summary"
   ]
  },
  {
   "cell_type": "code",
   "execution_count": 70,
   "metadata": {},
   "outputs": [
    {
     "data": {
      "text/html": [
       "<div>\n",
       "<style scoped>\n",
       "    .dataframe tbody tr th:only-of-type {\n",
       "        vertical-align: middle;\n",
       "    }\n",
       "\n",
       "    .dataframe tbody tr th {\n",
       "        vertical-align: top;\n",
       "    }\n",
       "\n",
       "    .dataframe thead th {\n",
       "        text-align: right;\n",
       "    }\n",
       "</style>\n",
       "<table border=\"1\" class=\"dataframe\">\n",
       "  <thead>\n",
       "    <tr style=\"text-align: right;\">\n",
       "      <th></th>\n",
       "      <th>YEAR</th>\n",
       "      <th>ANNUAL</th>\n",
       "    </tr>\n",
       "  </thead>\n",
       "  <tbody>\n",
       "    <tr>\n",
       "      <th>0</th>\n",
       "      <td>1917</td>\n",
       "      <td>1480.3</td>\n",
       "    </tr>\n",
       "    <tr>\n",
       "      <th>1</th>\n",
       "      <td>1933</td>\n",
       "      <td>1393.5</td>\n",
       "    </tr>\n",
       "    <tr>\n",
       "      <th>2</th>\n",
       "      <td>1956</td>\n",
       "      <td>1386.2</td>\n",
       "    </tr>\n",
       "    <tr>\n",
       "      <th>3</th>\n",
       "      <td>1959</td>\n",
       "      <td>1382.1</td>\n",
       "    </tr>\n",
       "    <tr>\n",
       "      <th>4</th>\n",
       "      <td>1961</td>\n",
       "      <td>1403.0</td>\n",
       "    </tr>\n",
       "    <tr>\n",
       "      <th>5</th>\n",
       "      <td>1988</td>\n",
       "      <td>1351.0</td>\n",
       "    </tr>\n",
       "    <tr>\n",
       "      <th>6</th>\n",
       "      <td>1990</td>\n",
       "      <td>1400.6</td>\n",
       "    </tr>\n",
       "  </tbody>\n",
       "</table>\n",
       "</div>"
      ],
      "text/plain": [
       "   YEAR  ANNUAL\n",
       "0  1917  1480.3\n",
       "1  1933  1393.5\n",
       "2  1956  1386.2\n",
       "3  1959  1382.1\n",
       "4  1961  1403.0\n",
       "5  1988  1351.0\n",
       "6  1990  1400.6"
      ]
     },
     "execution_count": 70,
     "metadata": {},
     "output_type": "execute_result"
    }
   ],
   "source": [
    "extreme_rainfall_years_summary"
   ]
  },
  {
   "cell_type": "code",
   "execution_count": 71,
   "metadata": {},
   "outputs": [
    {
     "data": {
      "text/html": [
       "<div>\n",
       "<style scoped>\n",
       "    .dataframe tbody tr th:only-of-type {\n",
       "        vertical-align: middle;\n",
       "    }\n",
       "\n",
       "    .dataframe tbody tr th {\n",
       "        vertical-align: top;\n",
       "    }\n",
       "\n",
       "    .dataframe thead th {\n",
       "        text-align: right;\n",
       "    }\n",
       "</style>\n",
       "<table border=\"1\" class=\"dataframe\">\n",
       "  <thead>\n",
       "    <tr style=\"text-align: right;\">\n",
       "      <th></th>\n",
       "      <th>Correlation</th>\n",
       "    </tr>\n",
       "  </thead>\n",
       "  <tbody>\n",
       "    <tr>\n",
       "      <th>Jan-Feb</th>\n",
       "      <td>0.228913</td>\n",
       "    </tr>\n",
       "    <tr>\n",
       "      <th>Mar-May</th>\n",
       "      <td>0.313057</td>\n",
       "    </tr>\n",
       "    <tr>\n",
       "      <th>Jun-Sep</th>\n",
       "      <td>0.930027</td>\n",
       "    </tr>\n",
       "    <tr>\n",
       "      <th>Oct-Dec</th>\n",
       "      <td>0.531648</td>\n",
       "    </tr>\n",
       "  </tbody>\n",
       "</table>\n",
       "</div>"
      ],
      "text/plain": [
       "         Correlation\n",
       "Jan-Feb     0.228913\n",
       "Mar-May     0.313057\n",
       "Jun-Sep     0.930027\n",
       "Oct-Dec     0.531648"
      ]
     },
     "execution_count": 71,
     "metadata": {},
     "output_type": "execute_result"
    }
   ],
   "source": [
    "seasonal_correlations_summary"
   ]
  },
  {
   "cell_type": "markdown",
   "metadata": {},
   "source": [
    "Detecting Anomalies in the Rainfall Trends in India using Isolation Forest"
   ]
  },
  {
   "cell_type": "code",
   "execution_count": 72,
   "metadata": {},
   "outputs": [],
   "source": [
    "from sklearn.ensemble import IsolationForest"
   ]
  },
  {
   "cell_type": "code",
   "execution_count": 73,
   "metadata": {},
   "outputs": [
    {
     "data": {
      "text/plain": [
       "0      1\n",
       "1      1\n",
       "2      1\n",
       "3      1\n",
       "4     -1\n",
       "      ..\n",
       "110    1\n",
       "111    1\n",
       "112    1\n",
       "113    1\n",
       "114    1\n",
       "Name: Annual_Anomaly, Length: 115, dtype: int32"
      ]
     },
     "execution_count": 73,
     "metadata": {},
     "output_type": "execute_result"
    }
   ],
   "source": [
    "# Detect anomalous rainfall years based on annual data\n",
    "isolation_forest = IsolationForest(contamination=0.05, random_state=42)\n",
    "rainfall_data['Annual_Anomaly'] = isolation_forest.fit_predict(rainfall_data[['ANNUAL']])\n",
    "rainfall_data['Annual_Anomaly']"
   ]
  },
  {
   "cell_type": "code",
   "execution_count": 74,
   "metadata": {},
   "outputs": [
    {
     "data": {
      "text/html": [
       "<div>\n",
       "<style scoped>\n",
       "    .dataframe tbody tr th:only-of-type {\n",
       "        vertical-align: middle;\n",
       "    }\n",
       "\n",
       "    .dataframe tbody tr th {\n",
       "        vertical-align: top;\n",
       "    }\n",
       "\n",
       "    .dataframe thead th {\n",
       "        text-align: right;\n",
       "    }\n",
       "</style>\n",
       "<table border=\"1\" class=\"dataframe\">\n",
       "  <thead>\n",
       "    <tr style=\"text-align: right;\">\n",
       "      <th></th>\n",
       "      <th>REGION</th>\n",
       "      <th>YEAR</th>\n",
       "      <th>JAN</th>\n",
       "      <th>FEB</th>\n",
       "      <th>MAR</th>\n",
       "      <th>APR</th>\n",
       "      <th>MAY</th>\n",
       "      <th>JUN</th>\n",
       "      <th>JUL</th>\n",
       "      <th>AUG</th>\n",
       "      <th>...</th>\n",
       "      <th>OCT</th>\n",
       "      <th>NOV</th>\n",
       "      <th>DEC</th>\n",
       "      <th>ANNUAL</th>\n",
       "      <th>Jan-Feb</th>\n",
       "      <th>Mar-May</th>\n",
       "      <th>Jun-Sep</th>\n",
       "      <th>Oct-Dec</th>\n",
       "      <th>10-Year Rolling Avg</th>\n",
       "      <th>Annual_Anomaly</th>\n",
       "    </tr>\n",
       "  </thead>\n",
       "  <tbody>\n",
       "    <tr>\n",
       "      <th>4</th>\n",
       "      <td>INDIA</td>\n",
       "      <td>1905</td>\n",
       "      <td>25.3</td>\n",
       "      <td>20.9</td>\n",
       "      <td>42.7</td>\n",
       "      <td>33.7</td>\n",
       "      <td>55.7</td>\n",
       "      <td>93.3</td>\n",
       "      <td>252.8</td>\n",
       "      <td>200.8</td>\n",
       "      <td>...</td>\n",
       "      <td>51.4</td>\n",
       "      <td>9.7</td>\n",
       "      <td>10.5</td>\n",
       "      <td>975.3</td>\n",
       "      <td>46.2</td>\n",
       "      <td>132.2</td>\n",
       "      <td>725.4</td>\n",
       "      <td>71.6</td>\n",
       "      <td>NaN</td>\n",
       "      <td>-1</td>\n",
       "    </tr>\n",
       "    <tr>\n",
       "      <th>16</th>\n",
       "      <td>INDIA</td>\n",
       "      <td>1917</td>\n",
       "      <td>8.7</td>\n",
       "      <td>38.7</td>\n",
       "      <td>22.8</td>\n",
       "      <td>43.2</td>\n",
       "      <td>75.0</td>\n",
       "      <td>231.8</td>\n",
       "      <td>285.2</td>\n",
       "      <td>296.5</td>\n",
       "      <td>...</td>\n",
       "      <td>158.8</td>\n",
       "      <td>28.2</td>\n",
       "      <td>10.3</td>\n",
       "      <td>1480.3</td>\n",
       "      <td>47.3</td>\n",
       "      <td>141.1</td>\n",
       "      <td>1094.5</td>\n",
       "      <td>197.3</td>\n",
       "      <td>1181.84</td>\n",
       "      <td>-1</td>\n",
       "    </tr>\n",
       "    <tr>\n",
       "      <th>64</th>\n",
       "      <td>INDIA</td>\n",
       "      <td>1965</td>\n",
       "      <td>10.9</td>\n",
       "      <td>26.0</td>\n",
       "      <td>26.4</td>\n",
       "      <td>43.6</td>\n",
       "      <td>51.2</td>\n",
       "      <td>115.8</td>\n",
       "      <td>269.2</td>\n",
       "      <td>192.3</td>\n",
       "      <td>...</td>\n",
       "      <td>33.5</td>\n",
       "      <td>17.4</td>\n",
       "      <td>21.1</td>\n",
       "      <td>938.4</td>\n",
       "      <td>36.9</td>\n",
       "      <td>121.2</td>\n",
       "      <td>708.4</td>\n",
       "      <td>72.0</td>\n",
       "      <td>1240.96</td>\n",
       "      <td>-1</td>\n",
       "    </tr>\n",
       "    <tr>\n",
       "      <th>71</th>\n",
       "      <td>INDIA</td>\n",
       "      <td>1972</td>\n",
       "      <td>9.7</td>\n",
       "      <td>27.1</td>\n",
       "      <td>21.0</td>\n",
       "      <td>36.9</td>\n",
       "      <td>55.6</td>\n",
       "      <td>123.0</td>\n",
       "      <td>205.5</td>\n",
       "      <td>221.8</td>\n",
       "      <td>...</td>\n",
       "      <td>66.0</td>\n",
       "      <td>30.3</td>\n",
       "      <td>22.3</td>\n",
       "      <td>948.5</td>\n",
       "      <td>36.8</td>\n",
       "      <td>113.6</td>\n",
       "      <td>679.5</td>\n",
       "      <td>118.6</td>\n",
       "      <td>1121.14</td>\n",
       "      <td>-1</td>\n",
       "    </tr>\n",
       "    <tr>\n",
       "      <th>101</th>\n",
       "      <td>INDIA</td>\n",
       "      <td>2002</td>\n",
       "      <td>16.8</td>\n",
       "      <td>21.0</td>\n",
       "      <td>22.9</td>\n",
       "      <td>38.9</td>\n",
       "      <td>57.7</td>\n",
       "      <td>170.1</td>\n",
       "      <td>138.9</td>\n",
       "      <td>246.2</td>\n",
       "      <td>...</td>\n",
       "      <td>54.4</td>\n",
       "      <td>14.7</td>\n",
       "      <td>5.2</td>\n",
       "      <td>920.8</td>\n",
       "      <td>37.8</td>\n",
       "      <td>119.5</td>\n",
       "      <td>689.2</td>\n",
       "      <td>74.3</td>\n",
       "      <td>1152.43</td>\n",
       "      <td>-1</td>\n",
       "    </tr>\n",
       "    <tr>\n",
       "      <th>108</th>\n",
       "      <td>INDIA</td>\n",
       "      <td>2009</td>\n",
       "      <td>11.8</td>\n",
       "      <td>13.2</td>\n",
       "      <td>15.2</td>\n",
       "      <td>26.0</td>\n",
       "      <td>56.6</td>\n",
       "      <td>86.5</td>\n",
       "      <td>283.7</td>\n",
       "      <td>191.9</td>\n",
       "      <td>...</td>\n",
       "      <td>70.1</td>\n",
       "      <td>53.2</td>\n",
       "      <td>10.8</td>\n",
       "      <td>959.3</td>\n",
       "      <td>25.0</td>\n",
       "      <td>97.8</td>\n",
       "      <td>702.4</td>\n",
       "      <td>134.1</td>\n",
       "      <td>1103.92</td>\n",
       "      <td>-1</td>\n",
       "    </tr>\n",
       "  </tbody>\n",
       "</table>\n",
       "<p>6 rows × 21 columns</p>\n",
       "</div>"
      ],
      "text/plain": [
       "    REGION  YEAR   JAN   FEB   MAR   APR   MAY    JUN    JUL    AUG  ...  \\\n",
       "4    INDIA  1905  25.3  20.9  42.7  33.7  55.7   93.3  252.8  200.8  ...   \n",
       "16   INDIA  1917   8.7  38.7  22.8  43.2  75.0  231.8  285.2  296.5  ...   \n",
       "64   INDIA  1965  10.9  26.0  26.4  43.6  51.2  115.8  269.2  192.3  ...   \n",
       "71   INDIA  1972   9.7  27.1  21.0  36.9  55.6  123.0  205.5  221.8  ...   \n",
       "101  INDIA  2002  16.8  21.0  22.9  38.9  57.7  170.1  138.9  246.2  ...   \n",
       "108  INDIA  2009  11.8  13.2  15.2  26.0  56.6   86.5  283.7  191.9  ...   \n",
       "\n",
       "       OCT   NOV   DEC  ANNUAL  Jan-Feb  Mar-May  Jun-Sep  Oct-Dec  \\\n",
       "4     51.4   9.7  10.5   975.3     46.2    132.2    725.4     71.6   \n",
       "16   158.8  28.2  10.3  1480.3     47.3    141.1   1094.5    197.3   \n",
       "64    33.5  17.4  21.1   938.4     36.9    121.2    708.4     72.0   \n",
       "71    66.0  30.3  22.3   948.5     36.8    113.6    679.5    118.6   \n",
       "101   54.4  14.7   5.2   920.8     37.8    119.5    689.2     74.3   \n",
       "108   70.1  53.2  10.8   959.3     25.0     97.8    702.4    134.1   \n",
       "\n",
       "     10-Year Rolling Avg  Annual_Anomaly  \n",
       "4                    NaN              -1  \n",
       "16               1181.84              -1  \n",
       "64               1240.96              -1  \n",
       "71               1121.14              -1  \n",
       "101              1152.43              -1  \n",
       "108              1103.92              -1  \n",
       "\n",
       "[6 rows x 21 columns]"
      ]
     },
     "execution_count": 74,
     "metadata": {},
     "output_type": "execute_result"
    }
   ],
   "source": [
    "# Identify anomalies in annual rainfall\n",
    "annual_anomalies = rainfall_data[rainfall_data['Annual_Anomaly'] == -1]\n",
    "annual_anomalies"
   ]
  },
  {
   "cell_type": "code",
   "execution_count": 75,
   "metadata": {},
   "outputs": [
    {
     "data": {
      "text/plain": [
       "array([ 1,  1,  1,  1,  1,  1, -1,  1,  1,  1, -1,  1,  1,  1,  1,  1, -1,\n",
       "       -1,  1,  1,  1,  1,  1,  1,  1,  1,  1,  1,  1,  1,  1,  1,  1,  1,\n",
       "        1,  1,  1,  1,  1,  1,  1,  1,  1,  1,  1,  1,  1,  1,  1,  1,  1,\n",
       "        1,  1,  1,  1,  1,  1,  1,  1,  1,  1,  1,  1,  1,  1,  1, -1,  1,\n",
       "        1,  1,  1,  1,  1,  1,  1,  1,  1,  1,  1,  1,  1,  1,  1,  1,  1,\n",
       "        1,  1,  1,  1, -1,  1,  1,  1,  1,  1,  1,  1,  1,  1,  1,  1,  1,\n",
       "        1,  1,  1,  1,  1,  1,  1,  1,  1,  1,  1,  1,  1])"
      ]
     },
     "execution_count": 75,
     "metadata": {},
     "output_type": "execute_result"
    }
   ],
   "source": [
    "# Detect anomalous months based on monthly data\n",
    "monthly_data = rainfall_data[['JAN', 'FEB', 'MAR', 'APR', 'MAY', 'JUN',\n",
    "                              'JUL', 'AUG', 'SEP', 'OCT', 'NOV', 'DEC']]\n",
    "month_anomalies = isolation_forest.fit_predict(monthly_data)\n",
    "month_anomalies"
   ]
  },
  {
   "cell_type": "code",
   "execution_count": 76,
   "metadata": {},
   "outputs": [
    {
     "data": {
      "text/html": [
       "<div>\n",
       "<style scoped>\n",
       "    .dataframe tbody tr th:only-of-type {\n",
       "        vertical-align: middle;\n",
       "    }\n",
       "\n",
       "    .dataframe tbody tr th {\n",
       "        vertical-align: top;\n",
       "    }\n",
       "\n",
       "    .dataframe thead th {\n",
       "        text-align: right;\n",
       "    }\n",
       "</style>\n",
       "<table border=\"1\" class=\"dataframe\">\n",
       "  <thead>\n",
       "    <tr style=\"text-align: right;\">\n",
       "      <th></th>\n",
       "      <th>YEAR</th>\n",
       "      <th>JAN</th>\n",
       "      <th>FEB</th>\n",
       "      <th>MAR</th>\n",
       "      <th>APR</th>\n",
       "      <th>MAY</th>\n",
       "      <th>JUN</th>\n",
       "      <th>JUL</th>\n",
       "      <th>AUG</th>\n",
       "      <th>SEP</th>\n",
       "      <th>OCT</th>\n",
       "      <th>NOV</th>\n",
       "      <th>DEC</th>\n",
       "    </tr>\n",
       "  </thead>\n",
       "  <tbody>\n",
       "    <tr>\n",
       "      <th>6</th>\n",
       "      <td>1907</td>\n",
       "      <td>16.2</td>\n",
       "      <td>46.0</td>\n",
       "      <td>37.8</td>\n",
       "      <td>62.8</td>\n",
       "      <td>32.6</td>\n",
       "      <td>154.4</td>\n",
       "      <td>225.4</td>\n",
       "      <td>310.4</td>\n",
       "      <td>96.9</td>\n",
       "      <td>22.7</td>\n",
       "      <td>22.5</td>\n",
       "      <td>12.1</td>\n",
       "    </tr>\n",
       "    <tr>\n",
       "      <th>10</th>\n",
       "      <td>1911</td>\n",
       "      <td>45.7</td>\n",
       "      <td>5.6</td>\n",
       "      <td>49.9</td>\n",
       "      <td>22.8</td>\n",
       "      <td>47.6</td>\n",
       "      <td>191.9</td>\n",
       "      <td>162.7</td>\n",
       "      <td>213.5</td>\n",
       "      <td>182.3</td>\n",
       "      <td>70.6</td>\n",
       "      <td>42.8</td>\n",
       "      <td>12.0</td>\n",
       "    </tr>\n",
       "    <tr>\n",
       "      <th>16</th>\n",
       "      <td>1917</td>\n",
       "      <td>8.7</td>\n",
       "      <td>38.7</td>\n",
       "      <td>22.8</td>\n",
       "      <td>43.2</td>\n",
       "      <td>75.0</td>\n",
       "      <td>231.8</td>\n",
       "      <td>285.2</td>\n",
       "      <td>296.5</td>\n",
       "      <td>281.0</td>\n",
       "      <td>158.8</td>\n",
       "      <td>28.2</td>\n",
       "      <td>10.3</td>\n",
       "    </tr>\n",
       "    <tr>\n",
       "      <th>17</th>\n",
       "      <td>1918</td>\n",
       "      <td>12.2</td>\n",
       "      <td>4.4</td>\n",
       "      <td>41.6</td>\n",
       "      <td>38.8</td>\n",
       "      <td>102.8</td>\n",
       "      <td>212.6</td>\n",
       "      <td>183.8</td>\n",
       "      <td>242.7</td>\n",
       "      <td>109.7</td>\n",
       "      <td>20.0</td>\n",
       "      <td>41.1</td>\n",
       "      <td>16.4</td>\n",
       "    </tr>\n",
       "    <tr>\n",
       "      <th>66</th>\n",
       "      <td>1967</td>\n",
       "      <td>11.2</td>\n",
       "      <td>13.4</td>\n",
       "      <td>63.3</td>\n",
       "      <td>29.1</td>\n",
       "      <td>42.4</td>\n",
       "      <td>144.9</td>\n",
       "      <td>304.6</td>\n",
       "      <td>262.9</td>\n",
       "      <td>170.4</td>\n",
       "      <td>40.3</td>\n",
       "      <td>11.4</td>\n",
       "      <td>54.4</td>\n",
       "    </tr>\n",
       "    <tr>\n",
       "      <th>89</th>\n",
       "      <td>1990</td>\n",
       "      <td>14.9</td>\n",
       "      <td>44.3</td>\n",
       "      <td>53.3</td>\n",
       "      <td>42.0</td>\n",
       "      <td>114.5</td>\n",
       "      <td>194.0</td>\n",
       "      <td>286.7</td>\n",
       "      <td>293.2</td>\n",
       "      <td>196.6</td>\n",
       "      <td>103.2</td>\n",
       "      <td>29.5</td>\n",
       "      <td>28.4</td>\n",
       "    </tr>\n",
       "  </tbody>\n",
       "</table>\n",
       "</div>"
      ],
      "text/plain": [
       "    YEAR   JAN   FEB   MAR   APR    MAY    JUN    JUL    AUG    SEP    OCT  \\\n",
       "6   1907  16.2  46.0  37.8  62.8   32.6  154.4  225.4  310.4   96.9   22.7   \n",
       "10  1911  45.7   5.6  49.9  22.8   47.6  191.9  162.7  213.5  182.3   70.6   \n",
       "16  1917   8.7  38.7  22.8  43.2   75.0  231.8  285.2  296.5  281.0  158.8   \n",
       "17  1918  12.2   4.4  41.6  38.8  102.8  212.6  183.8  242.7  109.7   20.0   \n",
       "66  1967  11.2  13.4  63.3  29.1   42.4  144.9  304.6  262.9  170.4   40.3   \n",
       "89  1990  14.9  44.3  53.3  42.0  114.5  194.0  286.7  293.2  196.6  103.2   \n",
       "\n",
       "     NOV   DEC  \n",
       "6   22.5  12.1  \n",
       "10  42.8  12.0  \n",
       "16  28.2  10.3  \n",
       "17  41.1  16.4  \n",
       "66  11.4  54.4  \n",
       "89  29.5  28.4  "
      ]
     },
     "execution_count": 76,
     "metadata": {},
     "output_type": "execute_result"
    }
   ],
   "source": [
    "# Add anomaly detection results for months\n",
    "rainfall_data['Monthly_Anomaly'] = month_anomalies\n",
    "month_anomalies_df = rainfall_data[rainfall_data['Monthly_Anomaly'] == -1][['YEAR'] + monthly_columns]\n",
    "month_anomalies_df"
   ]
  },
  {
   "cell_type": "code",
   "execution_count": 77,
   "metadata": {},
   "outputs": [
    {
     "data": {
      "application/vnd.plotly.v1+json": {
       "config": {
        "plotlyServerURL": "https://plot.ly"
       },
       "data": [
        {
         "line": {
          "color": "blue",
          "width": 2
         },
         "mode": "lines",
         "name": "Annual Rainfall",
         "opacity": 0.6,
         "type": "scatter",
         "x": [
          1901,
          1902,
          1903,
          1904,
          1905,
          1906,
          1907,
          1908,
          1909,
          1910,
          1911,
          1912,
          1913,
          1914,
          1915,
          1916,
          1917,
          1918,
          1919,
          1920,
          1921,
          1922,
          1923,
          1924,
          1925,
          1926,
          1927,
          1928,
          1929,
          1930,
          1931,
          1932,
          1933,
          1934,
          1935,
          1936,
          1937,
          1938,
          1939,
          1940,
          1941,
          1942,
          1943,
          1944,
          1945,
          1946,
          1947,
          1948,
          1949,
          1950,
          1951,
          1952,
          1953,
          1954,
          1955,
          1956,
          1957,
          1958,
          1959,
          1960,
          1961,
          1962,
          1963,
          1964,
          1965,
          1966,
          1967,
          1968,
          1969,
          1970,
          1971,
          1972,
          1973,
          1974,
          1975,
          1976,
          1977,
          1978,
          1979,
          1980,
          1981,
          1982,
          1983,
          1984,
          1985,
          1986,
          1987,
          1988,
          1989,
          1990,
          1991,
          1992,
          1993,
          1994,
          1995,
          1996,
          1997,
          1998,
          1999,
          2000,
          2001,
          2002,
          2003,
          2004,
          2005,
          2006,
          2007,
          2008,
          2009,
          2010,
          2011,
          2012,
          2013,
          2014,
          2015
         ],
         "y": [
          1032.3,
          1030.2,
          1190.5,
          1019.8,
          975.3,
          1144.1,
          1039.7,
          1096.6,
          1158.1,
          1200.3,
          1047.5,
          1078.1,
          1068.9,
          1214.3,
          1137.2,
          1337.1,
          1480.3,
          1026.2,
          1308.9,
          1047.9,
          1240.2,
          1211.9,
          1176.3,
          1268.3,
          1210.4,
          1246.8,
          1262.6,
          1218.4,
          1208.5,
          1209.4,
          1314.6,
          1218.9,
          1393.5,
          1227.6,
          1143.4,
          1341.7,
          1218.1,
          1306.7,
          1125.9,
          1214.6,
          1080.9,
          1292.7,
          1282.1,
          1319.1,
          1225.8,
          1332.6,
          1236.6,
          1341.9,
          1272.4,
          1172.5,
          1061.3,
          1108.2,
          1222.9,
          1180.3,
          1298.3,
          1386.2,
          1178.2,
          1331,
          1382.1,
          1149,
          1403,
          1196.4,
          1210.2,
          1235.1,
          938.4,
          1064,
          1148.3,
          1054.2,
          1147.7,
          1247,
          1218,
          948.5,
          1214,
          1043.7,
          1290.2,
          1124.8,
          1270.4,
          1239.3,
          1023.4,
          1189.5,
          1171.6,
          1086.8,
          1331.5,
          1155.9,
          1140,
          1126.6,
          1078.9,
          1351,
          1122.4,
          1400.6,
          1159.9,
          1121.3,
          1201.9,
          1295.6,
          1243.6,
          1181.8,
          1171.4,
          1243.5,
          1132,
          1050.4,
          1083.3,
          920.8,
          1174.5,
          1071.3,
          1232.5,
          1199.4,
          1215.6,
          1132.1,
          959.3,
          1200.5,
          1110.1,
          1073.5,
          1216.2,
          1033.7,
          1093.2
         ]
        },
        {
         "marker": {
          "color": "red",
          "size": 8,
          "symbol": "circle"
         },
         "mode": "markers",
         "name": "Anomalous Years",
         "type": "scatter",
         "x": [
          1905,
          1917,
          1965,
          1972,
          2002,
          2009
         ],
         "y": [
          975.3,
          1480.3,
          938.4,
          948.5,
          920.8,
          959.3
         ]
        }
       ],
       "layout": {
        "annotations": [
         {
          "showarrow": false,
          "text": "Mean Rainfall",
          "x": 0,
          "xanchor": "left",
          "xref": "x domain",
          "y": 1182.0347826086959,
          "yanchor": "bottom",
          "yref": "y"
         }
        ],
        "height": 500,
        "legend": {
         "title": {
          "text": "Legend"
         }
        },
        "shapes": [
         {
          "line": {
           "color": "green",
           "dash": "dash"
          },
          "type": "line",
          "x0": 0,
          "x1": 1,
          "xref": "x domain",
          "y0": 1182.0347826086959,
          "y1": 1182.0347826086959,
          "yref": "y"
         }
        ],
        "template": {
         "data": {
          "bar": [
           {
            "error_x": {
             "color": "#2a3f5f"
            },
            "error_y": {
             "color": "#2a3f5f"
            },
            "marker": {
             "line": {
              "color": "white",
              "width": 0.5
             },
             "pattern": {
              "fillmode": "overlay",
              "size": 10,
              "solidity": 0.2
             }
            },
            "type": "bar"
           }
          ],
          "barpolar": [
           {
            "marker": {
             "line": {
              "color": "white",
              "width": 0.5
             },
             "pattern": {
              "fillmode": "overlay",
              "size": 10,
              "solidity": 0.2
             }
            },
            "type": "barpolar"
           }
          ],
          "carpet": [
           {
            "aaxis": {
             "endlinecolor": "#2a3f5f",
             "gridcolor": "#C8D4E3",
             "linecolor": "#C8D4E3",
             "minorgridcolor": "#C8D4E3",
             "startlinecolor": "#2a3f5f"
            },
            "baxis": {
             "endlinecolor": "#2a3f5f",
             "gridcolor": "#C8D4E3",
             "linecolor": "#C8D4E3",
             "minorgridcolor": "#C8D4E3",
             "startlinecolor": "#2a3f5f"
            },
            "type": "carpet"
           }
          ],
          "choropleth": [
           {
            "colorbar": {
             "outlinewidth": 0,
             "ticks": ""
            },
            "type": "choropleth"
           }
          ],
          "contour": [
           {
            "colorbar": {
             "outlinewidth": 0,
             "ticks": ""
            },
            "colorscale": [
             [
              0,
              "#0d0887"
             ],
             [
              0.1111111111111111,
              "#46039f"
             ],
             [
              0.2222222222222222,
              "#7201a8"
             ],
             [
              0.3333333333333333,
              "#9c179e"
             ],
             [
              0.4444444444444444,
              "#bd3786"
             ],
             [
              0.5555555555555556,
              "#d8576b"
             ],
             [
              0.6666666666666666,
              "#ed7953"
             ],
             [
              0.7777777777777778,
              "#fb9f3a"
             ],
             [
              0.8888888888888888,
              "#fdca26"
             ],
             [
              1,
              "#f0f921"
             ]
            ],
            "type": "contour"
           }
          ],
          "contourcarpet": [
           {
            "colorbar": {
             "outlinewidth": 0,
             "ticks": ""
            },
            "type": "contourcarpet"
           }
          ],
          "heatmap": [
           {
            "colorbar": {
             "outlinewidth": 0,
             "ticks": ""
            },
            "colorscale": [
             [
              0,
              "#0d0887"
             ],
             [
              0.1111111111111111,
              "#46039f"
             ],
             [
              0.2222222222222222,
              "#7201a8"
             ],
             [
              0.3333333333333333,
              "#9c179e"
             ],
             [
              0.4444444444444444,
              "#bd3786"
             ],
             [
              0.5555555555555556,
              "#d8576b"
             ],
             [
              0.6666666666666666,
              "#ed7953"
             ],
             [
              0.7777777777777778,
              "#fb9f3a"
             ],
             [
              0.8888888888888888,
              "#fdca26"
             ],
             [
              1,
              "#f0f921"
             ]
            ],
            "type": "heatmap"
           }
          ],
          "heatmapgl": [
           {
            "colorbar": {
             "outlinewidth": 0,
             "ticks": ""
            },
            "colorscale": [
             [
              0,
              "#0d0887"
             ],
             [
              0.1111111111111111,
              "#46039f"
             ],
             [
              0.2222222222222222,
              "#7201a8"
             ],
             [
              0.3333333333333333,
              "#9c179e"
             ],
             [
              0.4444444444444444,
              "#bd3786"
             ],
             [
              0.5555555555555556,
              "#d8576b"
             ],
             [
              0.6666666666666666,
              "#ed7953"
             ],
             [
              0.7777777777777778,
              "#fb9f3a"
             ],
             [
              0.8888888888888888,
              "#fdca26"
             ],
             [
              1,
              "#f0f921"
             ]
            ],
            "type": "heatmapgl"
           }
          ],
          "histogram": [
           {
            "marker": {
             "pattern": {
              "fillmode": "overlay",
              "size": 10,
              "solidity": 0.2
             }
            },
            "type": "histogram"
           }
          ],
          "histogram2d": [
           {
            "colorbar": {
             "outlinewidth": 0,
             "ticks": ""
            },
            "colorscale": [
             [
              0,
              "#0d0887"
             ],
             [
              0.1111111111111111,
              "#46039f"
             ],
             [
              0.2222222222222222,
              "#7201a8"
             ],
             [
              0.3333333333333333,
              "#9c179e"
             ],
             [
              0.4444444444444444,
              "#bd3786"
             ],
             [
              0.5555555555555556,
              "#d8576b"
             ],
             [
              0.6666666666666666,
              "#ed7953"
             ],
             [
              0.7777777777777778,
              "#fb9f3a"
             ],
             [
              0.8888888888888888,
              "#fdca26"
             ],
             [
              1,
              "#f0f921"
             ]
            ],
            "type": "histogram2d"
           }
          ],
          "histogram2dcontour": [
           {
            "colorbar": {
             "outlinewidth": 0,
             "ticks": ""
            },
            "colorscale": [
             [
              0,
              "#0d0887"
             ],
             [
              0.1111111111111111,
              "#46039f"
             ],
             [
              0.2222222222222222,
              "#7201a8"
             ],
             [
              0.3333333333333333,
              "#9c179e"
             ],
             [
              0.4444444444444444,
              "#bd3786"
             ],
             [
              0.5555555555555556,
              "#d8576b"
             ],
             [
              0.6666666666666666,
              "#ed7953"
             ],
             [
              0.7777777777777778,
              "#fb9f3a"
             ],
             [
              0.8888888888888888,
              "#fdca26"
             ],
             [
              1,
              "#f0f921"
             ]
            ],
            "type": "histogram2dcontour"
           }
          ],
          "mesh3d": [
           {
            "colorbar": {
             "outlinewidth": 0,
             "ticks": ""
            },
            "type": "mesh3d"
           }
          ],
          "parcoords": [
           {
            "line": {
             "colorbar": {
              "outlinewidth": 0,
              "ticks": ""
             }
            },
            "type": "parcoords"
           }
          ],
          "pie": [
           {
            "automargin": true,
            "type": "pie"
           }
          ],
          "scatter": [
           {
            "fillpattern": {
             "fillmode": "overlay",
             "size": 10,
             "solidity": 0.2
            },
            "type": "scatter"
           }
          ],
          "scatter3d": [
           {
            "line": {
             "colorbar": {
              "outlinewidth": 0,
              "ticks": ""
             }
            },
            "marker": {
             "colorbar": {
              "outlinewidth": 0,
              "ticks": ""
             }
            },
            "type": "scatter3d"
           }
          ],
          "scattercarpet": [
           {
            "marker": {
             "colorbar": {
              "outlinewidth": 0,
              "ticks": ""
             }
            },
            "type": "scattercarpet"
           }
          ],
          "scattergeo": [
           {
            "marker": {
             "colorbar": {
              "outlinewidth": 0,
              "ticks": ""
             }
            },
            "type": "scattergeo"
           }
          ],
          "scattergl": [
           {
            "marker": {
             "colorbar": {
              "outlinewidth": 0,
              "ticks": ""
             }
            },
            "type": "scattergl"
           }
          ],
          "scattermapbox": [
           {
            "marker": {
             "colorbar": {
              "outlinewidth": 0,
              "ticks": ""
             }
            },
            "type": "scattermapbox"
           }
          ],
          "scatterpolar": [
           {
            "marker": {
             "colorbar": {
              "outlinewidth": 0,
              "ticks": ""
             }
            },
            "type": "scatterpolar"
           }
          ],
          "scatterpolargl": [
           {
            "marker": {
             "colorbar": {
              "outlinewidth": 0,
              "ticks": ""
             }
            },
            "type": "scatterpolargl"
           }
          ],
          "scatterternary": [
           {
            "marker": {
             "colorbar": {
              "outlinewidth": 0,
              "ticks": ""
             }
            },
            "type": "scatterternary"
           }
          ],
          "surface": [
           {
            "colorbar": {
             "outlinewidth": 0,
             "ticks": ""
            },
            "colorscale": [
             [
              0,
              "#0d0887"
             ],
             [
              0.1111111111111111,
              "#46039f"
             ],
             [
              0.2222222222222222,
              "#7201a8"
             ],
             [
              0.3333333333333333,
              "#9c179e"
             ],
             [
              0.4444444444444444,
              "#bd3786"
             ],
             [
              0.5555555555555556,
              "#d8576b"
             ],
             [
              0.6666666666666666,
              "#ed7953"
             ],
             [
              0.7777777777777778,
              "#fb9f3a"
             ],
             [
              0.8888888888888888,
              "#fdca26"
             ],
             [
              1,
              "#f0f921"
             ]
            ],
            "type": "surface"
           }
          ],
          "table": [
           {
            "cells": {
             "fill": {
              "color": "#EBF0F8"
             },
             "line": {
              "color": "white"
             }
            },
            "header": {
             "fill": {
              "color": "#C8D4E3"
             },
             "line": {
              "color": "white"
             }
            },
            "type": "table"
           }
          ]
         },
         "layout": {
          "annotationdefaults": {
           "arrowcolor": "#2a3f5f",
           "arrowhead": 0,
           "arrowwidth": 1
          },
          "autotypenumbers": "strict",
          "coloraxis": {
           "colorbar": {
            "outlinewidth": 0,
            "ticks": ""
           }
          },
          "colorscale": {
           "diverging": [
            [
             0,
             "#8e0152"
            ],
            [
             0.1,
             "#c51b7d"
            ],
            [
             0.2,
             "#de77ae"
            ],
            [
             0.3,
             "#f1b6da"
            ],
            [
             0.4,
             "#fde0ef"
            ],
            [
             0.5,
             "#f7f7f7"
            ],
            [
             0.6,
             "#e6f5d0"
            ],
            [
             0.7,
             "#b8e186"
            ],
            [
             0.8,
             "#7fbc41"
            ],
            [
             0.9,
             "#4d9221"
            ],
            [
             1,
             "#276419"
            ]
           ],
           "sequential": [
            [
             0,
             "#0d0887"
            ],
            [
             0.1111111111111111,
             "#46039f"
            ],
            [
             0.2222222222222222,
             "#7201a8"
            ],
            [
             0.3333333333333333,
             "#9c179e"
            ],
            [
             0.4444444444444444,
             "#bd3786"
            ],
            [
             0.5555555555555556,
             "#d8576b"
            ],
            [
             0.6666666666666666,
             "#ed7953"
            ],
            [
             0.7777777777777778,
             "#fb9f3a"
            ],
            [
             0.8888888888888888,
             "#fdca26"
            ],
            [
             1,
             "#f0f921"
            ]
           ],
           "sequentialminus": [
            [
             0,
             "#0d0887"
            ],
            [
             0.1111111111111111,
             "#46039f"
            ],
            [
             0.2222222222222222,
             "#7201a8"
            ],
            [
             0.3333333333333333,
             "#9c179e"
            ],
            [
             0.4444444444444444,
             "#bd3786"
            ],
            [
             0.5555555555555556,
             "#d8576b"
            ],
            [
             0.6666666666666666,
             "#ed7953"
            ],
            [
             0.7777777777777778,
             "#fb9f3a"
            ],
            [
             0.8888888888888888,
             "#fdca26"
            ],
            [
             1,
             "#f0f921"
            ]
           ]
          },
          "colorway": [
           "#636efa",
           "#EF553B",
           "#00cc96",
           "#ab63fa",
           "#FFA15A",
           "#19d3f3",
           "#FF6692",
           "#B6E880",
           "#FF97FF",
           "#FECB52"
          ],
          "font": {
           "color": "#2a3f5f"
          },
          "geo": {
           "bgcolor": "white",
           "lakecolor": "white",
           "landcolor": "white",
           "showlakes": true,
           "showland": true,
           "subunitcolor": "#C8D4E3"
          },
          "hoverlabel": {
           "align": "left"
          },
          "hovermode": "closest",
          "mapbox": {
           "style": "light"
          },
          "paper_bgcolor": "white",
          "plot_bgcolor": "white",
          "polar": {
           "angularaxis": {
            "gridcolor": "#EBF0F8",
            "linecolor": "#EBF0F8",
            "ticks": ""
           },
           "bgcolor": "white",
           "radialaxis": {
            "gridcolor": "#EBF0F8",
            "linecolor": "#EBF0F8",
            "ticks": ""
           }
          },
          "scene": {
           "xaxis": {
            "backgroundcolor": "white",
            "gridcolor": "#DFE8F3",
            "gridwidth": 2,
            "linecolor": "#EBF0F8",
            "showbackground": true,
            "ticks": "",
            "zerolinecolor": "#EBF0F8"
           },
           "yaxis": {
            "backgroundcolor": "white",
            "gridcolor": "#DFE8F3",
            "gridwidth": 2,
            "linecolor": "#EBF0F8",
            "showbackground": true,
            "ticks": "",
            "zerolinecolor": "#EBF0F8"
           },
           "zaxis": {
            "backgroundcolor": "white",
            "gridcolor": "#DFE8F3",
            "gridwidth": 2,
            "linecolor": "#EBF0F8",
            "showbackground": true,
            "ticks": "",
            "zerolinecolor": "#EBF0F8"
           }
          },
          "shapedefaults": {
           "line": {
            "color": "#2a3f5f"
           }
          },
          "ternary": {
           "aaxis": {
            "gridcolor": "#DFE8F3",
            "linecolor": "#A2B1C6",
            "ticks": ""
           },
           "baxis": {
            "gridcolor": "#DFE8F3",
            "linecolor": "#A2B1C6",
            "ticks": ""
           },
           "bgcolor": "white",
           "caxis": {
            "gridcolor": "#DFE8F3",
            "linecolor": "#A2B1C6",
            "ticks": ""
           }
          },
          "title": {
           "x": 0.05
          },
          "xaxis": {
           "automargin": true,
           "gridcolor": "#EBF0F8",
           "linecolor": "#EBF0F8",
           "ticks": "",
           "title": {
            "standoff": 15
           },
           "zerolinecolor": "#EBF0F8",
           "zerolinewidth": 2
          },
          "yaxis": {
           "automargin": true,
           "gridcolor": "#EBF0F8",
           "linecolor": "#EBF0F8",
           "ticks": "",
           "title": {
            "standoff": 15
           },
           "zerolinecolor": "#EBF0F8",
           "zerolinewidth": 2
          }
         }
        },
        "title": {
         "text": "Annual Rainfall Anomalies in India (1901-2015)"
        },
        "xaxis": {
         "title": {
          "text": "Year"
         }
        },
        "yaxis": {
         "title": {
          "text": "Raindall (mm)"
         }
        }
       }
      }
     },
     "metadata": {},
     "output_type": "display_data"
    }
   ],
   "source": [
    "fig_annual_anomalies = go.Figure()\n",
    "\n",
    "fig_annual_anomalies.add_trace(go.Scatter(\n",
    "    x=rainfall_data['YEAR'],\n",
    "    y=rainfall_data['ANNUAL'],\n",
    "    mode='lines',\n",
    "    name='Annual Rainfall',\n",
    "    line=dict(color='blue', width=2),\n",
    "    opacity=0.6\n",
    "))\n",
    "\n",
    "fig_annual_anomalies.add_trace(go.Scatter(\n",
    "    x=annual_anomalies['YEAR'],\n",
    "    y=annual_anomalies['ANNUAL'],\n",
    "    mode='markers',\n",
    "    name='Anomalous Years',\n",
    "    marker=dict(color='red', size=8, symbol='circle')\n",
    "))\n",
    "\n",
    "fig_annual_anomalies.add_hline(\n",
    "    y=rainfall_data['ANNUAL'].mean(),\n",
    "    line_dash='dash',\n",
    "    line_color='green',\n",
    "    annotation_text='Mean Rainfall',\n",
    "    annotation_position='top left'\n",
    ")\n",
    "\n",
    "fig_annual_anomalies.update_layout(\n",
    "    title='Annual Rainfall Anomalies in India (1901-2015)',\n",
    "    xaxis_title='Year',\n",
    "    yaxis_title='Raindall (mm)',\n",
    "    template='plotly_white',\n",
    "    legend=dict(title='Legend'),\n",
    "    height=500\n",
    ")\n",
    "\n",
    "fig_annual_anomalies"
   ]
  },
  {
   "cell_type": "markdown",
   "metadata": {},
   "source": [
    "Identifying anomalies in monthly rainfall"
   ]
  },
  {
   "cell_type": "code",
   "execution_count": 78,
   "metadata": {},
   "outputs": [
    {
     "data": {
      "text/html": [
       "<div>\n",
       "<style scoped>\n",
       "    .dataframe tbody tr th:only-of-type {\n",
       "        vertical-align: middle;\n",
       "    }\n",
       "\n",
       "    .dataframe tbody tr th {\n",
       "        vertical-align: top;\n",
       "    }\n",
       "\n",
       "    .dataframe thead th {\n",
       "        text-align: right;\n",
       "    }\n",
       "</style>\n",
       "<table border=\"1\" class=\"dataframe\">\n",
       "  <thead>\n",
       "    <tr style=\"text-align: right;\">\n",
       "      <th></th>\n",
       "      <th>Year</th>\n",
       "      <th>Month</th>\n",
       "      <th>Rainfall</th>\n",
       "    </tr>\n",
       "  </thead>\n",
       "  <tbody>\n",
       "    <tr>\n",
       "      <th>0</th>\n",
       "      <td>1907.0</td>\n",
       "      <td>JAN</td>\n",
       "      <td>16.2</td>\n",
       "    </tr>\n",
       "    <tr>\n",
       "      <th>1</th>\n",
       "      <td>1911.0</td>\n",
       "      <td>JAN</td>\n",
       "      <td>45.7</td>\n",
       "    </tr>\n",
       "    <tr>\n",
       "      <th>2</th>\n",
       "      <td>1917.0</td>\n",
       "      <td>JAN</td>\n",
       "      <td>8.7</td>\n",
       "    </tr>\n",
       "    <tr>\n",
       "      <th>3</th>\n",
       "      <td>1918.0</td>\n",
       "      <td>JAN</td>\n",
       "      <td>12.2</td>\n",
       "    </tr>\n",
       "    <tr>\n",
       "      <th>4</th>\n",
       "      <td>1967.0</td>\n",
       "      <td>JAN</td>\n",
       "      <td>11.2</td>\n",
       "    </tr>\n",
       "    <tr>\n",
       "      <th>...</th>\n",
       "      <td>...</td>\n",
       "      <td>...</td>\n",
       "      <td>...</td>\n",
       "    </tr>\n",
       "    <tr>\n",
       "      <th>67</th>\n",
       "      <td>1911.0</td>\n",
       "      <td>DEC</td>\n",
       "      <td>12.0</td>\n",
       "    </tr>\n",
       "    <tr>\n",
       "      <th>68</th>\n",
       "      <td>1917.0</td>\n",
       "      <td>DEC</td>\n",
       "      <td>10.3</td>\n",
       "    </tr>\n",
       "    <tr>\n",
       "      <th>69</th>\n",
       "      <td>1918.0</td>\n",
       "      <td>DEC</td>\n",
       "      <td>16.4</td>\n",
       "    </tr>\n",
       "    <tr>\n",
       "      <th>70</th>\n",
       "      <td>1967.0</td>\n",
       "      <td>DEC</td>\n",
       "      <td>54.4</td>\n",
       "    </tr>\n",
       "    <tr>\n",
       "      <th>71</th>\n",
       "      <td>1990.0</td>\n",
       "      <td>DEC</td>\n",
       "      <td>28.4</td>\n",
       "    </tr>\n",
       "  </tbody>\n",
       "</table>\n",
       "<p>72 rows × 3 columns</p>\n",
       "</div>"
      ],
      "text/plain": [
       "      Year Month  Rainfall\n",
       "0   1907.0   JAN      16.2\n",
       "1   1911.0   JAN      45.7\n",
       "2   1917.0   JAN       8.7\n",
       "3   1918.0   JAN      12.2\n",
       "4   1967.0   JAN      11.2\n",
       "..     ...   ...       ...\n",
       "67  1911.0   DEC      12.0\n",
       "68  1917.0   DEC      10.3\n",
       "69  1918.0   DEC      16.4\n",
       "70  1967.0   DEC      54.4\n",
       "71  1990.0   DEC      28.4\n",
       "\n",
       "[72 rows x 3 columns]"
      ]
     },
     "execution_count": 78,
     "metadata": {},
     "output_type": "execute_result"
    }
   ],
   "source": [
    "# Preparing data for monthly anomalies\n",
    "month_anomalies = []\n",
    "for column in monthly_columns:\n",
    "    for _, row in month_anomalies_df.iterrows():\n",
    "        month_anomalies.append({'Year': row['YEAR'], 'Month': column, 'Rainfall': row[column]})\n",
    "\n",
    "month_anomalies_df_long = pd.DataFrame(month_anomalies)\n",
    "month_anomalies_df_long"
   ]
  },
  {
   "cell_type": "code",
   "execution_count": 79,
   "metadata": {},
   "outputs": [
    {
     "data": {
      "application/vnd.plotly.v1+json": {
       "config": {
        "plotlyServerURL": "https://plot.ly"
       },
       "data": [
        {
         "hovertemplate": "Month=JAN<br>Year=%{x}<br>Rainfall (mm)=%{y}<extra></extra>",
         "legendgroup": "JAN",
         "line": {
          "color": "rgb(141,211,199)",
          "dash": "solid"
         },
         "marker": {
          "symbol": "circle"
         },
         "mode": "lines",
         "name": "JAN",
         "showlegend": true,
         "type": "scattergl",
         "x": [
          1901,
          1902,
          1903,
          1904,
          1905,
          1906,
          1907,
          1908,
          1909,
          1910,
          1911,
          1912,
          1913,
          1914,
          1915,
          1916,
          1917,
          1918,
          1919,
          1920,
          1921,
          1922,
          1923,
          1924,
          1925,
          1926,
          1927,
          1928,
          1929,
          1930,
          1931,
          1932,
          1933,
          1934,
          1935,
          1936,
          1937,
          1938,
          1939,
          1940,
          1941,
          1942,
          1943,
          1944,
          1945,
          1946,
          1947,
          1948,
          1949,
          1950,
          1951,
          1952,
          1953,
          1954,
          1955,
          1956,
          1957,
          1958,
          1959,
          1960,
          1961,
          1962,
          1963,
          1964,
          1965,
          1966,
          1967,
          1968,
          1969,
          1970,
          1971,
          1972,
          1973,
          1974,
          1975,
          1976,
          1977,
          1978,
          1979,
          1980,
          1981,
          1982,
          1983,
          1984,
          1985,
          1986,
          1987,
          1988,
          1989,
          1990,
          1991,
          1992,
          1993,
          1994,
          1995,
          1996,
          1997,
          1998,
          1999,
          2000,
          2001,
          2002,
          2003,
          2004,
          2005,
          2006,
          2007,
          2008,
          2009,
          2010,
          2011,
          2012,
          2013,
          2014,
          2015
         ],
         "xaxis": "x",
         "y": [
          34.7,
          7.4,
          17,
          14.4,
          25.3,
          21.2,
          16.2,
          21.8,
          23.3,
          15.6,
          45.7,
          22.1,
          6.6,
          4.8,
          19.4,
          5.1,
          8.7,
          12.2,
          52.5,
          25.1,
          40.6,
          29.7,
          24.5,
          23.1,
          14.2,
          29.2,
          14.6,
          22.9,
          31.2,
          25.9,
          14.5,
          10.3,
          18,
          24.9,
          29.8,
          13,
          7,
          32.3,
          14,
          14.4,
          23.9,
          23.1,
          58.5,
          29.3,
          34.4,
          4.4,
          22.5,
          25.1,
          13,
          35.6,
          16,
          10.5,
          30.4,
          38.2,
          22.2,
          19.8,
          39.6,
          13.4,
          32.1,
          13.9,
          25.9,
          12.6,
          6.8,
          15.7,
          10.9,
          12.8,
          11.2,
          27.9,
          12.3,
          22.5,
          16,
          9.7,
          19.3,
          15.3,
          14.9,
          11.3,
          20.2,
          12.2,
          20.8,
          12.9,
          28.4,
          24.8,
          18.8,
          19.2,
          23.1,
          14.8,
          14.4,
          9.1,
          14.6,
          14.9,
          13.8,
          20.1,
          17.2,
          24.2,
          32.3,
          22.8,
          13.9,
          17.8,
          18.4,
          19,
          7.2,
          16.8,
          7.2,
          26.2,
          40.3,
          17.4,
          2.7,
          22.4,
          11.8,
          7.5,
          7.7,
          28.5,
          10,
          17.3,
          17.4
         ],
         "yaxis": "y"
        },
        {
         "hovertemplate": "Month=FEB<br>Year=%{x}<br>Rainfall (mm)=%{y}<extra></extra>",
         "legendgroup": "FEB",
         "line": {
          "color": "rgb(255,255,179)",
          "dash": "solid"
         },
         "marker": {
          "symbol": "circle"
         },
         "mode": "lines",
         "name": "FEB",
         "showlegend": true,
         "type": "scattergl",
         "x": [
          1901,
          1902,
          1903,
          1904,
          1905,
          1906,
          1907,
          1908,
          1909,
          1910,
          1911,
          1912,
          1913,
          1914,
          1915,
          1916,
          1917,
          1918,
          1919,
          1920,
          1921,
          1922,
          1923,
          1924,
          1925,
          1926,
          1927,
          1928,
          1929,
          1930,
          1931,
          1932,
          1933,
          1934,
          1935,
          1936,
          1937,
          1938,
          1939,
          1940,
          1941,
          1942,
          1943,
          1944,
          1945,
          1946,
          1947,
          1948,
          1949,
          1950,
          1951,
          1952,
          1953,
          1954,
          1955,
          1956,
          1957,
          1958,
          1959,
          1960,
          1961,
          1962,
          1963,
          1964,
          1965,
          1966,
          1967,
          1968,
          1969,
          1970,
          1971,
          1972,
          1973,
          1974,
          1975,
          1976,
          1977,
          1978,
          1979,
          1980,
          1981,
          1982,
          1983,
          1984,
          1985,
          1986,
          1987,
          1988,
          1989,
          1990,
          1991,
          1992,
          1993,
          1994,
          1995,
          1996,
          1997,
          1998,
          1999,
          2000,
          2001,
          2002,
          2003,
          2004,
          2005,
          2006,
          2007,
          2008,
          2009,
          2010,
          2011,
          2012,
          2013,
          2014,
          2015
         ],
         "xaxis": "x",
         "y": [
          37.7,
          4.3,
          8.3,
          9.6,
          20.9,
          50.8,
          46,
          17.8,
          17.9,
          11.1,
          5.6,
          21.8,
          40.8,
          31.5,
          41.6,
          22.7,
          38.7,
          4.4,
          22.7,
          23.9,
          8.8,
          10.3,
          41.5,
          25.5,
          12.5,
          11.5,
          37,
          41.9,
          20.6,
          23.6,
          34.7,
          25.2,
          31,
          11.7,
          21.9,
          44.6,
          53.8,
          32.8,
          35,
          27,
          16.9,
          45.6,
          9.8,
          39.8,
          9.9,
          18.9,
          18.5,
          29.6,
          28.9,
          26,
          12.3,
          20.4,
          10.7,
          37.7,
          4.5,
          11.3,
          17.6,
          18.8,
          24.3,
          2.7,
          35.2,
          21.5,
          9,
          14.3,
          26,
          24.1,
          13.4,
          19.5,
          13.8,
          26.9,
          22.5,
          27.1,
          20.9,
          12.5,
          18.7,
          23.5,
          10,
          27,
          34.7,
          22.1,
          20.4,
          24.4,
          23.6,
          35.7,
          9.6,
          36.7,
          21.8,
          28.2,
          14.2,
          44.3,
          26.3,
          18.7,
          24.3,
          26.8,
          29.2,
          23.1,
          10,
          35.9,
          12,
          27,
          10.3,
          21,
          42.1,
          10.7,
          46,
          11.5,
          35.7,
          19.2,
          13.2,
          16.3,
          26.3,
          10.8,
          36.9,
          25.9,
          21
         ],
         "yaxis": "y"
        },
        {
         "hovertemplate": "Month=MAR<br>Year=%{x}<br>Rainfall (mm)=%{y}<extra></extra>",
         "legendgroup": "MAR",
         "line": {
          "color": "rgb(190,186,218)",
          "dash": "solid"
         },
         "marker": {
          "symbol": "circle"
         },
         "mode": "lines",
         "name": "MAR",
         "showlegend": true,
         "type": "scattergl",
         "x": [
          1901,
          1902,
          1903,
          1904,
          1905,
          1906,
          1907,
          1908,
          1909,
          1910,
          1911,
          1912,
          1913,
          1914,
          1915,
          1916,
          1917,
          1918,
          1919,
          1920,
          1921,
          1922,
          1923,
          1924,
          1925,
          1926,
          1927,
          1928,
          1929,
          1930,
          1931,
          1932,
          1933,
          1934,
          1935,
          1936,
          1937,
          1938,
          1939,
          1940,
          1941,
          1942,
          1943,
          1944,
          1945,
          1946,
          1947,
          1948,
          1949,
          1950,
          1951,
          1952,
          1953,
          1954,
          1955,
          1956,
          1957,
          1958,
          1959,
          1960,
          1961,
          1962,
          1963,
          1964,
          1965,
          1966,
          1967,
          1968,
          1969,
          1970,
          1971,
          1972,
          1973,
          1974,
          1975,
          1976,
          1977,
          1978,
          1979,
          1980,
          1981,
          1982,
          1983,
          1984,
          1985,
          1986,
          1987,
          1988,
          1989,
          1990,
          1991,
          1992,
          1993,
          1994,
          1995,
          1996,
          1997,
          1998,
          1999,
          2000,
          2001,
          2002,
          2003,
          2004,
          2005,
          2006,
          2007,
          2008,
          2009,
          2010,
          2011,
          2012,
          2013,
          2014,
          2015
         ],
         "xaxis": "x",
         "y": [
          18,
          19,
          31.3,
          31.8,
          42.7,
          31.7,
          37.8,
          8.7,
          7.2,
          13.8,
          49.9,
          21.2,
          25,
          28.3,
          46.2,
          12.3,
          22.8,
          41.6,
          20.3,
          58.2,
          18.6,
          14.6,
          22.7,
          14.3,
          15.8,
          60.1,
          23.1,
          22.7,
          14.4,
          25.7,
          19.7,
          22.5,
          26.6,
          17.2,
          20.9,
          40.3,
          20.3,
          33.2,
          32.8,
          49.6,
          19.2,
          20,
          30,
          56.7,
          20.1,
          24.2,
          26,
          40.1,
          24.5,
          36.9,
          45.2,
          38,
          25.5,
          17.4,
          24.8,
          32.2,
          29.8,
          19.2,
          21.8,
          35.5,
          26.6,
          15.6,
          38.6,
          18.9,
          26.4,
          20.3,
          63.3,
          27.5,
          19.5,
          24.9,
          10.3,
          21,
          19.7,
          19.8,
          27.2,
          23.9,
          13.7,
          44.2,
          29.3,
          32.3,
          47.6,
          46.6,
          43.4,
          21.8,
          19.8,
          28.8,
          27.4,
          49.3,
          26.9,
          53.3,
          27.8,
          25.4,
          39.3,
          23.9,
          28.1,
          31.4,
          30.2,
          44.1,
          10.8,
          18.6,
          21.3,
          22.9,
          33.7,
          11.9,
          42.6,
          34.4,
          34.4,
          37.7,
          15.2,
          16.6,
          21.4,
          10.6,
          14.5,
          32.6,
          62
         ],
         "yaxis": "y"
        },
        {
         "hovertemplate": "Month=APR<br>Year=%{x}<br>Rainfall (mm)=%{y}<extra></extra>",
         "legendgroup": "APR",
         "line": {
          "color": "rgb(251,128,114)",
          "dash": "solid"
         },
         "marker": {
          "symbol": "circle"
         },
         "mode": "lines",
         "name": "APR",
         "showlegend": true,
         "type": "scattergl",
         "x": [
          1901,
          1902,
          1903,
          1904,
          1905,
          1906,
          1907,
          1908,
          1909,
          1910,
          1911,
          1912,
          1913,
          1914,
          1915,
          1916,
          1917,
          1918,
          1919,
          1920,
          1921,
          1922,
          1923,
          1924,
          1925,
          1926,
          1927,
          1928,
          1929,
          1930,
          1931,
          1932,
          1933,
          1934,
          1935,
          1936,
          1937,
          1938,
          1939,
          1940,
          1941,
          1942,
          1943,
          1944,
          1945,
          1946,
          1947,
          1948,
          1949,
          1950,
          1951,
          1952,
          1953,
          1954,
          1955,
          1956,
          1957,
          1958,
          1959,
          1960,
          1961,
          1962,
          1963,
          1964,
          1965,
          1966,
          1967,
          1968,
          1969,
          1970,
          1971,
          1972,
          1973,
          1974,
          1975,
          1976,
          1977,
          1978,
          1979,
          1980,
          1981,
          1982,
          1983,
          1984,
          1985,
          1986,
          1987,
          1988,
          1989,
          1990,
          1991,
          1992,
          1993,
          1994,
          1995,
          1996,
          1997,
          1998,
          1999,
          2000,
          2001,
          2002,
          2003,
          2004,
          2005,
          2006,
          2007,
          2008,
          2009,
          2010,
          2011,
          2012,
          2013,
          2014,
          2015
         ],
         "xaxis": "x",
         "y": [
          39.3,
          43.5,
          17.1,
          33.1,
          33.7,
          16.1,
          62.8,
          33.3,
          63,
          29.2,
          22.8,
          40,
          26.1,
          46.3,
          36.4,
          36.1,
          43.2,
          38.8,
          33.5,
          38.8,
          43.5,
          31.5,
          32.1,
          31.7,
          44,
          42.7,
          37.4,
          34.6,
          55.2,
          53.2,
          37.4,
          31.3,
          50.1,
          47.2,
          44.2,
          34.3,
          56.1,
          35.3,
          42.3,
          28.1,
          31.3,
          46.6,
          50.1,
          33.2,
          47,
          48,
          39.3,
          42.4,
          52.7,
          28.9,
          55.7,
          32.8,
          38.3,
          23.1,
          31.9,
          31.2,
          40.9,
          36.6,
          25.9,
          20,
          28.9,
          43.5,
          50.1,
          40.1,
          43.6,
          32,
          29.1,
          32.4,
          39.7,
          29.2,
          52.3,
          36.9,
          27,
          32.2,
          27.5,
          35.6,
          67,
          32.9,
          20.9,
          34.1,
          36.3,
          50.7,
          57.7,
          43.7,
          37.9,
          48.1,
          41.3,
          41.5,
          33.1,
          42,
          49.2,
          23.5,
          26.1,
          45,
          31.4,
          31.1,
          45.1,
          41.6,
          19.1,
          35,
          45.5,
          38.9,
          35.5,
          50.6,
          38.5,
          30.4,
          33.6,
          32.6,
          26,
          42.1,
          41,
          48.5,
          29.4,
          20.2,
          69.4
         ],
         "yaxis": "y"
        },
        {
         "hovertemplate": "Month=MAY<br>Year=%{x}<br>Rainfall (mm)=%{y}<extra></extra>",
         "legendgroup": "MAY",
         "line": {
          "color": "rgb(128,177,211)",
          "dash": "solid"
         },
         "marker": {
          "symbol": "circle"
         },
         "mode": "lines",
         "name": "MAY",
         "showlegend": true,
         "type": "scattergl",
         "x": [
          1901,
          1902,
          1903,
          1904,
          1905,
          1906,
          1907,
          1908,
          1909,
          1910,
          1911,
          1912,
          1913,
          1914,
          1915,
          1916,
          1917,
          1918,
          1919,
          1920,
          1921,
          1922,
          1923,
          1924,
          1925,
          1926,
          1927,
          1928,
          1929,
          1930,
          1931,
          1932,
          1933,
          1934,
          1935,
          1936,
          1937,
          1938,
          1939,
          1940,
          1941,
          1942,
          1943,
          1944,
          1945,
          1946,
          1947,
          1948,
          1949,
          1950,
          1951,
          1952,
          1953,
          1954,
          1955,
          1956,
          1957,
          1958,
          1959,
          1960,
          1961,
          1962,
          1963,
          1964,
          1965,
          1966,
          1967,
          1968,
          1969,
          1970,
          1971,
          1972,
          1973,
          1974,
          1975,
          1976,
          1977,
          1978,
          1979,
          1980,
          1981,
          1982,
          1983,
          1984,
          1985,
          1986,
          1987,
          1988,
          1989,
          1990,
          1991,
          1992,
          1993,
          1994,
          1995,
          1996,
          1997,
          1998,
          1999,
          2000,
          2001,
          2002,
          2003,
          2004,
          2005,
          2006,
          2007,
          2008,
          2009,
          2010,
          2011,
          2012,
          2013,
          2014,
          2015
         ],
         "xaxis": "x",
         "y": [
          50.8,
          48.3,
          59.5,
          72.4,
          55.7,
          36.7,
          32.6,
          45.4,
          52.1,
          41.5,
          47.6,
          43,
          73.2,
          69.5,
          62.7,
          59.5,
          75,
          102.8,
          60.5,
          53.9,
          49.4,
          49,
          60.7,
          64.4,
          104.1,
          58.6,
          51.8,
          54.3,
          65.7,
          56.7,
          59.3,
          85.3,
          103.2,
          48,
          35.8,
          82.9,
          57.1,
          70.6,
          40.2,
          81.2,
          80.3,
          65.8,
          95.7,
          61.1,
          53.8,
          71.3,
          55,
          90.1,
          89.1,
          49.3,
          59.9,
          66.4,
          47.3,
          53,
          74.2,
          84.4,
          72.1,
          79.9,
          75.4,
          56.6,
          77.1,
          70.6,
          59.6,
          51.6,
          51.2,
          57,
          42.4,
          46.7,
          63.2,
          68.3,
          74.9,
          55.6,
          56,
          63.3,
          49.7,
          44.2,
          83.8,
          58.5,
          51.7,
          54.7,
          67,
          59.6,
          71.1,
          59.5,
          60.1,
          48.7,
          66.3,
          68.8,
          55.9,
          114.5,
          67.5,
          56.2,
          69.5,
          52.1,
          80.7,
          55.6,
          47,
          51.5,
          94.3,
          73.5,
          61.3,
          57.7,
          38.6,
          74.5,
          50.3,
          80.7,
          50.4,
          45.2,
          56.6,
          69,
          51.6,
          32.1,
          56.5,
          72.8,
          53.8
         ],
         "yaxis": "y"
        },
        {
         "hovertemplate": "Month=JUN<br>Year=%{x}<br>Rainfall (mm)=%{y}<extra></extra>",
         "legendgroup": "JUN",
         "line": {
          "color": "rgb(253,180,98)",
          "dash": "solid"
         },
         "marker": {
          "symbol": "circle"
         },
         "mode": "lines",
         "name": "JUN",
         "showlegend": true,
         "type": "scattergl",
         "x": [
          1901,
          1902,
          1903,
          1904,
          1905,
          1906,
          1907,
          1908,
          1909,
          1910,
          1911,
          1912,
          1913,
          1914,
          1915,
          1916,
          1917,
          1918,
          1919,
          1920,
          1921,
          1922,
          1923,
          1924,
          1925,
          1926,
          1927,
          1928,
          1929,
          1930,
          1931,
          1932,
          1933,
          1934,
          1935,
          1936,
          1937,
          1938,
          1939,
          1940,
          1941,
          1942,
          1943,
          1944,
          1945,
          1946,
          1947,
          1948,
          1949,
          1950,
          1951,
          1952,
          1953,
          1954,
          1955,
          1956,
          1957,
          1958,
          1959,
          1960,
          1961,
          1962,
          1963,
          1964,
          1965,
          1966,
          1967,
          1968,
          1969,
          1970,
          1971,
          1972,
          1973,
          1974,
          1975,
          1976,
          1977,
          1978,
          1979,
          1980,
          1981,
          1982,
          1983,
          1984,
          1985,
          1986,
          1987,
          1988,
          1989,
          1990,
          1991,
          1992,
          1993,
          1994,
          1995,
          1996,
          1997,
          1998,
          1999,
          2000,
          2001,
          2002,
          2003,
          2004,
          2005,
          2006,
          2007,
          2008,
          2009,
          2010,
          2011,
          2012,
          2013,
          2014,
          2015
         ],
         "xaxis": "x",
         "y": [
          113.4,
          108.8,
          118.3,
          164.8,
          93.3,
          177.1,
          154.4,
          126.4,
          208.2,
          213.5,
          191.9,
          106.8,
          214.4,
          159.3,
          155.9,
          235.2,
          231.8,
          212.6,
          195.2,
          163.9,
          193.9,
          202.7,
          102.7,
          135.5,
          209.2,
          99,
          179.4,
          179.1,
          194.8,
          182.2,
          134.5,
          142.5,
          218.2,
          215.2,
          159.6,
          249,
          163,
          275.5,
          172.2,
          175.5,
          172.6,
          190.7,
          168.5,
          157.1,
          158.5,
          213.8,
          130.4,
          164.2,
          163.1,
          134,
          160.9,
          165.6,
          162.6,
          143.2,
          178.3,
          211.7,
          155,
          123.9,
          168.7,
          159.1,
          192.1,
          136.3,
          165.5,
          176.4,
          115.8,
          177.4,
          144.9,
          148,
          129.8,
          212.8,
          228.5,
          123,
          147.5,
          122.8,
          177.6,
          155,
          187.3,
          210.4,
          141.3,
          229.4,
          153,
          136.9,
          152.2,
          192,
          156.2,
          182.7,
          133.2,
          159,
          186.3,
          194,
          184.2,
          139.2,
          170.8,
          206,
          140.6,
          183.4,
          171.6,
          164.3,
          171.3,
          184.5,
          215.1,
          170.1,
          164.5,
          167.8,
          146.9,
          151.4,
          201.4,
          208.8,
          86.5,
          140.9,
          182.8,
          125,
          217.9,
          95.5,
          192.8
         ],
         "yaxis": "y"
        },
        {
         "hovertemplate": "Month=JUL<br>Year=%{x}<br>Rainfall (mm)=%{y}<extra></extra>",
         "legendgroup": "JUL",
         "line": {
          "color": "rgb(179,222,105)",
          "dash": "solid"
         },
         "marker": {
          "symbol": "circle"
         },
         "mode": "lines",
         "name": "JUL",
         "showlegend": true,
         "type": "scattergl",
         "x": [
          1901,
          1902,
          1903,
          1904,
          1905,
          1906,
          1907,
          1908,
          1909,
          1910,
          1911,
          1912,
          1913,
          1914,
          1915,
          1916,
          1917,
          1918,
          1919,
          1920,
          1921,
          1922,
          1923,
          1924,
          1925,
          1926,
          1927,
          1928,
          1929,
          1930,
          1931,
          1932,
          1933,
          1934,
          1935,
          1936,
          1937,
          1938,
          1939,
          1940,
          1941,
          1942,
          1943,
          1944,
          1945,
          1946,
          1947,
          1948,
          1949,
          1950,
          1951,
          1952,
          1953,
          1954,
          1955,
          1956,
          1957,
          1958,
          1959,
          1960,
          1961,
          1962,
          1963,
          1964,
          1965,
          1966,
          1967,
          1968,
          1969,
          1970,
          1971,
          1972,
          1973,
          1974,
          1975,
          1976,
          1977,
          1978,
          1979,
          1980,
          1981,
          1982,
          1983,
          1984,
          1985,
          1986,
          1987,
          1988,
          1989,
          1990,
          1991,
          1992,
          1993,
          1994,
          1995,
          1996,
          1997,
          1998,
          1999,
          2000,
          2001,
          2002,
          2003,
          2004,
          2005,
          2006,
          2007,
          2008,
          2009,
          2010,
          2011,
          2012,
          2013,
          2014,
          2015
         ],
         "xaxis": "x",
         "y": [
          242.2,
          284,
          297,
          261,
          252.8,
          285.4,
          225.4,
          327.2,
          309.4,
          250.3,
          162.7,
          329,
          272.4,
          347.3,
          230,
          267.1,
          285.2,
          183.8,
          309.3,
          297.5,
          297.5,
          317.8,
          339.5,
          328,
          306.8,
          320.9,
          351,
          306.6,
          298.8,
          292.5,
          325.9,
          335.5,
          284,
          285.5,
          318.4,
          296.4,
          339.7,
          304.5,
          277,
          313.8,
          240.8,
          345.1,
          312.5,
          354.7,
          335,
          319.3,
          315,
          347.8,
          319,
          331.2,
          253.4,
          286.5,
          321.6,
          295.6,
          236.3,
          363,
          306.5,
          320,
          377.1,
          318.6,
          339.1,
          282.9,
          257.8,
          344.3,
          269.2,
          251.9,
          304.6,
          309.6,
          318.7,
          245.2,
          268.7,
          205.5,
          279.3,
          280.3,
          308.4,
          297.2,
          326.9,
          292.1,
          239.3,
          298.3,
          308.6,
          232.3,
          282.5,
          286.5,
          289.3,
          261.4,
          221.8,
          383.4,
          302.3,
          286.7,
          281.4,
          270.2,
          307.5,
          353.4,
          325.7,
          266.4,
          281.5,
          282.1,
          262.7,
          267.6,
          281.1,
          138.9,
          305.6,
          241.7,
          340.3,
          298.5,
          295.8,
          250,
          283.7,
          293.6,
          243,
          258.1,
          305.4,
          258.8,
          242.4
         ],
         "yaxis": "y"
        },
        {
         "hovertemplate": "Month=AUG<br>Year=%{x}<br>Rainfall (mm)=%{y}<extra></extra>",
         "legendgroup": "AUG",
         "line": {
          "color": "rgb(252,205,229)",
          "dash": "solid"
         },
         "marker": {
          "symbol": "circle"
         },
         "mode": "lines",
         "name": "AUG",
         "showlegend": true,
         "type": "scattergl",
         "x": [
          1901,
          1902,
          1903,
          1904,
          1905,
          1906,
          1907,
          1908,
          1909,
          1910,
          1911,
          1912,
          1913,
          1914,
          1915,
          1916,
          1917,
          1918,
          1919,
          1920,
          1921,
          1922,
          1923,
          1924,
          1925,
          1926,
          1927,
          1928,
          1929,
          1930,
          1931,
          1932,
          1933,
          1934,
          1935,
          1936,
          1937,
          1938,
          1939,
          1940,
          1941,
          1942,
          1943,
          1944,
          1945,
          1946,
          1947,
          1948,
          1949,
          1950,
          1951,
          1952,
          1953,
          1954,
          1955,
          1956,
          1957,
          1958,
          1959,
          1960,
          1961,
          1962,
          1963,
          1964,
          1965,
          1966,
          1967,
          1968,
          1969,
          1970,
          1971,
          1972,
          1973,
          1974,
          1975,
          1976,
          1977,
          1978,
          1979,
          1980,
          1981,
          1982,
          1983,
          1984,
          1985,
          1986,
          1987,
          1988,
          1989,
          1990,
          1991,
          1992,
          1993,
          1994,
          1995,
          1996,
          1997,
          1998,
          1999,
          2000,
          2001,
          2002,
          2003,
          2004,
          2005,
          2006,
          2007,
          2008,
          2009,
          2010,
          2011,
          2012,
          2013,
          2014,
          2015
         ],
         "xaxis": "x",
         "y": [
          272.9,
          199.7,
          270.4,
          206.4,
          200.8,
          251.1,
          310.4,
          312.8,
          235,
          289.8,
          213.5,
          261.3,
          193.9,
          240.8,
          230.1,
          310.5,
          296.5,
          242.7,
          289.5,
          191.7,
          278.5,
          222.7,
          277,
          263.1,
          238.9,
          335.5,
          259.3,
          232.8,
          246.9,
          214.5,
          309,
          239.1,
          316.5,
          300.7,
          248.2,
          241.8,
          210.5,
          251.5,
          234.4,
          282.2,
          230.7,
          293.4,
          234.8,
          291.6,
          247.7,
          296.6,
          291.1,
          281.8,
          244,
          235.3,
          222.6,
          256.8,
          301.9,
          232.1,
          320.6,
          260.1,
          277.7,
          325.3,
          266.6,
          253.2,
          288.4,
          277,
          317.2,
          274.6,
          192.3,
          216.1,
          262.9,
          212,
          272.4,
          313.6,
          269,
          221.8,
          312.5,
          232,
          290.6,
          295.5,
          247.5,
          284.5,
          211.3,
          267.1,
          239.2,
          275.9,
          307.6,
          262.9,
          233.5,
          233.5,
          243.2,
          303.3,
          238.2,
          293.2,
          263.2,
          288,
          205.4,
          287.9,
          268.8,
          295.4,
          260,
          250,
          217.8,
          225.2,
          210,
          246.2,
          247.8,
          252.5,
          192,
          302.6,
          259.2,
          264.3,
          191.9,
          272.3,
          284.6,
          263.9,
          248.4,
          237.9,
          205.2
         ],
         "yaxis": "y"
        },
        {
         "hovertemplate": "Month=SEP<br>Year=%{x}<br>Rainfall (mm)=%{y}<extra></extra>",
         "legendgroup": "SEP",
         "line": {
          "color": "rgb(217,217,217)",
          "dash": "solid"
         },
         "marker": {
          "symbol": "circle"
         },
         "mode": "lines",
         "name": "SEP",
         "showlegend": true,
         "type": "scattergl",
         "x": [
          1901,
          1902,
          1903,
          1904,
          1905,
          1906,
          1907,
          1908,
          1909,
          1910,
          1911,
          1912,
          1913,
          1914,
          1915,
          1916,
          1917,
          1918,
          1919,
          1920,
          1921,
          1922,
          1923,
          1924,
          1925,
          1926,
          1927,
          1928,
          1929,
          1930,
          1931,
          1932,
          1933,
          1934,
          1935,
          1936,
          1937,
          1938,
          1939,
          1940,
          1941,
          1942,
          1943,
          1944,
          1945,
          1946,
          1947,
          1948,
          1949,
          1950,
          1951,
          1952,
          1953,
          1954,
          1955,
          1956,
          1957,
          1958,
          1959,
          1960,
          1961,
          1962,
          1963,
          1964,
          1965,
          1966,
          1967,
          1968,
          1969,
          1970,
          1971,
          1972,
          1973,
          1974,
          1975,
          1976,
          1977,
          1978,
          1979,
          1980,
          1981,
          1982,
          1983,
          1984,
          1985,
          1986,
          1987,
          1988,
          1989,
          1990,
          1991,
          1992,
          1993,
          1994,
          1995,
          1996,
          1997,
          1998,
          1999,
          2000,
          2001,
          2002,
          2003,
          2004,
          2005,
          2006,
          2007,
          2008,
          2009,
          2010,
          2011,
          2012,
          2013,
          2014,
          2015
         ],
         "xaxis": "x",
         "y": [
          124.4,
          201.5,
          199.1,
          129.6,
          178.4,
          182.7,
          96.9,
          150.5,
          163.6,
          186.8,
          182.3,
          120.3,
          108.4,
          194.3,
          172,
          201.6,
          281,
          109.7,
          163.6,
          123,
          206.6,
          202.7,
          178.7,
          242.5,
          141.7,
          211,
          173.1,
          144.4,
          126.6,
          176.7,
          193.6,
          182,
          215.5,
          169,
          187.1,
          194.5,
          175,
          170.7,
          155.8,
          125.5,
          156.1,
          184.4,
          212.8,
          158.3,
          215.5,
          145,
          238.9,
          179.4,
          225.6,
          203.7,
          124.4,
          120.7,
          179.2,
          248.7,
          218.7,
          165,
          132.3,
          229.8,
          239.3,
          180.4,
          236.2,
          212,
          165.4,
          198.9,
          131.1,
          148.8,
          170.4,
          129.3,
          174.9,
          212.1,
          147.7,
          129.1,
          182.5,
          142.1,
          228.7,
          144.7,
          147.5,
          161.1,
          135.7,
          145.6,
          186.6,
          125.3,
          255.3,
          145.4,
          151.7,
          125.5,
          151.3,
          220.4,
          164.1,
          196.6,
          139.8,
          170.3,
          211.2,
          150.7,
          181.1,
          146.4,
          150.1,
          201.1,
          186.1,
          135.3,
          109.2,
          133.9,
          179.9,
          123.6,
          200.7,
          175.4,
          215.1,
          165.7,
          140.3,
          195.6,
          190.5,
          197.7,
          148.4,
          187.9,
          131.8
         ],
         "yaxis": "y"
        },
        {
         "hovertemplate": "Month=OCT<br>Year=%{x}<br>Rainfall (mm)=%{y}<extra></extra>",
         "legendgroup": "OCT",
         "line": {
          "color": "rgb(188,128,189)",
          "dash": "solid"
         },
         "marker": {
          "symbol": "circle"
         },
         "mode": "lines",
         "name": "OCT",
         "showlegend": true,
         "type": "scattergl",
         "x": [
          1901,
          1902,
          1903,
          1904,
          1905,
          1906,
          1907,
          1908,
          1909,
          1910,
          1911,
          1912,
          1913,
          1914,
          1915,
          1916,
          1917,
          1918,
          1919,
          1920,
          1921,
          1922,
          1923,
          1924,
          1925,
          1926,
          1927,
          1928,
          1929,
          1930,
          1931,
          1932,
          1933,
          1934,
          1935,
          1936,
          1937,
          1938,
          1939,
          1940,
          1941,
          1942,
          1943,
          1944,
          1945,
          1946,
          1947,
          1948,
          1949,
          1950,
          1951,
          1952,
          1953,
          1954,
          1955,
          1956,
          1957,
          1958,
          1959,
          1960,
          1961,
          1962,
          1963,
          1964,
          1965,
          1966,
          1967,
          1968,
          1969,
          1970,
          1971,
          1972,
          1973,
          1974,
          1975,
          1976,
          1977,
          1978,
          1979,
          1980,
          1981,
          1982,
          1983,
          1984,
          1985,
          1986,
          1987,
          1988,
          1989,
          1990,
          1991,
          1992,
          1993,
          1994,
          1995,
          1996,
          1997,
          1998,
          1999,
          2000,
          2001,
          2002,
          2003,
          2004,
          2005,
          2006,
          2007,
          2008,
          2009,
          2010,
          2011,
          2012,
          2013,
          2014,
          2015
         ],
         "xaxis": "x",
         "y": [
          52.7,
          61.5,
          117.9,
          69,
          51.4,
          49.6,
          22.7,
          37.5,
          38.3,
          107.4,
          70.6,
          55.9,
          67,
          48.5,
          90.3,
          138.2,
          158.8,
          20,
          92.5,
          44.1,
          71.1,
          61,
          60.9,
          66.2,
          68.8,
          57.3,
          69.2,
          128.8,
          92.4,
          94.8,
          124.5,
          69.2,
          94.4,
          63.5,
          49.1,
          66.9,
          95.4,
          77.3,
          91.8,
          60.9,
          62.7,
          35.5,
          87.5,
          92.6,
          81.9,
          83.4,
          69.4,
          59.8,
          97.7,
          56.3,
          73.7,
          79.6,
          84.6,
          73.9,
          151.3,
          152.3,
          65.1,
          119.5,
          120,
          69,
          122.8,
          77.7,
          98.1,
          65.9,
          33.5,
          56.7,
          40.3,
          67.7,
          54.1,
          73.9,
          100.6,
          66,
          114.3,
          102.4,
          120.9,
          32,
          83.4,
          48.8,
          50.1,
          50.3,
          43.1,
          51.9,
          86.5,
          60.3,
          114.7,
          70.6,
          93,
          55.1,
          50.7,
          103.2,
          60.4,
          64.3,
          86.8,
          79.9,
          80.2,
          95.9,
          59,
          106.1,
          116,
          40.6,
          97.7,
          54.4,
          92.7,
          88.8,
          96.2,
          52.3,
          55.3,
          50.5,
          70.1,
          67.7,
          36.5,
          59.8,
          128.9,
          60.9,
          42.9
         ],
         "yaxis": "y"
        },
        {
         "hovertemplate": "Month=NOV<br>Year=%{x}<br>Rainfall (mm)=%{y}<extra></extra>",
         "legendgroup": "NOV",
         "line": {
          "color": "rgb(204,235,197)",
          "dash": "solid"
         },
         "marker": {
          "symbol": "circle"
         },
         "mode": "lines",
         "name": "NOV",
         "showlegend": true,
         "type": "scattergl",
         "x": [
          1901,
          1902,
          1903,
          1904,
          1905,
          1906,
          1907,
          1908,
          1909,
          1910,
          1911,
          1912,
          1913,
          1914,
          1915,
          1916,
          1917,
          1918,
          1919,
          1920,
          1921,
          1922,
          1923,
          1924,
          1925,
          1926,
          1927,
          1928,
          1929,
          1930,
          1931,
          1932,
          1933,
          1934,
          1935,
          1936,
          1937,
          1938,
          1939,
          1940,
          1941,
          1942,
          1943,
          1944,
          1945,
          1946,
          1947,
          1948,
          1949,
          1950,
          1951,
          1952,
          1953,
          1954,
          1955,
          1956,
          1957,
          1958,
          1959,
          1960,
          1961,
          1962,
          1963,
          1964,
          1965,
          1966,
          1967,
          1968,
          1969,
          1970,
          1971,
          1972,
          1973,
          1974,
          1975,
          1976,
          1977,
          1978,
          1979,
          1980,
          1981,
          1982,
          1983,
          1984,
          1985,
          1986,
          1987,
          1988,
          1989,
          1990,
          1991,
          1992,
          1993,
          1994,
          1995,
          1996,
          1997,
          1998,
          1999,
          2000,
          2001,
          2002,
          2003,
          2004,
          2005,
          2006,
          2007,
          2008,
          2009,
          2010,
          2011,
          2012,
          2013,
          2014,
          2015
         ],
         "xaxis": "x",
         "y": [
          38,
          27.9,
          36.9,
          11.2,
          9.7,
          17.8,
          22.5,
          6.5,
          9.8,
          35,
          42.8,
          50.8,
          17.4,
          21.1,
          44.1,
          45.6,
          28.2,
          41.1,
          49.8,
          24.5,
          14.5,
          55.5,
          19.4,
          57.9,
          39.9,
          10.6,
          55.9,
          23.6,
          18.5,
          54.1,
          40.6,
          59.9,
          20,
          32.9,
          17.2,
          55,
          19.8,
          17.9,
          28.9,
          38.8,
          26.8,
          18.2,
          16.7,
          29,
          16.8,
          72.7,
          7.6,
          71.8,
          10.1,
          27.4,
          31.3,
          9.1,
          12.5,
          3.6,
          26.1,
          42.6,
          27.6,
          29.9,
          25.8,
          31.6,
          20.5,
          18,
          27.5,
          21.9,
          17.4,
          49.3,
          11.4,
          21.6,
          37.2,
          15.8,
          15.5,
          30.3,
          17.7,
          10.2,
          22.8,
          54.4,
          67.1,
          48.9,
          74.2,
          23.1,
          27.2,
          44.6,
          10,
          13.8,
          18.5,
          47.7,
          43.6,
          15.6,
          19.3,
          29.5,
          28.8,
          40.3,
          28.2,
          25.6,
          36.7,
          13.3,
          55.5,
          38.7,
          19.7,
          14.7,
          18.5,
          14.7,
          10.2,
          16.9,
          27.2,
          32.1,
          15.2,
          25.1,
          53.2,
          56.7,
          18.4,
          28.9,
          13.7,
          13.5,
          39.4
         ],
         "yaxis": "y"
        },
        {
         "hovertemplate": "Month=DEC<br>Year=%{x}<br>Rainfall (mm)=%{y}<extra></extra>",
         "legendgroup": "DEC",
         "line": {
          "color": "rgb(255,237,111)",
          "dash": "solid"
         },
         "marker": {
          "symbol": "circle"
         },
         "mode": "lines",
         "name": "DEC",
         "showlegend": true,
         "type": "scattergl",
         "x": [
          1901,
          1902,
          1903,
          1904,
          1905,
          1906,
          1907,
          1908,
          1909,
          1910,
          1911,
          1912,
          1913,
          1914,
          1915,
          1916,
          1917,
          1918,
          1919,
          1920,
          1921,
          1922,
          1923,
          1924,
          1925,
          1926,
          1927,
          1928,
          1929,
          1930,
          1931,
          1932,
          1933,
          1934,
          1935,
          1936,
          1937,
          1938,
          1939,
          1940,
          1941,
          1942,
          1943,
          1944,
          1945,
          1946,
          1947,
          1948,
          1949,
          1950,
          1951,
          1952,
          1953,
          1954,
          1955,
          1956,
          1957,
          1958,
          1959,
          1960,
          1961,
          1962,
          1963,
          1964,
          1965,
          1966,
          1967,
          1968,
          1969,
          1970,
          1971,
          1972,
          1973,
          1974,
          1975,
          1976,
          1977,
          1978,
          1979,
          1980,
          1981,
          1982,
          1983,
          1984,
          1985,
          1986,
          1987,
          1988,
          1989,
          1990,
          1991,
          1992,
          1993,
          1994,
          1995,
          1996,
          1997,
          1998,
          1999,
          2000,
          2001,
          2002,
          2003,
          2004,
          2005,
          2006,
          2007,
          2008,
          2009,
          2010,
          2011,
          2012,
          2013,
          2014,
          2015
         ],
         "xaxis": "x",
         "y": [
          8.3,
          24.4,
          17.7,
          16.3,
          10.5,
          23.9,
          12.1,
          8.7,
          30.2,
          6.4,
          12,
          5.8,
          23.9,
          22.5,
          8.5,
          3.1,
          10.3,
          16.4,
          19.5,
          3.3,
          17.2,
          14.5,
          16.6,
          16.1,
          14.4,
          10.4,
          10.8,
          26.6,
          43.4,
          9.7,
          21,
          15.9,
          16,
          11.7,
          11.3,
          23,
          20.4,
          5.2,
          1.6,
          17.4,
          19.7,
          24.2,
          5.2,
          15.6,
          5.1,
          34.9,
          23,
          9.8,
          4.9,
          7.9,
          5.9,
          21.8,
          8,
          13.7,
          9.6,
          12.7,
          14.1,
          14.7,
          5.2,
          8.3,
          10.2,
          28.7,
          14.6,
          12.5,
          21.1,
          17.6,
          54.4,
          12,
          12.1,
          1.7,
          12,
          22.3,
          17.4,
          10.9,
          3.2,
          7.4,
          16,
          18.5,
          14.2,
          19.7,
          14.1,
          13.7,
          22.8,
          15,
          25.5,
          28,
          21.6,
          17.2,
          16.8,
          28.4,
          17.5,
          5.1,
          15.5,
          20.1,
          9,
          17,
          47.5,
          10.5,
          3.8,
          9.6,
          6,
          5.2,
          16.6,
          6.1,
          11.5,
          12.7,
          16.7,
          10.8,
          10.8,
          22.1,
          6.5,
          9.6,
          6.2,
          10.4,
          15
         ],
         "yaxis": "y"
        },
        {
         "marker": {
          "color": "red",
          "size": 5,
          "symbol": "circle"
         },
         "mode": "markers",
         "name": "Anomalous Months",
         "type": "scatter",
         "x": [
          1907,
          1911,
          1917,
          1918,
          1967,
          1990,
          1907,
          1911,
          1917,
          1918,
          1967,
          1990,
          1907,
          1911,
          1917,
          1918,
          1967,
          1990,
          1907,
          1911,
          1917,
          1918,
          1967,
          1990,
          1907,
          1911,
          1917,
          1918,
          1967,
          1990,
          1907,
          1911,
          1917,
          1918,
          1967,
          1990,
          1907,
          1911,
          1917,
          1918,
          1967,
          1990,
          1907,
          1911,
          1917,
          1918,
          1967,
          1990,
          1907,
          1911,
          1917,
          1918,
          1967,
          1990,
          1907,
          1911,
          1917,
          1918,
          1967,
          1990,
          1907,
          1911,
          1917,
          1918,
          1967,
          1990,
          1907,
          1911,
          1917,
          1918,
          1967,
          1990
         ],
         "y": [
          16.2,
          45.7,
          8.7,
          12.2,
          11.2,
          14.9,
          46,
          5.6,
          38.7,
          4.4,
          13.4,
          44.3,
          37.8,
          49.9,
          22.8,
          41.6,
          63.3,
          53.3,
          62.8,
          22.8,
          43.2,
          38.8,
          29.1,
          42,
          32.6,
          47.6,
          75,
          102.8,
          42.4,
          114.5,
          154.4,
          191.9,
          231.8,
          212.6,
          144.9,
          194,
          225.4,
          162.7,
          285.2,
          183.8,
          304.6,
          286.7,
          310.4,
          213.5,
          296.5,
          242.7,
          262.9,
          293.2,
          96.9,
          182.3,
          281,
          109.7,
          170.4,
          196.6,
          22.7,
          70.6,
          158.8,
          20,
          40.3,
          103.2,
          22.5,
          42.8,
          28.2,
          41.1,
          11.4,
          29.5,
          12.1,
          12,
          10.3,
          16.4,
          54.4,
          28.4
         ]
        }
       ],
       "layout": {
        "height": 500,
        "legend": {
         "title": {
          "text": "Legent"
         },
         "tracegroupgap": 0
        },
        "template": {
         "data": {
          "bar": [
           {
            "error_x": {
             "color": "#2a3f5f"
            },
            "error_y": {
             "color": "#2a3f5f"
            },
            "marker": {
             "line": {
              "color": "white",
              "width": 0.5
             },
             "pattern": {
              "fillmode": "overlay",
              "size": 10,
              "solidity": 0.2
             }
            },
            "type": "bar"
           }
          ],
          "barpolar": [
           {
            "marker": {
             "line": {
              "color": "white",
              "width": 0.5
             },
             "pattern": {
              "fillmode": "overlay",
              "size": 10,
              "solidity": 0.2
             }
            },
            "type": "barpolar"
           }
          ],
          "carpet": [
           {
            "aaxis": {
             "endlinecolor": "#2a3f5f",
             "gridcolor": "#C8D4E3",
             "linecolor": "#C8D4E3",
             "minorgridcolor": "#C8D4E3",
             "startlinecolor": "#2a3f5f"
            },
            "baxis": {
             "endlinecolor": "#2a3f5f",
             "gridcolor": "#C8D4E3",
             "linecolor": "#C8D4E3",
             "minorgridcolor": "#C8D4E3",
             "startlinecolor": "#2a3f5f"
            },
            "type": "carpet"
           }
          ],
          "choropleth": [
           {
            "colorbar": {
             "outlinewidth": 0,
             "ticks": ""
            },
            "type": "choropleth"
           }
          ],
          "contour": [
           {
            "colorbar": {
             "outlinewidth": 0,
             "ticks": ""
            },
            "colorscale": [
             [
              0,
              "#0d0887"
             ],
             [
              0.1111111111111111,
              "#46039f"
             ],
             [
              0.2222222222222222,
              "#7201a8"
             ],
             [
              0.3333333333333333,
              "#9c179e"
             ],
             [
              0.4444444444444444,
              "#bd3786"
             ],
             [
              0.5555555555555556,
              "#d8576b"
             ],
             [
              0.6666666666666666,
              "#ed7953"
             ],
             [
              0.7777777777777778,
              "#fb9f3a"
             ],
             [
              0.8888888888888888,
              "#fdca26"
             ],
             [
              1,
              "#f0f921"
             ]
            ],
            "type": "contour"
           }
          ],
          "contourcarpet": [
           {
            "colorbar": {
             "outlinewidth": 0,
             "ticks": ""
            },
            "type": "contourcarpet"
           }
          ],
          "heatmap": [
           {
            "colorbar": {
             "outlinewidth": 0,
             "ticks": ""
            },
            "colorscale": [
             [
              0,
              "#0d0887"
             ],
             [
              0.1111111111111111,
              "#46039f"
             ],
             [
              0.2222222222222222,
              "#7201a8"
             ],
             [
              0.3333333333333333,
              "#9c179e"
             ],
             [
              0.4444444444444444,
              "#bd3786"
             ],
             [
              0.5555555555555556,
              "#d8576b"
             ],
             [
              0.6666666666666666,
              "#ed7953"
             ],
             [
              0.7777777777777778,
              "#fb9f3a"
             ],
             [
              0.8888888888888888,
              "#fdca26"
             ],
             [
              1,
              "#f0f921"
             ]
            ],
            "type": "heatmap"
           }
          ],
          "heatmapgl": [
           {
            "colorbar": {
             "outlinewidth": 0,
             "ticks": ""
            },
            "colorscale": [
             [
              0,
              "#0d0887"
             ],
             [
              0.1111111111111111,
              "#46039f"
             ],
             [
              0.2222222222222222,
              "#7201a8"
             ],
             [
              0.3333333333333333,
              "#9c179e"
             ],
             [
              0.4444444444444444,
              "#bd3786"
             ],
             [
              0.5555555555555556,
              "#d8576b"
             ],
             [
              0.6666666666666666,
              "#ed7953"
             ],
             [
              0.7777777777777778,
              "#fb9f3a"
             ],
             [
              0.8888888888888888,
              "#fdca26"
             ],
             [
              1,
              "#f0f921"
             ]
            ],
            "type": "heatmapgl"
           }
          ],
          "histogram": [
           {
            "marker": {
             "pattern": {
              "fillmode": "overlay",
              "size": 10,
              "solidity": 0.2
             }
            },
            "type": "histogram"
           }
          ],
          "histogram2d": [
           {
            "colorbar": {
             "outlinewidth": 0,
             "ticks": ""
            },
            "colorscale": [
             [
              0,
              "#0d0887"
             ],
             [
              0.1111111111111111,
              "#46039f"
             ],
             [
              0.2222222222222222,
              "#7201a8"
             ],
             [
              0.3333333333333333,
              "#9c179e"
             ],
             [
              0.4444444444444444,
              "#bd3786"
             ],
             [
              0.5555555555555556,
              "#d8576b"
             ],
             [
              0.6666666666666666,
              "#ed7953"
             ],
             [
              0.7777777777777778,
              "#fb9f3a"
             ],
             [
              0.8888888888888888,
              "#fdca26"
             ],
             [
              1,
              "#f0f921"
             ]
            ],
            "type": "histogram2d"
           }
          ],
          "histogram2dcontour": [
           {
            "colorbar": {
             "outlinewidth": 0,
             "ticks": ""
            },
            "colorscale": [
             [
              0,
              "#0d0887"
             ],
             [
              0.1111111111111111,
              "#46039f"
             ],
             [
              0.2222222222222222,
              "#7201a8"
             ],
             [
              0.3333333333333333,
              "#9c179e"
             ],
             [
              0.4444444444444444,
              "#bd3786"
             ],
             [
              0.5555555555555556,
              "#d8576b"
             ],
             [
              0.6666666666666666,
              "#ed7953"
             ],
             [
              0.7777777777777778,
              "#fb9f3a"
             ],
             [
              0.8888888888888888,
              "#fdca26"
             ],
             [
              1,
              "#f0f921"
             ]
            ],
            "type": "histogram2dcontour"
           }
          ],
          "mesh3d": [
           {
            "colorbar": {
             "outlinewidth": 0,
             "ticks": ""
            },
            "type": "mesh3d"
           }
          ],
          "parcoords": [
           {
            "line": {
             "colorbar": {
              "outlinewidth": 0,
              "ticks": ""
             }
            },
            "type": "parcoords"
           }
          ],
          "pie": [
           {
            "automargin": true,
            "type": "pie"
           }
          ],
          "scatter": [
           {
            "fillpattern": {
             "fillmode": "overlay",
             "size": 10,
             "solidity": 0.2
            },
            "type": "scatter"
           }
          ],
          "scatter3d": [
           {
            "line": {
             "colorbar": {
              "outlinewidth": 0,
              "ticks": ""
             }
            },
            "marker": {
             "colorbar": {
              "outlinewidth": 0,
              "ticks": ""
             }
            },
            "type": "scatter3d"
           }
          ],
          "scattercarpet": [
           {
            "marker": {
             "colorbar": {
              "outlinewidth": 0,
              "ticks": ""
             }
            },
            "type": "scattercarpet"
           }
          ],
          "scattergeo": [
           {
            "marker": {
             "colorbar": {
              "outlinewidth": 0,
              "ticks": ""
             }
            },
            "type": "scattergeo"
           }
          ],
          "scattergl": [
           {
            "marker": {
             "colorbar": {
              "outlinewidth": 0,
              "ticks": ""
             }
            },
            "type": "scattergl"
           }
          ],
          "scattermapbox": [
           {
            "marker": {
             "colorbar": {
              "outlinewidth": 0,
              "ticks": ""
             }
            },
            "type": "scattermapbox"
           }
          ],
          "scatterpolar": [
           {
            "marker": {
             "colorbar": {
              "outlinewidth": 0,
              "ticks": ""
             }
            },
            "type": "scatterpolar"
           }
          ],
          "scatterpolargl": [
           {
            "marker": {
             "colorbar": {
              "outlinewidth": 0,
              "ticks": ""
             }
            },
            "type": "scatterpolargl"
           }
          ],
          "scatterternary": [
           {
            "marker": {
             "colorbar": {
              "outlinewidth": 0,
              "ticks": ""
             }
            },
            "type": "scatterternary"
           }
          ],
          "surface": [
           {
            "colorbar": {
             "outlinewidth": 0,
             "ticks": ""
            },
            "colorscale": [
             [
              0,
              "#0d0887"
             ],
             [
              0.1111111111111111,
              "#46039f"
             ],
             [
              0.2222222222222222,
              "#7201a8"
             ],
             [
              0.3333333333333333,
              "#9c179e"
             ],
             [
              0.4444444444444444,
              "#bd3786"
             ],
             [
              0.5555555555555556,
              "#d8576b"
             ],
             [
              0.6666666666666666,
              "#ed7953"
             ],
             [
              0.7777777777777778,
              "#fb9f3a"
             ],
             [
              0.8888888888888888,
              "#fdca26"
             ],
             [
              1,
              "#f0f921"
             ]
            ],
            "type": "surface"
           }
          ],
          "table": [
           {
            "cells": {
             "fill": {
              "color": "#EBF0F8"
             },
             "line": {
              "color": "white"
             }
            },
            "header": {
             "fill": {
              "color": "#C8D4E3"
             },
             "line": {
              "color": "white"
             }
            },
            "type": "table"
           }
          ]
         },
         "layout": {
          "annotationdefaults": {
           "arrowcolor": "#2a3f5f",
           "arrowhead": 0,
           "arrowwidth": 1
          },
          "autotypenumbers": "strict",
          "coloraxis": {
           "colorbar": {
            "outlinewidth": 0,
            "ticks": ""
           }
          },
          "colorscale": {
           "diverging": [
            [
             0,
             "#8e0152"
            ],
            [
             0.1,
             "#c51b7d"
            ],
            [
             0.2,
             "#de77ae"
            ],
            [
             0.3,
             "#f1b6da"
            ],
            [
             0.4,
             "#fde0ef"
            ],
            [
             0.5,
             "#f7f7f7"
            ],
            [
             0.6,
             "#e6f5d0"
            ],
            [
             0.7,
             "#b8e186"
            ],
            [
             0.8,
             "#7fbc41"
            ],
            [
             0.9,
             "#4d9221"
            ],
            [
             1,
             "#276419"
            ]
           ],
           "sequential": [
            [
             0,
             "#0d0887"
            ],
            [
             0.1111111111111111,
             "#46039f"
            ],
            [
             0.2222222222222222,
             "#7201a8"
            ],
            [
             0.3333333333333333,
             "#9c179e"
            ],
            [
             0.4444444444444444,
             "#bd3786"
            ],
            [
             0.5555555555555556,
             "#d8576b"
            ],
            [
             0.6666666666666666,
             "#ed7953"
            ],
            [
             0.7777777777777778,
             "#fb9f3a"
            ],
            [
             0.8888888888888888,
             "#fdca26"
            ],
            [
             1,
             "#f0f921"
            ]
           ],
           "sequentialminus": [
            [
             0,
             "#0d0887"
            ],
            [
             0.1111111111111111,
             "#46039f"
            ],
            [
             0.2222222222222222,
             "#7201a8"
            ],
            [
             0.3333333333333333,
             "#9c179e"
            ],
            [
             0.4444444444444444,
             "#bd3786"
            ],
            [
             0.5555555555555556,
             "#d8576b"
            ],
            [
             0.6666666666666666,
             "#ed7953"
            ],
            [
             0.7777777777777778,
             "#fb9f3a"
            ],
            [
             0.8888888888888888,
             "#fdca26"
            ],
            [
             1,
             "#f0f921"
            ]
           ]
          },
          "colorway": [
           "#636efa",
           "#EF553B",
           "#00cc96",
           "#ab63fa",
           "#FFA15A",
           "#19d3f3",
           "#FF6692",
           "#B6E880",
           "#FF97FF",
           "#FECB52"
          ],
          "font": {
           "color": "#2a3f5f"
          },
          "geo": {
           "bgcolor": "white",
           "lakecolor": "white",
           "landcolor": "white",
           "showlakes": true,
           "showland": true,
           "subunitcolor": "#C8D4E3"
          },
          "hoverlabel": {
           "align": "left"
          },
          "hovermode": "closest",
          "mapbox": {
           "style": "light"
          },
          "paper_bgcolor": "white",
          "plot_bgcolor": "white",
          "polar": {
           "angularaxis": {
            "gridcolor": "#EBF0F8",
            "linecolor": "#EBF0F8",
            "ticks": ""
           },
           "bgcolor": "white",
           "radialaxis": {
            "gridcolor": "#EBF0F8",
            "linecolor": "#EBF0F8",
            "ticks": ""
           }
          },
          "scene": {
           "xaxis": {
            "backgroundcolor": "white",
            "gridcolor": "#DFE8F3",
            "gridwidth": 2,
            "linecolor": "#EBF0F8",
            "showbackground": true,
            "ticks": "",
            "zerolinecolor": "#EBF0F8"
           },
           "yaxis": {
            "backgroundcolor": "white",
            "gridcolor": "#DFE8F3",
            "gridwidth": 2,
            "linecolor": "#EBF0F8",
            "showbackground": true,
            "ticks": "",
            "zerolinecolor": "#EBF0F8"
           },
           "zaxis": {
            "backgroundcolor": "white",
            "gridcolor": "#DFE8F3",
            "gridwidth": 2,
            "linecolor": "#EBF0F8",
            "showbackground": true,
            "ticks": "",
            "zerolinecolor": "#EBF0F8"
           }
          },
          "shapedefaults": {
           "line": {
            "color": "#2a3f5f"
           }
          },
          "ternary": {
           "aaxis": {
            "gridcolor": "#DFE8F3",
            "linecolor": "#A2B1C6",
            "ticks": ""
           },
           "baxis": {
            "gridcolor": "#DFE8F3",
            "linecolor": "#A2B1C6",
            "ticks": ""
           },
           "bgcolor": "white",
           "caxis": {
            "gridcolor": "#DFE8F3",
            "linecolor": "#A2B1C6",
            "ticks": ""
           }
          },
          "title": {
           "x": 0.05
          },
          "xaxis": {
           "automargin": true,
           "gridcolor": "#EBF0F8",
           "linecolor": "#EBF0F8",
           "ticks": "",
           "title": {
            "standoff": 15
           },
           "zerolinecolor": "#EBF0F8",
           "zerolinewidth": 2
          },
          "yaxis": {
           "automargin": true,
           "gridcolor": "#EBF0F8",
           "linecolor": "#EBF0F8",
           "ticks": "",
           "title": {
            "standoff": 15
           },
           "zerolinecolor": "#EBF0F8",
           "zerolinewidth": 2
          }
         }
        },
        "title": {
         "text": "Monthly Rainfall Anomalies in India (1901-2015)"
        },
        "xaxis": {
         "anchor": "y",
         "domain": [
          0,
          1
         ],
         "title": {
          "text": "Year"
         }
        },
        "yaxis": {
         "anchor": "x",
         "domain": [
          0,
          1
         ],
         "title": {
          "text": "Rainfall (mm)"
         }
        }
       }
      }
     },
     "metadata": {},
     "output_type": "display_data"
    }
   ],
   "source": [
    "fig_monthly_anomalies = px.line(\n",
    "    rainfall_data,\n",
    "    x='YEAR',\n",
    "    y=monthly_columns,\n",
    "    labels={'YEAR': 'Year', 'value': 'Rainfall (mm)', 'variable': 'Month'},\n",
    "    title='Monthly Rainfall Anomalies in India (1901-2015)',\n",
    "    color_discrete_sequence=px.colors.qualitative.Set3\n",
    ")\n",
    "\n",
    "fig_monthly_anomalies.add_trace(go.Scatter(\n",
    "    x=month_anomalies_df_long['Year'],\n",
    "    y=month_anomalies_df_long['Rainfall'],\n",
    "    mode='markers',\n",
    "    name='Anomalous Months',\n",
    "    marker=dict(color='red', size=5, symbol='circle')\n",
    "))\n",
    "\n",
    "fig_monthly_anomalies.update_layout(\n",
    "    template='plotly_white',\n",
    "    legend=dict(title='Legent'),\n",
    "    height=500\n",
    ")\n",
    "\n",
    "fig_monthly_anomalies"
   ]
  },
  {
   "cell_type": "markdown",
   "metadata": {},
   "source": [
    "Correlating Seasonal Rainfall with Annual Totals"
   ]
  },
  {
   "cell_type": "code",
   "execution_count": 80,
   "metadata": {},
   "outputs": [
    {
     "data": {
      "text/html": [
       "<div>\n",
       "<style scoped>\n",
       "    .dataframe tbody tr th:only-of-type {\n",
       "        vertical-align: middle;\n",
       "    }\n",
       "\n",
       "    .dataframe tbody tr th {\n",
       "        vertical-align: top;\n",
       "    }\n",
       "\n",
       "    .dataframe thead th {\n",
       "        text-align: right;\n",
       "    }\n",
       "</style>\n",
       "<table border=\"1\" class=\"dataframe\">\n",
       "  <thead>\n",
       "    <tr style=\"text-align: right;\">\n",
       "      <th></th>\n",
       "      <th>Season</th>\n",
       "      <th>Correlation Coefficient</th>\n",
       "    </tr>\n",
       "  </thead>\n",
       "  <tbody>\n",
       "    <tr>\n",
       "      <th>0</th>\n",
       "      <td>Jan-Feb</td>\n",
       "      <td>0.142731</td>\n",
       "    </tr>\n",
       "    <tr>\n",
       "      <th>1</th>\n",
       "      <td>Mar-May</td>\n",
       "      <td>0.104340</td>\n",
       "    </tr>\n",
       "    <tr>\n",
       "      <th>2</th>\n",
       "      <td>Oct-Dec</td>\n",
       "      <td>0.286520</td>\n",
       "    </tr>\n",
       "  </tbody>\n",
       "</table>\n",
       "</div>"
      ],
      "text/plain": [
       "    Season  Correlation Coefficient\n",
       "0  Jan-Feb                 0.142731\n",
       "1  Mar-May                 0.104340\n",
       "2  Oct-Dec                 0.286520"
      ]
     },
     "execution_count": 80,
     "metadata": {},
     "output_type": "execute_result"
    }
   ],
   "source": [
    "# Correlation analysis between monsoon (Jun-Sep) rainfall and other seasons\n",
    "monsoon_column = 'Jun-Sep'\n",
    "relationships = {}\n",
    "\n",
    "for season in seasonal_columns:\n",
    "    if season != monsoon_column:\n",
    "        corr, _ = pearsonr(rainfall_data[monsoon_column], rainfall_data[season])\n",
    "        relationships[season] = corr\n",
    "\n",
    "correlation_data = pd.DataFrame({\n",
    "    'Season': list(relationships.keys()),\n",
    "    'Correlation Coefficient': list(relationships.values())\n",
    "})\n",
    "correlation_data"
   ]
  },
  {
   "cell_type": "code",
   "execution_count": 81,
   "metadata": {},
   "outputs": [
    {
     "data": {
      "application/vnd.plotly.v1+json": {
       "config": {
        "plotlyServerURL": "https://plot.ly"
       },
       "data": [
        {
         "alignmentgroup": "True",
         "hovertemplate": "Season=%{x}<br>Correlation Coefficient=%{marker.color}<extra></extra>",
         "legendgroup": "",
         "marker": {
          "color": [
           0.14273134438067206,
           0.10433984966925228,
           0.28651956453523547
          ],
          "coloraxis": "coloraxis",
          "line": {
           "color": "black",
           "width": 1
          },
          "pattern": {
           "shape": ""
          }
         },
         "name": "",
         "offsetgroup": "",
         "orientation": "v",
         "showlegend": false,
         "text": [
          0.14273134438067206,
          0.10433984966925228,
          0.28651956453523547
         ],
         "textposition": "auto",
         "texttemplate": "%{text:.2f}",
         "type": "bar",
         "x": [
          "Jan-Feb",
          "Mar-May",
          "Oct-Dec"
         ],
         "xaxis": "x",
         "y": [
          0.14273134438067206,
          0.10433984966925228,
          0.28651956453523547
         ],
         "yaxis": "y"
        }
       ],
       "layout": {
        "annotations": [
         {
          "showarrow": false,
          "text": "No Correlation",
          "x": 0,
          "xanchor": "left",
          "xref": "x domain",
          "y": 0,
          "yanchor": "top",
          "yref": "y"
         }
        ],
        "barmode": "relative",
        "coloraxis": {
         "colorbar": {
          "title": {
           "text": "Correlation Coefficient"
          }
         },
         "colorscale": [
          [
           0,
           "rgb(247,251,255)"
          ],
          [
           0.125,
           "rgb(222,235,247)"
          ],
          [
           0.25,
           "rgb(198,219,239)"
          ],
          [
           0.375,
           "rgb(158,202,225)"
          ],
          [
           0.5,
           "rgb(107,174,214)"
          ],
          [
           0.625,
           "rgb(66,146,198)"
          ],
          [
           0.75,
           "rgb(33,113,181)"
          ],
          [
           0.875,
           "rgb(8,81,156)"
          ],
          [
           1,
           "rgb(8,48,107)"
          ]
         ]
        },
        "height": 500,
        "legend": {
         "tracegroupgap": 0
        },
        "shapes": [
         {
          "line": {
           "color": "red",
           "dash": "dash"
          },
          "type": "line",
          "x0": 0,
          "x1": 1,
          "xref": "x domain",
          "y0": 0,
          "y1": 0,
          "yref": "y"
         }
        ],
        "template": {
         "data": {
          "bar": [
           {
            "error_x": {
             "color": "#2a3f5f"
            },
            "error_y": {
             "color": "#2a3f5f"
            },
            "marker": {
             "line": {
              "color": "white",
              "width": 0.5
             },
             "pattern": {
              "fillmode": "overlay",
              "size": 10,
              "solidity": 0.2
             }
            },
            "type": "bar"
           }
          ],
          "barpolar": [
           {
            "marker": {
             "line": {
              "color": "white",
              "width": 0.5
             },
             "pattern": {
              "fillmode": "overlay",
              "size": 10,
              "solidity": 0.2
             }
            },
            "type": "barpolar"
           }
          ],
          "carpet": [
           {
            "aaxis": {
             "endlinecolor": "#2a3f5f",
             "gridcolor": "#C8D4E3",
             "linecolor": "#C8D4E3",
             "minorgridcolor": "#C8D4E3",
             "startlinecolor": "#2a3f5f"
            },
            "baxis": {
             "endlinecolor": "#2a3f5f",
             "gridcolor": "#C8D4E3",
             "linecolor": "#C8D4E3",
             "minorgridcolor": "#C8D4E3",
             "startlinecolor": "#2a3f5f"
            },
            "type": "carpet"
           }
          ],
          "choropleth": [
           {
            "colorbar": {
             "outlinewidth": 0,
             "ticks": ""
            },
            "type": "choropleth"
           }
          ],
          "contour": [
           {
            "colorbar": {
             "outlinewidth": 0,
             "ticks": ""
            },
            "colorscale": [
             [
              0,
              "#0d0887"
             ],
             [
              0.1111111111111111,
              "#46039f"
             ],
             [
              0.2222222222222222,
              "#7201a8"
             ],
             [
              0.3333333333333333,
              "#9c179e"
             ],
             [
              0.4444444444444444,
              "#bd3786"
             ],
             [
              0.5555555555555556,
              "#d8576b"
             ],
             [
              0.6666666666666666,
              "#ed7953"
             ],
             [
              0.7777777777777778,
              "#fb9f3a"
             ],
             [
              0.8888888888888888,
              "#fdca26"
             ],
             [
              1,
              "#f0f921"
             ]
            ],
            "type": "contour"
           }
          ],
          "contourcarpet": [
           {
            "colorbar": {
             "outlinewidth": 0,
             "ticks": ""
            },
            "type": "contourcarpet"
           }
          ],
          "heatmap": [
           {
            "colorbar": {
             "outlinewidth": 0,
             "ticks": ""
            },
            "colorscale": [
             [
              0,
              "#0d0887"
             ],
             [
              0.1111111111111111,
              "#46039f"
             ],
             [
              0.2222222222222222,
              "#7201a8"
             ],
             [
              0.3333333333333333,
              "#9c179e"
             ],
             [
              0.4444444444444444,
              "#bd3786"
             ],
             [
              0.5555555555555556,
              "#d8576b"
             ],
             [
              0.6666666666666666,
              "#ed7953"
             ],
             [
              0.7777777777777778,
              "#fb9f3a"
             ],
             [
              0.8888888888888888,
              "#fdca26"
             ],
             [
              1,
              "#f0f921"
             ]
            ],
            "type": "heatmap"
           }
          ],
          "heatmapgl": [
           {
            "colorbar": {
             "outlinewidth": 0,
             "ticks": ""
            },
            "colorscale": [
             [
              0,
              "#0d0887"
             ],
             [
              0.1111111111111111,
              "#46039f"
             ],
             [
              0.2222222222222222,
              "#7201a8"
             ],
             [
              0.3333333333333333,
              "#9c179e"
             ],
             [
              0.4444444444444444,
              "#bd3786"
             ],
             [
              0.5555555555555556,
              "#d8576b"
             ],
             [
              0.6666666666666666,
              "#ed7953"
             ],
             [
              0.7777777777777778,
              "#fb9f3a"
             ],
             [
              0.8888888888888888,
              "#fdca26"
             ],
             [
              1,
              "#f0f921"
             ]
            ],
            "type": "heatmapgl"
           }
          ],
          "histogram": [
           {
            "marker": {
             "pattern": {
              "fillmode": "overlay",
              "size": 10,
              "solidity": 0.2
             }
            },
            "type": "histogram"
           }
          ],
          "histogram2d": [
           {
            "colorbar": {
             "outlinewidth": 0,
             "ticks": ""
            },
            "colorscale": [
             [
              0,
              "#0d0887"
             ],
             [
              0.1111111111111111,
              "#46039f"
             ],
             [
              0.2222222222222222,
              "#7201a8"
             ],
             [
              0.3333333333333333,
              "#9c179e"
             ],
             [
              0.4444444444444444,
              "#bd3786"
             ],
             [
              0.5555555555555556,
              "#d8576b"
             ],
             [
              0.6666666666666666,
              "#ed7953"
             ],
             [
              0.7777777777777778,
              "#fb9f3a"
             ],
             [
              0.8888888888888888,
              "#fdca26"
             ],
             [
              1,
              "#f0f921"
             ]
            ],
            "type": "histogram2d"
           }
          ],
          "histogram2dcontour": [
           {
            "colorbar": {
             "outlinewidth": 0,
             "ticks": ""
            },
            "colorscale": [
             [
              0,
              "#0d0887"
             ],
             [
              0.1111111111111111,
              "#46039f"
             ],
             [
              0.2222222222222222,
              "#7201a8"
             ],
             [
              0.3333333333333333,
              "#9c179e"
             ],
             [
              0.4444444444444444,
              "#bd3786"
             ],
             [
              0.5555555555555556,
              "#d8576b"
             ],
             [
              0.6666666666666666,
              "#ed7953"
             ],
             [
              0.7777777777777778,
              "#fb9f3a"
             ],
             [
              0.8888888888888888,
              "#fdca26"
             ],
             [
              1,
              "#f0f921"
             ]
            ],
            "type": "histogram2dcontour"
           }
          ],
          "mesh3d": [
           {
            "colorbar": {
             "outlinewidth": 0,
             "ticks": ""
            },
            "type": "mesh3d"
           }
          ],
          "parcoords": [
           {
            "line": {
             "colorbar": {
              "outlinewidth": 0,
              "ticks": ""
             }
            },
            "type": "parcoords"
           }
          ],
          "pie": [
           {
            "automargin": true,
            "type": "pie"
           }
          ],
          "scatter": [
           {
            "fillpattern": {
             "fillmode": "overlay",
             "size": 10,
             "solidity": 0.2
            },
            "type": "scatter"
           }
          ],
          "scatter3d": [
           {
            "line": {
             "colorbar": {
              "outlinewidth": 0,
              "ticks": ""
             }
            },
            "marker": {
             "colorbar": {
              "outlinewidth": 0,
              "ticks": ""
             }
            },
            "type": "scatter3d"
           }
          ],
          "scattercarpet": [
           {
            "marker": {
             "colorbar": {
              "outlinewidth": 0,
              "ticks": ""
             }
            },
            "type": "scattercarpet"
           }
          ],
          "scattergeo": [
           {
            "marker": {
             "colorbar": {
              "outlinewidth": 0,
              "ticks": ""
             }
            },
            "type": "scattergeo"
           }
          ],
          "scattergl": [
           {
            "marker": {
             "colorbar": {
              "outlinewidth": 0,
              "ticks": ""
             }
            },
            "type": "scattergl"
           }
          ],
          "scattermapbox": [
           {
            "marker": {
             "colorbar": {
              "outlinewidth": 0,
              "ticks": ""
             }
            },
            "type": "scattermapbox"
           }
          ],
          "scatterpolar": [
           {
            "marker": {
             "colorbar": {
              "outlinewidth": 0,
              "ticks": ""
             }
            },
            "type": "scatterpolar"
           }
          ],
          "scatterpolargl": [
           {
            "marker": {
             "colorbar": {
              "outlinewidth": 0,
              "ticks": ""
             }
            },
            "type": "scatterpolargl"
           }
          ],
          "scatterternary": [
           {
            "marker": {
             "colorbar": {
              "outlinewidth": 0,
              "ticks": ""
             }
            },
            "type": "scatterternary"
           }
          ],
          "surface": [
           {
            "colorbar": {
             "outlinewidth": 0,
             "ticks": ""
            },
            "colorscale": [
             [
              0,
              "#0d0887"
             ],
             [
              0.1111111111111111,
              "#46039f"
             ],
             [
              0.2222222222222222,
              "#7201a8"
             ],
             [
              0.3333333333333333,
              "#9c179e"
             ],
             [
              0.4444444444444444,
              "#bd3786"
             ],
             [
              0.5555555555555556,
              "#d8576b"
             ],
             [
              0.6666666666666666,
              "#ed7953"
             ],
             [
              0.7777777777777778,
              "#fb9f3a"
             ],
             [
              0.8888888888888888,
              "#fdca26"
             ],
             [
              1,
              "#f0f921"
             ]
            ],
            "type": "surface"
           }
          ],
          "table": [
           {
            "cells": {
             "fill": {
              "color": "#EBF0F8"
             },
             "line": {
              "color": "white"
             }
            },
            "header": {
             "fill": {
              "color": "#C8D4E3"
             },
             "line": {
              "color": "white"
             }
            },
            "type": "table"
           }
          ]
         },
         "layout": {
          "annotationdefaults": {
           "arrowcolor": "#2a3f5f",
           "arrowhead": 0,
           "arrowwidth": 1
          },
          "autotypenumbers": "strict",
          "coloraxis": {
           "colorbar": {
            "outlinewidth": 0,
            "ticks": ""
           }
          },
          "colorscale": {
           "diverging": [
            [
             0,
             "#8e0152"
            ],
            [
             0.1,
             "#c51b7d"
            ],
            [
             0.2,
             "#de77ae"
            ],
            [
             0.3,
             "#f1b6da"
            ],
            [
             0.4,
             "#fde0ef"
            ],
            [
             0.5,
             "#f7f7f7"
            ],
            [
             0.6,
             "#e6f5d0"
            ],
            [
             0.7,
             "#b8e186"
            ],
            [
             0.8,
             "#7fbc41"
            ],
            [
             0.9,
             "#4d9221"
            ],
            [
             1,
             "#276419"
            ]
           ],
           "sequential": [
            [
             0,
             "#0d0887"
            ],
            [
             0.1111111111111111,
             "#46039f"
            ],
            [
             0.2222222222222222,
             "#7201a8"
            ],
            [
             0.3333333333333333,
             "#9c179e"
            ],
            [
             0.4444444444444444,
             "#bd3786"
            ],
            [
             0.5555555555555556,
             "#d8576b"
            ],
            [
             0.6666666666666666,
             "#ed7953"
            ],
            [
             0.7777777777777778,
             "#fb9f3a"
            ],
            [
             0.8888888888888888,
             "#fdca26"
            ],
            [
             1,
             "#f0f921"
            ]
           ],
           "sequentialminus": [
            [
             0,
             "#0d0887"
            ],
            [
             0.1111111111111111,
             "#46039f"
            ],
            [
             0.2222222222222222,
             "#7201a8"
            ],
            [
             0.3333333333333333,
             "#9c179e"
            ],
            [
             0.4444444444444444,
             "#bd3786"
            ],
            [
             0.5555555555555556,
             "#d8576b"
            ],
            [
             0.6666666666666666,
             "#ed7953"
            ],
            [
             0.7777777777777778,
             "#fb9f3a"
            ],
            [
             0.8888888888888888,
             "#fdca26"
            ],
            [
             1,
             "#f0f921"
            ]
           ]
          },
          "colorway": [
           "#636efa",
           "#EF553B",
           "#00cc96",
           "#ab63fa",
           "#FFA15A",
           "#19d3f3",
           "#FF6692",
           "#B6E880",
           "#FF97FF",
           "#FECB52"
          ],
          "font": {
           "color": "#2a3f5f"
          },
          "geo": {
           "bgcolor": "white",
           "lakecolor": "white",
           "landcolor": "white",
           "showlakes": true,
           "showland": true,
           "subunitcolor": "#C8D4E3"
          },
          "hoverlabel": {
           "align": "left"
          },
          "hovermode": "closest",
          "mapbox": {
           "style": "light"
          },
          "paper_bgcolor": "white",
          "plot_bgcolor": "white",
          "polar": {
           "angularaxis": {
            "gridcolor": "#EBF0F8",
            "linecolor": "#EBF0F8",
            "ticks": ""
           },
           "bgcolor": "white",
           "radialaxis": {
            "gridcolor": "#EBF0F8",
            "linecolor": "#EBF0F8",
            "ticks": ""
           }
          },
          "scene": {
           "xaxis": {
            "backgroundcolor": "white",
            "gridcolor": "#DFE8F3",
            "gridwidth": 2,
            "linecolor": "#EBF0F8",
            "showbackground": true,
            "ticks": "",
            "zerolinecolor": "#EBF0F8"
           },
           "yaxis": {
            "backgroundcolor": "white",
            "gridcolor": "#DFE8F3",
            "gridwidth": 2,
            "linecolor": "#EBF0F8",
            "showbackground": true,
            "ticks": "",
            "zerolinecolor": "#EBF0F8"
           },
           "zaxis": {
            "backgroundcolor": "white",
            "gridcolor": "#DFE8F3",
            "gridwidth": 2,
            "linecolor": "#EBF0F8",
            "showbackground": true,
            "ticks": "",
            "zerolinecolor": "#EBF0F8"
           }
          },
          "shapedefaults": {
           "line": {
            "color": "#2a3f5f"
           }
          },
          "ternary": {
           "aaxis": {
            "gridcolor": "#DFE8F3",
            "linecolor": "#A2B1C6",
            "ticks": ""
           },
           "baxis": {
            "gridcolor": "#DFE8F3",
            "linecolor": "#A2B1C6",
            "ticks": ""
           },
           "bgcolor": "white",
           "caxis": {
            "gridcolor": "#DFE8F3",
            "linecolor": "#A2B1C6",
            "ticks": ""
           }
          },
          "title": {
           "x": 0.05
          },
          "xaxis": {
           "automargin": true,
           "gridcolor": "#EBF0F8",
           "linecolor": "#EBF0F8",
           "ticks": "",
           "title": {
            "standoff": 15
           },
           "zerolinecolor": "#EBF0F8",
           "zerolinewidth": 2
          },
          "yaxis": {
           "automargin": true,
           "gridcolor": "#EBF0F8",
           "linecolor": "#EBF0F8",
           "ticks": "",
           "title": {
            "standoff": 15
           },
           "zerolinecolor": "#EBF0F8",
           "zerolinewidth": 2
          }
         }
        },
        "title": {
         "text": "Correlation Betwee Monsoon (Jun-Sep) Rainfall and Other Seasons"
        },
        "xaxis": {
         "anchor": "y",
         "domain": [
          0,
          1
         ],
         "title": {
          "text": "Season"
         }
        },
        "yaxis": {
         "anchor": "x",
         "domain": [
          0,
          1
         ],
         "title": {
          "text": "Correlation Coefficient"
         }
        }
       }
      }
     },
     "metadata": {},
     "output_type": "display_data"
    }
   ],
   "source": [
    "fig = px.bar(\n",
    "    correlation_data,\n",
    "    x='Season',\n",
    "    y='Correlation Coefficient',\n",
    "    title='Correlation Betwee Monsoon (Jun-Sep) Rainfall and Other Seasons',\n",
    "    labels={'Season': 'Season', 'Correlation Coefficient': 'Correlation Coefficient'},\n",
    "    text='Correlation Coefficient',\n",
    "    color='Correlation Coefficient',\n",
    "    color_continuous_scale='Blues'\n",
    ")\n",
    "\n",
    "fig.add_hline(\n",
    "    y=0,\n",
    "    line_dash='dash',\n",
    "    line_color='red',\n",
    "    annotation_text ='No Correlation',\n",
    "    annotation_position='bottom left'\n",
    ")\n",
    "\n",
    "fig.update_traces(marker_line_color='black', marker_line_width=1, texttemplate='%{text:.2f}')\n",
    "fig.update_layout(\n",
    "    template='plotly_white',\n",
    "    height=500\n",
    ")\n",
    "fig"
   ]
  },
  {
   "cell_type": "markdown",
   "metadata": {},
   "source": [
    "Grouping Years Based on Rainfall Patterns: Now , by apllying k-means clustering, we will group years into three categories: Dry, Normal and Wet, based on rainfall patterns"
   ]
  },
  {
   "cell_type": "code",
   "execution_count": 82,
   "metadata": {},
   "outputs": [],
   "source": [
    "from sklearn.cluster import KMeans\n",
    "from sklearn.preprocessing import StandardScaler"
   ]
  },
  {
   "cell_type": "code",
   "execution_count": 83,
   "metadata": {},
   "outputs": [
    {
     "data": {
      "text/plain": [
       "array([[ 2.02663664e+00, -9.03463299e-01, -1.54814886e+00,\n",
       "        -6.46007264e-01, -1.35870651e+00],\n",
       "       [-2.18476401e+00, -7.85018207e-01, -1.08413511e+00,\n",
       "        -1.88166596e-01, -1.37776209e+00],\n",
       "       [-1.24118825e+00, -9.12237009e-01, -6.15028772e-02,\n",
       "         1.62772848e+00,  7.68141228e-02],\n",
       "       [-1.33138299e+00,  3.81885285e-01, -1.44678663e+00,\n",
       "        -7.20251697e-01, -1.47213260e+00],\n",
       "       [ 2.08865684e-01,  1.53768813e-01, -1.85674052e+00,\n",
       "        -1.49363120e+00, -1.87592949e+00],\n",
       "       [ 1.99888441e+00, -1.93876113e+00,  6.80155226e-02,\n",
       "        -8.84208152e-01, -3.44223534e-01],\n",
       "       [ 1.31201676e+00,  1.93250510e-01, -1.16184615e+00,\n",
       "        -1.93600428e+00, -1.29155826e+00],\n",
       "       [-2.49046084e-01, -1.81154233e+00,  3.00022395e-01,\n",
       "        -2.07830611e+00, -7.75242688e-01],\n",
       "       [-1.31099113e-01, -2.80529856e-01,  2.92138667e-01,\n",
       "        -1.28636550e+00, -2.17186310e-01],\n",
       "       [-1.14405545e+00, -1.93876113e+00,  5.63564183e-01,\n",
       "         8.94564713e-01,  1.65740180e-01],\n",
       "       [ 5.62706595e-01, -3.68266960e-01, -1.57517878e+00,\n",
       "         1.73775013e-01, -1.22078038e+00],\n",
       "       [ 5.62284278e-02, -1.07893751e+00, -8.19467078e-01,\n",
       "        -2.28382331e-01, -9.43113305e-01],\n",
       "       [ 2.92122369e-01, -1.92792751e-01, -1.14044746e+00,\n",
       "        -3.61403606e-01, -1.02659491e+00],\n",
       "       [-4.71063911e-01,  6.75804585e-01,  5.79331640e-01,\n",
       "        -8.56366490e-01,  2.92777404e-01],\n",
       "       [ 1.23569813e+00,  7.28446848e-01, -1.15170993e+00,\n",
       "         7.12047149e-01, -4.06834738e-01],\n",
       "       [-1.06079876e+00, -9.07850154e-01,  1.39811318e+00,\n",
       "         2.07319508e+00,  1.40707534e+00],\n",
       "       [ 2.85184312e-01,  5.44198928e-01,  2.30023699e+00,\n",
       "         2.39492096e+00,  2.70648466e+00],\n",
       "       [-1.85173727e+00,  2.39106498e+00, -1.59319874e+00,\n",
       "        -1.30802012e+00, -1.41405844e+00],\n",
       "       [ 2.22090224e+00, -6.31478274e-01,  7.58404906e-01,\n",
       "         1.29672206e+00,  1.15118608e+00],\n",
       "       [ 4.03131282e-01,  9.74110741e-01, -1.28685956e+00,\n",
       "        -1.48435065e+00, -1.21715075e+00],\n",
       "       [ 4.30883510e-01, -7.54310221e-01,  9.71265580e-01,\n",
       "        -5.28453579e-01,  5.27796268e-01],\n",
       "       [-2.28231913e-01, -1.47375448e+00,  6.26634012e-01,\n",
       "         3.40824986e-01,  2.70999594e-01],\n",
       "       [ 1.58260099e+00, -5.78836011e-01,  8.60354739e-02,\n",
       "        -7.07877625e-01, -5.20379188e-02],\n",
       "       [ 3.75379054e-01, -8.02565628e-01,  8.87923306e-01,\n",
       "         6.28522162e-01,  7.82778126e-01],\n",
       "       [-1.14405545e+00,  1.54440192e+00,  7.25205104e-02,\n",
       "         9.95305800e-02,  2.57388463e-01],\n",
       "       [-1.72727456e-01,  1.43473054e+00,  8.57514638e-01,\n",
       "        -1.28636550e+00,  5.87685246e-01],\n",
       "       [ 5.83520766e-01, -7.19215379e-01,  8.16969748e-01,\n",
       "         4.95500887e-01,  7.31055827e-01],\n",
       "       [ 1.49934430e+00, -7.45536510e-01, -3.08150960e-01,\n",
       "         1.82880716e+00,  3.29981162e-01],\n",
       "       [ 5.97396880e-01,  2.94148180e-01, -2.61974835e-01,\n",
       "         1.06470820e+00,  2.40147697e-01],\n",
       "       [ 4.30883510e-01,  3.07308746e-01, -2.75489799e-01,\n",
       "         1.19463596e+00,  2.48314375e-01],\n",
       "       [ 4.10069339e-01, -5.39354314e-01,  8.19222242e-01,\n",
       "         2.04535342e+00,  1.20290837e+00],\n",
       "       [-5.33506424e-01,  4.60848679e-01,  1.00676684e-01,\n",
       "         7.80104546e-01,  3.34518206e-01],\n",
       "       [ 4.03131282e-01,  2.24191190e+00,  1.62223632e+00,\n",
       "         3.28450914e-01,  1.91885387e+00],\n",
       "       [-4.57187796e-01, -7.14828524e-01,  9.02564516e-01,\n",
       "        -3.64497124e-01,  4.13462767e-01],\n",
       "       [ 5.90458823e-01, -1.21931688e+00,  2.59477505e-01,\n",
       "        -1.31111364e+00, -3.50575396e-01],\n",
       "       [ 9.99804191e-01,  1.26803004e+00,  1.02983042e+00,\n",
       "         7.70823992e-01,  1.44881614e+00],\n",
       "       [ 1.22876007e+00,  2.06411075e-01, -2.32104807e-02,\n",
       "         4.86220333e-01,  3.27258936e-01],\n",
       "       [ 1.52015847e+00,  4.56461824e-01,  1.26071105e+00,\n",
       "        -6.02698012e-01,  1.13122308e+00],\n",
       "       [ 4.03131282e-01, -5.87609722e-01, -5.72818995e-01,\n",
       "         7.47824358e-02, -5.09371926e-01],\n",
       "       [-1.24161056e-01,  1.32944602e+00,  7.58992513e-02,\n",
       "        -8.29869836e-02,  2.95499630e-01],\n",
       "       [-1.65789399e-01,  8.79659841e-02, -1.01543405e+00,\n",
       "        -3.30468426e-01, -9.17705860e-01],\n",
       "       [ 1.76992853e+00,  1.62542523e-01,  1.39022945e+00,\n",
       "        -1.29873957e+00,  1.00418586e+00],\n",
       "       [ 1.74911436e+00,  2.06643769e+00,  4.30667042e-01,\n",
       "        -3.24281390e-01,  9.08000532e-01],\n",
       "       [ 1.80461881e+00,  9.78497596e-01,  8.04581031e-01,\n",
       "         5.35716622e-01,  1.24374177e+00],\n",
       "       [ 7.70425991e-02, -3.41945829e-01,  7.49394930e-01,\n",
       "        -4.97518399e-01,  3.97129409e-01],\n",
       "       [-1.37301133e+00,  6.49483454e-01,  9.50993135e-01,\n",
       "         2.20002932e+00,  1.36624195e+00],\n",
       "       [-1.51913285e-01, -3.72653815e-01,  9.58876864e-01,\n",
       "        -6.15072084e-01,  4.95129554e-01],\n",
       "       [ 7.98600536e-01,  1.92167147e+00,  9.34099431e-01,\n",
       "         6.65644379e-01,  1.45063096e+00],\n",
       "       [-9.64088280e-02,  1.64968645e+00,  6.90830089e-01,\n",
       "        -2.25288813e-01,  8.19981884e-01],\n",
       "       [ 1.27732647e+00, -5.96383432e-01,  1.56989032e-01,\n",
       "        -8.74927598e-01, -8.65194511e-02],\n",
       "       [-1.03304653e+00,  1.40840941e+00, -1.45241787e+00,\n",
       "        -2.77878619e-01, -1.09555797e+00],\n",
       "       [-8.52657050e-01,  3.68724719e-01, -6.83191196e-01,\n",
       "        -2.87159173e-01, -6.69983273e-01],\n",
       "       [-1.38037170e-01, -7.67470786e-01,  8.45125921e-01,\n",
       "        -4.54209147e-01,  3.70814556e-01],\n",
       "       [ 2.26946864e+00, -1.53955731e+00,  3.30431063e-01,\n",
       "        -8.87301670e-01, -1.57415691e-02],\n",
       "       [-1.14405545e+00,  9.67396945e-02,  7.15607522e-01,\n",
       "         2.07319508e+00,  1.05500075e+00],\n",
       "       [-8.38780936e-01,  8.38118229e-01,  1.23368112e+00,\n",
       "         2.71045979e+00,  1.85261303e+00],\n",
       "       [ 9.65113906e-01,  6.18775467e-01, -2.11293722e-01,\n",
       "        -4.07806376e-01, -3.47971527e-02],\n",
       "       [-7.62462308e-01,  3.07308746e-01,  1.22467115e+00,\n",
       "         1.36477945e+00,  1.35172341e+00],\n",
       "       [ 9.09609449e-01, -2.45435014e-01,  1.81820329e+00,\n",
       "         9.62622109e-01,  1.81540928e+00],\n",
       "       [-1.84479921e+00, -7.27989089e-01,  2.36952566e-01,\n",
       "        -3.36655462e-01, -2.99760506e-01],\n",
       "       [ 1.24263619e+00,  1.71316234e-01,  1.86437942e+00,\n",
       "         1.03686654e+00,  2.00505770e+00],\n",
       "       [-6.30639223e-01,  4.40974317e-02,  2.02038910e-01,\n",
       "         1.39746314e-01,  1.30351239e-01],\n",
       "       [-1.90030367e+00,  8.60052505e-01,  1.76135230e-01,\n",
       "         6.28522162e-01,  2.55573645e-01],\n",
       "       [-9.22037621e-01, -7.93791918e-01,  1.17173754e+00,\n",
       "        -6.05791530e-01,  4.81518423e-01],\n",
       "       [-4.36373625e-01, -3.28785263e-01, -2.04820251e+00,\n",
       "        -1.48125713e+00, -2.21076332e+00],\n",
       "       [-4.29435568e-01, -8.50821036e-01, -1.08188262e+00,\n",
       "         1.11904652e-01, -1.07105794e+00],\n",
       "       [-1.28975465e+00,  2.67827049e-01, -8.40278163e-02,\n",
       "        -4.29461003e-01, -3.06112367e-01],\n",
       "       [ 2.92122369e-01, -9.69266127e-01, -1.02894901e+00,\n",
       "        -5.74856350e-01, -1.15998400e+00],\n",
       "       [-1.18568379e+00, -2.76143000e-01,  6.23842878e-02,\n",
       "        -5.09892471e-01, -3.11556820e-01],\n",
       "       [ 4.23945453e-01, -2.76143000e-01,  1.05348161e+00,\n",
       "        -8.81114634e-01,  5.89500063e-01],\n",
       "       [-3.25364712e-01,  3.86272140e-01,  2.66234987e-01,\n",
       "         2.54206481e-01,  3.26351527e-01],\n",
       "       [-4.43311682e-01, -6.62186261e-01, -2.37368788e+00,\n",
       "        -3.96777312e-02, -2.11911504e+00],\n",
       "       [-2.07417741e-01, -1.14035348e+00,  3.54082249e-01,\n",
       "         9.13125821e-01,  2.90055178e-01],\n",
       "       [-1.07467488e+00, -5.87609722e-01, -1.27447085e+00,\n",
       "         1.11904652e-01, -1.25526191e+00],\n",
       "       [-6.65329509e-01, -1.06577694e+00,  1.29675095e+00,\n",
       "         8.32694352e-01,  9.81500640e-01],\n",
       "       [-5.89010881e-01, -1.09648493e+00,  2.52181383e-02,\n",
       "        -8.03776684e-01, -5.19353422e-01],\n",
       "       [-9.01223450e-01,  1.57072305e+00,  2.13301380e-01,\n",
       "         1.44211740e+00,  8.01833709e-01],\n",
       "       [-2.76798312e-01,  3.02921891e-01,  6.52537692e-01,\n",
       "        -1.13922164e-01,  5.19629590e-01],\n",
       "       [ 8.54104992e-01, -1.17544832e+00, -1.83196309e+00,\n",
       "         5.75932356e-01, -1.43946589e+00],\n",
       "       [-5.75134767e-01, -3.33172118e-01,  5.64690430e-01,\n",
       "        -8.28524828e-01,  6.77400354e-02],\n",
       "       [ 3.89255168e-01,  9.74110741e-01, -3.10942094e-02,\n",
       "        -1.09766090e+00, -9.46861298e-02],\n",
       "       [ 4.17007396e-01,  1.23732206e+00, -1.34992939e+00,\n",
       "        -2.99533245e-01, -8.64168745e-01],\n",
       "       [-5.47804855e-02,  1.90851091e+00,  1.20890369e+00,\n",
       "        -1.49295870e-02,  1.35626045e+00],\n",
       "       [ 8.12476650e-01, -1.57697909e-01, -3.89779381e-02,\n",
       "        -9.52265549e-01, -2.37149303e-01],\n",
       "       [-7.20833966e-01, -4.77938341e-01, -6.70802480e-01,\n",
       "         1.20391652e+00, -3.81427293e-01],\n",
       "       [ 5.76582709e-01, -1.31376778e-01, -9.80520392e-01,\n",
       "         8.17226762e-01, -5.03020065e-01],\n",
       "       [-4.91878082e-01,  2.72213904e-01, -1.58306251e+00,\n",
       "         1.18535541e+00, -9.35854035e-01],\n",
       "       [-4.08621397e-01,  1.36015400e+00,  1.98038285e+00,\n",
       "        -9.89387765e-01,  1.53320516e+00],\n",
       "       [-9.98356249e-01, -5.61288590e-01,  7.19818706e-03,\n",
       "        -1.02341646e+00, -5.41131232e-01],\n",
       "       [ 1.11081310e+00,  3.55358162e+00,  9.04817010e-01,\n",
       "         1.27506743e+00,  1.98327989e+00],\n",
       "       [-2.14355798e-01,  6.97738862e-01, -2.43954884e-01,\n",
       "        -4.10899894e-01, -2.00852953e-01],\n",
       "       [-3.04550541e-01, -1.03506896e+00, -2.54091106e-01,\n",
       "        -3.15000836e-01, -5.51112728e-01],\n",
       "       [-1.10284942e-01,  2.72213904e-01,  5.22480653e-02,\n",
       "         3.28450914e-01,  1.80258720e-01],\n",
       "       [ 5.34954367e-01, -3.37558974e-01,  1.21340868e+00,\n",
       "         1.76868531e-01,  1.03050071e+00],\n",
       "       [ 1.27038842e+00,  5.00330376e-01,  2.92138667e-01,\n",
       "         1.83055567e-01,  5.58648166e-01],\n",
       "       [ 1.81113455e-01, -4.64777775e-01,  1.50819157e-02,\n",
       "         1.98523157e-01, -2.13043792e-03],\n",
       "       [-1.33832105e+00, -2.80529856e-01, -3.04772219e-01,\n",
       "         1.30290909e+00, -9.65009473e-02],\n",
       "       [ 7.29219965e-01,  3.73111574e-01,  8.04042391e-02,\n",
       "         1.09564338e+00,  5.57740757e-01],\n",
       "       [-8.87347336e-01, -1.97179606e-01, -5.89712699e-01,\n",
       "         6.06867536e-01, -4.54019992e-01],\n",
       "       [ 1.94989570e-01, -6.99608043e-02, -8.75779426e-01,\n",
       "        -1.70089691e+00, -1.19446553e+00],\n",
       "       [-1.78235670e+00, -2.60922520e-02, -8.43118264e-01,\n",
       "         7.16889177e-02, -8.95928051e-01],\n",
       "       [-3.73931111e-01, -4.03361802e-01, -2.26444192e+00,\n",
       "        -1.41010622e+00, -2.37046726e+00],\n",
       "       [ 4.23945453e-01, -9.16623864e-01,  8.49092269e-02,\n",
       "        -1.18360690e-02, -6.83712762e-02],\n",
       "       [-4.36373625e-01,  3.64337864e-01, -1.17761361e+00,\n",
       "        -2.53130475e-01, -1.00481710e+00],\n",
       "       [ 2.99102657e+00,  1.18673971e-01, -1.16688978e-01,\n",
       "         4.64565707e-01,  4.57925795e-01],\n",
       "       [-9.91418192e-01,  7.37220559e-01,  4.22783313e-01,\n",
       "        -7.04784107e-01,  1.57573501e-01],\n",
       "       [-3.32302769e-01, -4.51617210e-01,  9.16079480e-01,\n",
       "        -1.01104239e+00,  3.04573718e-01],\n",
       "       [-1.10284942e-01, -5.78836011e-01, -1.75792459e-02,\n",
       "        -1.03888405e+00, -4.53112584e-01],\n",
       "       [-1.26200242e+00, -1.35530939e+00, -2.11577732e+00,\n",
       "         4.39817563e-01, -2.02111489e+00],\n",
       "       [-1.34525910e+00, -3.92528177e-02,  1.36716587e-01,\n",
       "         8.23413798e-01,  1.67554997e-01],\n",
       "       [-6.37577281e-01, -6.49025695e-01,  1.19822883e-01,\n",
       "        -1.80917004e+00, -6.52742507e-01],\n",
       "       [-2.69860255e-01, -1.64484183e+00, -5.13127906e-01,\n",
       "        -6.67661891e-01, -9.84854108e-01],\n",
       "       [ 2.57432083e-01, -1.24125115e+00,  3.36062298e-01,\n",
       "         8.91471195e-01,  3.10018170e-01],\n",
       "       [ 7.23971174e-04, -1.40150488e-01, -1.24068344e+00,\n",
       "        -1.08528682e+00, -1.34600279e+00],\n",
       "       [-3.32302769e-01,  2.47880209e+00, -1.32965695e+00,\n",
       "        -6.98597071e-01, -8.06094585e-01]])"
      ]
     },
     "execution_count": 83,
     "metadata": {},
     "output_type": "execute_result"
    }
   ],
   "source": [
    "# Preparing data for clustering\n",
    "rainfall_features = rainfall_data[['Jan-Feb', 'Mar-May', 'Jun-Sep', 'Oct-Dec', 'ANNUAL']]\n",
    "scaler = StandardScaler()\n",
    "scaled_features = scaler.fit_transform(rainfall_features)\n",
    "scaled_features"
   ]
  },
  {
   "cell_type": "code",
   "execution_count": 84,
   "metadata": {},
   "outputs": [
    {
     "data": {
      "text/plain": [
       "0      1\n",
       "1      1\n",
       "2      2\n",
       "3      1\n",
       "4      1\n",
       "      ..\n",
       "110    1\n",
       "111    1\n",
       "112    2\n",
       "113    1\n",
       "114    1\n",
       "Name: Rainfall_Cluster, Length: 115, dtype: int32"
      ]
     },
     "execution_count": 84,
     "metadata": {},
     "output_type": "execute_result"
    }
   ],
   "source": [
    "# Perform k-means clustering\n",
    "kmeans = KMeans(n_clusters=3, random_state=42)\n",
    "rainfall_data['Rainfall_Cluster'] = kmeans.fit_predict(scaled_features)\n",
    "rainfall_data['Rainfall_Cluster']"
   ]
  },
  {
   "cell_type": "code",
   "execution_count": 91,
   "metadata": {},
   "outputs": [
    {
     "data": {
      "text/plain": [
       "0      Normal\n",
       "1      Normal\n",
       "2         Wet\n",
       "3      Normal\n",
       "4      Normal\n",
       "        ...  \n",
       "110    Normal\n",
       "111    Normal\n",
       "112       Wet\n",
       "113    Normal\n",
       "114    Normal\n",
       "Name: Rainfall_Category, Length: 115, dtype: object"
      ]
     },
     "execution_count": 91,
     "metadata": {},
     "output_type": "execute_result"
    }
   ],
   "source": [
    "# Map cluster labels to categories(Dry, Wet, Normal)\n",
    "cluster_labels = {0: 'Dry', 1: 'Normal', 2: 'Wet'}\n",
    "rainfall_data['Rainfall_Category'] = rainfall_data['Rainfall_Cluster'].map(cluster_labels)\n",
    "rainfall_data['Rainfall_Category']\n"
   ]
  },
  {
   "cell_type": "code",
   "execution_count": 92,
   "metadata": {},
   "outputs": [
    {
     "data": {
      "application/vnd.plotly.v1+json": {
       "config": {
        "plotlyServerURL": "https://plot.ly"
       },
       "data": [
        {
         "customdata": [
          [
           1,
           "Normal"
          ],
          [
           1,
           "Normal"
          ],
          [
           1,
           "Normal"
          ],
          [
           1,
           "Normal"
          ],
          [
           1,
           "Normal"
          ],
          [
           1,
           "Normal"
          ],
          [
           1,
           "Normal"
          ],
          [
           1,
           "Normal"
          ],
          [
           1,
           "Normal"
          ],
          [
           1,
           "Normal"
          ],
          [
           1,
           "Normal"
          ],
          [
           1,
           "Normal"
          ],
          [
           1,
           "Normal"
          ],
          [
           1,
           "Normal"
          ],
          [
           1,
           "Normal"
          ],
          [
           1,
           "Normal"
          ],
          [
           1,
           "Normal"
          ],
          [
           1,
           "Normal"
          ],
          [
           1,
           "Normal"
          ],
          [
           1,
           "Normal"
          ],
          [
           1,
           "Normal"
          ],
          [
           1,
           "Normal"
          ],
          [
           1,
           "Normal"
          ],
          [
           1,
           "Normal"
          ],
          [
           1,
           "Normal"
          ],
          [
           1,
           "Normal"
          ],
          [
           1,
           "Normal"
          ],
          [
           1,
           "Normal"
          ],
          [
           1,
           "Normal"
          ],
          [
           1,
           "Normal"
          ],
          [
           1,
           "Normal"
          ],
          [
           1,
           "Normal"
          ],
          [
           1,
           "Normal"
          ],
          [
           1,
           "Normal"
          ],
          [
           1,
           "Normal"
          ],
          [
           1,
           "Normal"
          ],
          [
           1,
           "Normal"
          ],
          [
           1,
           "Normal"
          ],
          [
           1,
           "Normal"
          ],
          [
           1,
           "Normal"
          ],
          [
           1,
           "Normal"
          ],
          [
           1,
           "Normal"
          ],
          [
           1,
           "Normal"
          ],
          [
           1,
           "Normal"
          ]
         ],
         "hovertemplate": "Rainfall Category=%{customdata[1]}<br>Year=%{x}<br>Annual Rainfall (mm)=%{y}<br>Rainfall_Cluster=%{customdata[0]}<extra></extra>",
         "legendgroup": "Normal",
         "marker": {
          "color": "rgb(102,194,165)",
          "symbol": "circle"
         },
         "mode": "markers",
         "name": "Normal",
         "orientation": "v",
         "showlegend": true,
         "type": "scatter",
         "x": [
          1901,
          1902,
          1904,
          1905,
          1907,
          1908,
          1909,
          1911,
          1912,
          1913,
          1918,
          1920,
          1935,
          1939,
          1941,
          1951,
          1952,
          1960,
          1965,
          1966,
          1967,
          1968,
          1969,
          1972,
          1974,
          1976,
          1979,
          1982,
          1986,
          1987,
          1989,
          1991,
          1992,
          1999,
          2000,
          2001,
          2002,
          2004,
          2008,
          2009,
          2011,
          2012,
          2014,
          2015
         ],
         "xaxis": "x",
         "y": [
          1032.3,
          1030.2,
          1019.8,
          975.3,
          1039.7,
          1096.6,
          1158.1,
          1047.5,
          1078.1,
          1068.9,
          1026.2,
          1047.9,
          1143.4,
          1125.9,
          1080.9,
          1061.3,
          1108.2,
          1149,
          938.4,
          1064,
          1148.3,
          1054.2,
          1147.7,
          948.5,
          1043.7,
          1124.8,
          1023.4,
          1086.8,
          1126.6,
          1078.9,
          1122.4,
          1159.9,
          1121.3,
          1132,
          1050.4,
          1083.3,
          920.8,
          1071.3,
          1132.1,
          959.3,
          1110.1,
          1073.5,
          1033.7,
          1093.2
         ],
         "yaxis": "y"
        },
        {
         "customdata": [
          [
           2,
           "Wet"
          ],
          [
           2,
           "Wet"
          ],
          [
           2,
           "Wet"
          ],
          [
           2,
           "Wet"
          ],
          [
           2,
           "Wet"
          ],
          [
           2,
           "Wet"
          ],
          [
           2,
           "Wet"
          ],
          [
           2,
           "Wet"
          ],
          [
           2,
           "Wet"
          ],
          [
           2,
           "Wet"
          ],
          [
           2,
           "Wet"
          ],
          [
           2,
           "Wet"
          ],
          [
           2,
           "Wet"
          ],
          [
           2,
           "Wet"
          ],
          [
           2,
           "Wet"
          ],
          [
           2,
           "Wet"
          ],
          [
           2,
           "Wet"
          ],
          [
           2,
           "Wet"
          ],
          [
           2,
           "Wet"
          ],
          [
           2,
           "Wet"
          ],
          [
           2,
           "Wet"
          ],
          [
           2,
           "Wet"
          ],
          [
           2,
           "Wet"
          ],
          [
           2,
           "Wet"
          ]
         ],
         "hovertemplate": "Rainfall Category=%{customdata[1]}<br>Year=%{x}<br>Annual Rainfall (mm)=%{y}<br>Rainfall_Cluster=%{customdata[0]}<extra></extra>",
         "legendgroup": "Wet",
         "marker": {
          "color": "rgb(252,141,98)",
          "symbol": "circle"
         },
         "mode": "markers",
         "name": "Wet",
         "orientation": "v",
         "showlegend": true,
         "type": "scatter",
         "x": [
          1903,
          1910,
          1916,
          1917,
          1922,
          1924,
          1925,
          1931,
          1932,
          1934,
          1946,
          1955,
          1956,
          1958,
          1962,
          1963,
          1964,
          1973,
          1975,
          1977,
          1985,
          1997,
          2010,
          2013
         ],
         "xaxis": "x",
         "y": [
          1190.5,
          1200.3,
          1337.1,
          1480.3,
          1211.9,
          1268.3,
          1210.4,
          1314.6,
          1218.9,
          1227.6,
          1332.6,
          1298.3,
          1386.2,
          1331,
          1196.4,
          1210.2,
          1235.1,
          1214,
          1290.2,
          1270.4,
          1140,
          1171.4,
          1200.5,
          1216.2
         ],
         "yaxis": "y"
        },
        {
         "customdata": [
          [
           0,
           "Dry"
          ],
          [
           0,
           "Dry"
          ],
          [
           0,
           "Dry"
          ],
          [
           0,
           "Dry"
          ],
          [
           0,
           "Dry"
          ],
          [
           0,
           "Dry"
          ],
          [
           0,
           "Dry"
          ],
          [
           0,
           "Dry"
          ],
          [
           0,
           "Dry"
          ],
          [
           0,
           "Dry"
          ],
          [
           0,
           "Dry"
          ],
          [
           0,
           "Dry"
          ],
          [
           0,
           "Dry"
          ],
          [
           0,
           "Dry"
          ],
          [
           0,
           "Dry"
          ],
          [
           0,
           "Dry"
          ],
          [
           0,
           "Dry"
          ],
          [
           0,
           "Dry"
          ],
          [
           0,
           "Dry"
          ],
          [
           0,
           "Dry"
          ],
          [
           0,
           "Dry"
          ],
          [
           0,
           "Dry"
          ],
          [
           0,
           "Dry"
          ],
          [
           0,
           "Dry"
          ],
          [
           0,
           "Dry"
          ],
          [
           0,
           "Dry"
          ],
          [
           0,
           "Dry"
          ],
          [
           0,
           "Dry"
          ],
          [
           0,
           "Dry"
          ],
          [
           0,
           "Dry"
          ],
          [
           0,
           "Dry"
          ],
          [
           0,
           "Dry"
          ],
          [
           0,
           "Dry"
          ],
          [
           0,
           "Dry"
          ],
          [
           0,
           "Dry"
          ],
          [
           0,
           "Dry"
          ],
          [
           0,
           "Dry"
          ],
          [
           0,
           "Dry"
          ],
          [
           0,
           "Dry"
          ],
          [
           0,
           "Dry"
          ],
          [
           0,
           "Dry"
          ],
          [
           0,
           "Dry"
          ],
          [
           0,
           "Dry"
          ],
          [
           0,
           "Dry"
          ],
          [
           0,
           "Dry"
          ],
          [
           0,
           "Dry"
          ],
          [
           0,
           "Dry"
          ]
         ],
         "hovertemplate": "Rainfall Category=%{customdata[1]}<br>Year=%{x}<br>Annual Rainfall (mm)=%{y}<br>Rainfall_Cluster=%{customdata[0]}<extra></extra>",
         "legendgroup": "Dry",
         "marker": {
          "color": "rgb(141,160,203)",
          "symbol": "circle"
         },
         "mode": "markers",
         "name": "Dry",
         "orientation": "v",
         "showlegend": true,
         "type": "scatter",
         "x": [
          1906,
          1914,
          1915,
          1919,
          1921,
          1923,
          1926,
          1927,
          1928,
          1929,
          1930,
          1933,
          1936,
          1937,
          1938,
          1940,
          1942,
          1943,
          1944,
          1945,
          1947,
          1948,
          1949,
          1950,
          1953,
          1954,
          1957,
          1959,
          1961,
          1970,
          1971,
          1978,
          1980,
          1981,
          1983,
          1984,
          1988,
          1990,
          1993,
          1994,
          1995,
          1996,
          1998,
          2003,
          2005,
          2006,
          2007
         ],
         "xaxis": "x",
         "y": [
          1144.1,
          1214.3,
          1137.2,
          1308.9,
          1240.2,
          1176.3,
          1246.8,
          1262.6,
          1218.4,
          1208.5,
          1209.4,
          1393.5,
          1341.7,
          1218.1,
          1306.7,
          1214.6,
          1292.7,
          1282.1,
          1319.1,
          1225.8,
          1236.6,
          1341.9,
          1272.4,
          1172.5,
          1222.9,
          1180.3,
          1178.2,
          1382.1,
          1403,
          1247,
          1218,
          1239.3,
          1189.5,
          1171.6,
          1331.5,
          1155.9,
          1351,
          1400.6,
          1201.9,
          1295.6,
          1243.6,
          1181.8,
          1243.5,
          1174.5,
          1232.5,
          1199.4,
          1215.6
         ],
         "yaxis": "y"
        }
       ],
       "layout": {
        "height": 500,
        "legend": {
         "title": {
          "text": "Rainfall Category"
         },
         "tracegroupgap": 0
        },
        "template": {
         "data": {
          "bar": [
           {
            "error_x": {
             "color": "#2a3f5f"
            },
            "error_y": {
             "color": "#2a3f5f"
            },
            "marker": {
             "line": {
              "color": "white",
              "width": 0.5
             },
             "pattern": {
              "fillmode": "overlay",
              "size": 10,
              "solidity": 0.2
             }
            },
            "type": "bar"
           }
          ],
          "barpolar": [
           {
            "marker": {
             "line": {
              "color": "white",
              "width": 0.5
             },
             "pattern": {
              "fillmode": "overlay",
              "size": 10,
              "solidity": 0.2
             }
            },
            "type": "barpolar"
           }
          ],
          "carpet": [
           {
            "aaxis": {
             "endlinecolor": "#2a3f5f",
             "gridcolor": "#C8D4E3",
             "linecolor": "#C8D4E3",
             "minorgridcolor": "#C8D4E3",
             "startlinecolor": "#2a3f5f"
            },
            "baxis": {
             "endlinecolor": "#2a3f5f",
             "gridcolor": "#C8D4E3",
             "linecolor": "#C8D4E3",
             "minorgridcolor": "#C8D4E3",
             "startlinecolor": "#2a3f5f"
            },
            "type": "carpet"
           }
          ],
          "choropleth": [
           {
            "colorbar": {
             "outlinewidth": 0,
             "ticks": ""
            },
            "type": "choropleth"
           }
          ],
          "contour": [
           {
            "colorbar": {
             "outlinewidth": 0,
             "ticks": ""
            },
            "colorscale": [
             [
              0,
              "#0d0887"
             ],
             [
              0.1111111111111111,
              "#46039f"
             ],
             [
              0.2222222222222222,
              "#7201a8"
             ],
             [
              0.3333333333333333,
              "#9c179e"
             ],
             [
              0.4444444444444444,
              "#bd3786"
             ],
             [
              0.5555555555555556,
              "#d8576b"
             ],
             [
              0.6666666666666666,
              "#ed7953"
             ],
             [
              0.7777777777777778,
              "#fb9f3a"
             ],
             [
              0.8888888888888888,
              "#fdca26"
             ],
             [
              1,
              "#f0f921"
             ]
            ],
            "type": "contour"
           }
          ],
          "contourcarpet": [
           {
            "colorbar": {
             "outlinewidth": 0,
             "ticks": ""
            },
            "type": "contourcarpet"
           }
          ],
          "heatmap": [
           {
            "colorbar": {
             "outlinewidth": 0,
             "ticks": ""
            },
            "colorscale": [
             [
              0,
              "#0d0887"
             ],
             [
              0.1111111111111111,
              "#46039f"
             ],
             [
              0.2222222222222222,
              "#7201a8"
             ],
             [
              0.3333333333333333,
              "#9c179e"
             ],
             [
              0.4444444444444444,
              "#bd3786"
             ],
             [
              0.5555555555555556,
              "#d8576b"
             ],
             [
              0.6666666666666666,
              "#ed7953"
             ],
             [
              0.7777777777777778,
              "#fb9f3a"
             ],
             [
              0.8888888888888888,
              "#fdca26"
             ],
             [
              1,
              "#f0f921"
             ]
            ],
            "type": "heatmap"
           }
          ],
          "heatmapgl": [
           {
            "colorbar": {
             "outlinewidth": 0,
             "ticks": ""
            },
            "colorscale": [
             [
              0,
              "#0d0887"
             ],
             [
              0.1111111111111111,
              "#46039f"
             ],
             [
              0.2222222222222222,
              "#7201a8"
             ],
             [
              0.3333333333333333,
              "#9c179e"
             ],
             [
              0.4444444444444444,
              "#bd3786"
             ],
             [
              0.5555555555555556,
              "#d8576b"
             ],
             [
              0.6666666666666666,
              "#ed7953"
             ],
             [
              0.7777777777777778,
              "#fb9f3a"
             ],
             [
              0.8888888888888888,
              "#fdca26"
             ],
             [
              1,
              "#f0f921"
             ]
            ],
            "type": "heatmapgl"
           }
          ],
          "histogram": [
           {
            "marker": {
             "pattern": {
              "fillmode": "overlay",
              "size": 10,
              "solidity": 0.2
             }
            },
            "type": "histogram"
           }
          ],
          "histogram2d": [
           {
            "colorbar": {
             "outlinewidth": 0,
             "ticks": ""
            },
            "colorscale": [
             [
              0,
              "#0d0887"
             ],
             [
              0.1111111111111111,
              "#46039f"
             ],
             [
              0.2222222222222222,
              "#7201a8"
             ],
             [
              0.3333333333333333,
              "#9c179e"
             ],
             [
              0.4444444444444444,
              "#bd3786"
             ],
             [
              0.5555555555555556,
              "#d8576b"
             ],
             [
              0.6666666666666666,
              "#ed7953"
             ],
             [
              0.7777777777777778,
              "#fb9f3a"
             ],
             [
              0.8888888888888888,
              "#fdca26"
             ],
             [
              1,
              "#f0f921"
             ]
            ],
            "type": "histogram2d"
           }
          ],
          "histogram2dcontour": [
           {
            "colorbar": {
             "outlinewidth": 0,
             "ticks": ""
            },
            "colorscale": [
             [
              0,
              "#0d0887"
             ],
             [
              0.1111111111111111,
              "#46039f"
             ],
             [
              0.2222222222222222,
              "#7201a8"
             ],
             [
              0.3333333333333333,
              "#9c179e"
             ],
             [
              0.4444444444444444,
              "#bd3786"
             ],
             [
              0.5555555555555556,
              "#d8576b"
             ],
             [
              0.6666666666666666,
              "#ed7953"
             ],
             [
              0.7777777777777778,
              "#fb9f3a"
             ],
             [
              0.8888888888888888,
              "#fdca26"
             ],
             [
              1,
              "#f0f921"
             ]
            ],
            "type": "histogram2dcontour"
           }
          ],
          "mesh3d": [
           {
            "colorbar": {
             "outlinewidth": 0,
             "ticks": ""
            },
            "type": "mesh3d"
           }
          ],
          "parcoords": [
           {
            "line": {
             "colorbar": {
              "outlinewidth": 0,
              "ticks": ""
             }
            },
            "type": "parcoords"
           }
          ],
          "pie": [
           {
            "automargin": true,
            "type": "pie"
           }
          ],
          "scatter": [
           {
            "fillpattern": {
             "fillmode": "overlay",
             "size": 10,
             "solidity": 0.2
            },
            "type": "scatter"
           }
          ],
          "scatter3d": [
           {
            "line": {
             "colorbar": {
              "outlinewidth": 0,
              "ticks": ""
             }
            },
            "marker": {
             "colorbar": {
              "outlinewidth": 0,
              "ticks": ""
             }
            },
            "type": "scatter3d"
           }
          ],
          "scattercarpet": [
           {
            "marker": {
             "colorbar": {
              "outlinewidth": 0,
              "ticks": ""
             }
            },
            "type": "scattercarpet"
           }
          ],
          "scattergeo": [
           {
            "marker": {
             "colorbar": {
              "outlinewidth": 0,
              "ticks": ""
             }
            },
            "type": "scattergeo"
           }
          ],
          "scattergl": [
           {
            "marker": {
             "colorbar": {
              "outlinewidth": 0,
              "ticks": ""
             }
            },
            "type": "scattergl"
           }
          ],
          "scattermapbox": [
           {
            "marker": {
             "colorbar": {
              "outlinewidth": 0,
              "ticks": ""
             }
            },
            "type": "scattermapbox"
           }
          ],
          "scatterpolar": [
           {
            "marker": {
             "colorbar": {
              "outlinewidth": 0,
              "ticks": ""
             }
            },
            "type": "scatterpolar"
           }
          ],
          "scatterpolargl": [
           {
            "marker": {
             "colorbar": {
              "outlinewidth": 0,
              "ticks": ""
             }
            },
            "type": "scatterpolargl"
           }
          ],
          "scatterternary": [
           {
            "marker": {
             "colorbar": {
              "outlinewidth": 0,
              "ticks": ""
             }
            },
            "type": "scatterternary"
           }
          ],
          "surface": [
           {
            "colorbar": {
             "outlinewidth": 0,
             "ticks": ""
            },
            "colorscale": [
             [
              0,
              "#0d0887"
             ],
             [
              0.1111111111111111,
              "#46039f"
             ],
             [
              0.2222222222222222,
              "#7201a8"
             ],
             [
              0.3333333333333333,
              "#9c179e"
             ],
             [
              0.4444444444444444,
              "#bd3786"
             ],
             [
              0.5555555555555556,
              "#d8576b"
             ],
             [
              0.6666666666666666,
              "#ed7953"
             ],
             [
              0.7777777777777778,
              "#fb9f3a"
             ],
             [
              0.8888888888888888,
              "#fdca26"
             ],
             [
              1,
              "#f0f921"
             ]
            ],
            "type": "surface"
           }
          ],
          "table": [
           {
            "cells": {
             "fill": {
              "color": "#EBF0F8"
             },
             "line": {
              "color": "white"
             }
            },
            "header": {
             "fill": {
              "color": "#C8D4E3"
             },
             "line": {
              "color": "white"
             }
            },
            "type": "table"
           }
          ]
         },
         "layout": {
          "annotationdefaults": {
           "arrowcolor": "#2a3f5f",
           "arrowhead": 0,
           "arrowwidth": 1
          },
          "autotypenumbers": "strict",
          "coloraxis": {
           "colorbar": {
            "outlinewidth": 0,
            "ticks": ""
           }
          },
          "colorscale": {
           "diverging": [
            [
             0,
             "#8e0152"
            ],
            [
             0.1,
             "#c51b7d"
            ],
            [
             0.2,
             "#de77ae"
            ],
            [
             0.3,
             "#f1b6da"
            ],
            [
             0.4,
             "#fde0ef"
            ],
            [
             0.5,
             "#f7f7f7"
            ],
            [
             0.6,
             "#e6f5d0"
            ],
            [
             0.7,
             "#b8e186"
            ],
            [
             0.8,
             "#7fbc41"
            ],
            [
             0.9,
             "#4d9221"
            ],
            [
             1,
             "#276419"
            ]
           ],
           "sequential": [
            [
             0,
             "#0d0887"
            ],
            [
             0.1111111111111111,
             "#46039f"
            ],
            [
             0.2222222222222222,
             "#7201a8"
            ],
            [
             0.3333333333333333,
             "#9c179e"
            ],
            [
             0.4444444444444444,
             "#bd3786"
            ],
            [
             0.5555555555555556,
             "#d8576b"
            ],
            [
             0.6666666666666666,
             "#ed7953"
            ],
            [
             0.7777777777777778,
             "#fb9f3a"
            ],
            [
             0.8888888888888888,
             "#fdca26"
            ],
            [
             1,
             "#f0f921"
            ]
           ],
           "sequentialminus": [
            [
             0,
             "#0d0887"
            ],
            [
             0.1111111111111111,
             "#46039f"
            ],
            [
             0.2222222222222222,
             "#7201a8"
            ],
            [
             0.3333333333333333,
             "#9c179e"
            ],
            [
             0.4444444444444444,
             "#bd3786"
            ],
            [
             0.5555555555555556,
             "#d8576b"
            ],
            [
             0.6666666666666666,
             "#ed7953"
            ],
            [
             0.7777777777777778,
             "#fb9f3a"
            ],
            [
             0.8888888888888888,
             "#fdca26"
            ],
            [
             1,
             "#f0f921"
            ]
           ]
          },
          "colorway": [
           "#636efa",
           "#EF553B",
           "#00cc96",
           "#ab63fa",
           "#FFA15A",
           "#19d3f3",
           "#FF6692",
           "#B6E880",
           "#FF97FF",
           "#FECB52"
          ],
          "font": {
           "color": "#2a3f5f"
          },
          "geo": {
           "bgcolor": "white",
           "lakecolor": "white",
           "landcolor": "white",
           "showlakes": true,
           "showland": true,
           "subunitcolor": "#C8D4E3"
          },
          "hoverlabel": {
           "align": "left"
          },
          "hovermode": "closest",
          "mapbox": {
           "style": "light"
          },
          "paper_bgcolor": "white",
          "plot_bgcolor": "white",
          "polar": {
           "angularaxis": {
            "gridcolor": "#EBF0F8",
            "linecolor": "#EBF0F8",
            "ticks": ""
           },
           "bgcolor": "white",
           "radialaxis": {
            "gridcolor": "#EBF0F8",
            "linecolor": "#EBF0F8",
            "ticks": ""
           }
          },
          "scene": {
           "xaxis": {
            "backgroundcolor": "white",
            "gridcolor": "#DFE8F3",
            "gridwidth": 2,
            "linecolor": "#EBF0F8",
            "showbackground": true,
            "ticks": "",
            "zerolinecolor": "#EBF0F8"
           },
           "yaxis": {
            "backgroundcolor": "white",
            "gridcolor": "#DFE8F3",
            "gridwidth": 2,
            "linecolor": "#EBF0F8",
            "showbackground": true,
            "ticks": "",
            "zerolinecolor": "#EBF0F8"
           },
           "zaxis": {
            "backgroundcolor": "white",
            "gridcolor": "#DFE8F3",
            "gridwidth": 2,
            "linecolor": "#EBF0F8",
            "showbackground": true,
            "ticks": "",
            "zerolinecolor": "#EBF0F8"
           }
          },
          "shapedefaults": {
           "line": {
            "color": "#2a3f5f"
           }
          },
          "ternary": {
           "aaxis": {
            "gridcolor": "#DFE8F3",
            "linecolor": "#A2B1C6",
            "ticks": ""
           },
           "baxis": {
            "gridcolor": "#DFE8F3",
            "linecolor": "#A2B1C6",
            "ticks": ""
           },
           "bgcolor": "white",
           "caxis": {
            "gridcolor": "#DFE8F3",
            "linecolor": "#A2B1C6",
            "ticks": ""
           }
          },
          "title": {
           "x": 0.05
          },
          "xaxis": {
           "automargin": true,
           "gridcolor": "#EBF0F8",
           "linecolor": "#EBF0F8",
           "ticks": "",
           "title": {
            "standoff": 15
           },
           "zerolinecolor": "#EBF0F8",
           "zerolinewidth": 2
          },
          "yaxis": {
           "automargin": true,
           "gridcolor": "#EBF0F8",
           "linecolor": "#EBF0F8",
           "ticks": "",
           "title": {
            "standoff": 15
           },
           "zerolinecolor": "#EBF0F8",
           "zerolinewidth": 2
          }
         }
        },
        "title": {
         "text": "Clustering of Years Based on Rainfall Patterns"
        },
        "xaxis": {
         "anchor": "y",
         "domain": [
          0,
          1
         ],
         "title": {
          "text": "Year"
         }
        },
        "yaxis": {
         "anchor": "x",
         "domain": [
          0,
          1
         ],
         "title": {
          "text": "Annual Rainfall (mm)"
         }
        }
       }
      }
     },
     "metadata": {},
     "output_type": "display_data"
    }
   ],
   "source": [
    "fig = px.scatter(\n",
    "    rainfall_data,\n",
    "    x='YEAR',\n",
    "    y='ANNUAL',\n",
    "    color='Rainfall_Category',\n",
    "    title='Clustering of Years Based on Rainfall Patterns',\n",
    "    labels={'YEAR':'Year','ANNUAL': 'Annual Rainfall (mm)', 'Rainfall_Category': 'Rainfall Category'},\n",
    "    color_discrete_sequence=px.colors.qualitative.Set2,\n",
    "    hover_data={'Rainfall_Cluster': True, 'Rainfall_Category': True}\n",
    ")\n",
    "\n",
    "fig.update_layout(\n",
    "    template='plotly_white',\n",
    "    legend_title='Rainfall Category',\n",
    "    height=500\n",
    ")\n",
    "fig"
   ]
  },
  {
   "cell_type": "markdown",
   "metadata": {},
   "source": [
    "Forecasting Future Rainfall"
   ]
  },
  {
   "cell_type": "code",
   "execution_count": 93,
   "metadata": {},
   "outputs": [],
   "source": [
    "rainfall_data['DATE'] = pd.to_datetime(rainfall_data['YEAR'], format='%Y')\n",
    "annual_rainfall_ts = rainfall_data.set_index('DATE')['ANNUAL']"
   ]
  },
  {
   "cell_type": "code",
   "execution_count": 94,
   "metadata": {},
   "outputs": [],
   "source": [
    "from prophet import Prophet"
   ]
  },
  {
   "cell_type": "code",
   "execution_count": 96,
   "metadata": {},
   "outputs": [
    {
     "data": {
      "text/html": [
       "<div>\n",
       "<style scoped>\n",
       "    .dataframe tbody tr th:only-of-type {\n",
       "        vertical-align: middle;\n",
       "    }\n",
       "\n",
       "    .dataframe tbody tr th {\n",
       "        vertical-align: top;\n",
       "    }\n",
       "\n",
       "    .dataframe thead th {\n",
       "        text-align: right;\n",
       "    }\n",
       "</style>\n",
       "<table border=\"1\" class=\"dataframe\">\n",
       "  <thead>\n",
       "    <tr style=\"text-align: right;\">\n",
       "      <th></th>\n",
       "      <th>ds</th>\n",
       "      <th>y</th>\n",
       "    </tr>\n",
       "  </thead>\n",
       "  <tbody>\n",
       "    <tr>\n",
       "      <th>0</th>\n",
       "      <td>1901-01-01</td>\n",
       "      <td>1032.3</td>\n",
       "    </tr>\n",
       "    <tr>\n",
       "      <th>1</th>\n",
       "      <td>1902-01-01</td>\n",
       "      <td>1030.2</td>\n",
       "    </tr>\n",
       "    <tr>\n",
       "      <th>2</th>\n",
       "      <td>1903-01-01</td>\n",
       "      <td>1190.5</td>\n",
       "    </tr>\n",
       "    <tr>\n",
       "      <th>3</th>\n",
       "      <td>1904-01-01</td>\n",
       "      <td>1019.8</td>\n",
       "    </tr>\n",
       "    <tr>\n",
       "      <th>4</th>\n",
       "      <td>1905-01-01</td>\n",
       "      <td>975.3</td>\n",
       "    </tr>\n",
       "    <tr>\n",
       "      <th>...</th>\n",
       "      <td>...</td>\n",
       "      <td>...</td>\n",
       "    </tr>\n",
       "    <tr>\n",
       "      <th>110</th>\n",
       "      <td>2011-01-01</td>\n",
       "      <td>1110.1</td>\n",
       "    </tr>\n",
       "    <tr>\n",
       "      <th>111</th>\n",
       "      <td>2012-01-01</td>\n",
       "      <td>1073.5</td>\n",
       "    </tr>\n",
       "    <tr>\n",
       "      <th>112</th>\n",
       "      <td>2013-01-01</td>\n",
       "      <td>1216.2</td>\n",
       "    </tr>\n",
       "    <tr>\n",
       "      <th>113</th>\n",
       "      <td>2014-01-01</td>\n",
       "      <td>1033.7</td>\n",
       "    </tr>\n",
       "    <tr>\n",
       "      <th>114</th>\n",
       "      <td>2015-01-01</td>\n",
       "      <td>1093.2</td>\n",
       "    </tr>\n",
       "  </tbody>\n",
       "</table>\n",
       "<p>115 rows × 2 columns</p>\n",
       "</div>"
      ],
      "text/plain": [
       "            ds       y\n",
       "0   1901-01-01  1032.3\n",
       "1   1902-01-01  1030.2\n",
       "2   1903-01-01  1190.5\n",
       "3   1904-01-01  1019.8\n",
       "4   1905-01-01   975.3\n",
       "..         ...     ...\n",
       "110 2011-01-01  1110.1\n",
       "111 2012-01-01  1073.5\n",
       "112 2013-01-01  1216.2\n",
       "113 2014-01-01  1033.7\n",
       "114 2015-01-01  1093.2\n",
       "\n",
       "[115 rows x 2 columns]"
      ]
     },
     "execution_count": 96,
     "metadata": {},
     "output_type": "execute_result"
    }
   ],
   "source": [
    "# Prepare data for Prophet\n",
    "prophet_data = annual_rainfall_ts.reset_index()\n",
    "prophet_data.columns = ['ds', 'y']\n",
    "prophet_data"
   ]
  },
  {
   "cell_type": "code",
   "execution_count": 97,
   "metadata": {},
   "outputs": [
    {
     "name": "stderr",
     "output_type": "stream",
     "text": [
      "15:47:23 - cmdstanpy - INFO - Chain [1] start processing\n",
      "15:47:23 - cmdstanpy - INFO - Chain [1] done processing\n"
     ]
    },
    {
     "data": {
      "text/plain": [
       "<prophet.forecaster.Prophet at 0x290c4fe1e50>"
      ]
     },
     "execution_count": 97,
     "metadata": {},
     "output_type": "execute_result"
    }
   ],
   "source": [
    "from prophet.plot import plot_plotly, plot_components_plotly\n",
    "\n",
    "prophet_model = Prophet()\n",
    "prophet_model.fit(prophet_data)"
   ]
  },
  {
   "cell_type": "code",
   "execution_count": 100,
   "metadata": {},
   "outputs": [
    {
     "data": {
      "text/plain": [
       "(            ds\n",
       " 0   1901-01-01\n",
       " 1   1902-01-01\n",
       " 2   1903-01-01\n",
       " 3   1904-01-01\n",
       " 4   1905-01-01\n",
       " ..         ...\n",
       " 130 2030-12-31\n",
       " 131 2031-12-31\n",
       " 132 2032-12-31\n",
       " 133 2033-12-31\n",
       " 134 2034-12-31\n",
       " \n",
       " [135 rows x 1 columns],\n",
       "             ds        trend   yhat_lower   yhat_upper  trend_lower  \\\n",
       " 0   1901-01-01  1040.639058  1016.564084  1278.672110  1040.639058   \n",
       " 1   1902-01-01  1042.630915  1012.660933  1287.024153  1042.630915   \n",
       " 2   1903-01-01  1044.622773  1016.439273  1286.235587  1044.622773   \n",
       " 3   1904-01-01  1046.614630  1013.483853  1270.333157  1046.614630   \n",
       " 4   1905-01-01  1048.611945  1024.677892  1293.398462  1048.611945   \n",
       " ..         ...          ...          ...          ...          ...   \n",
       " 130 2030-12-31  1007.262574   964.011802  1227.505317  1003.840655   \n",
       " 131 2031-12-31  1005.928207   955.121219  1229.687148  1002.126711   \n",
       " 132 2032-12-31  1004.590185   969.007124  1229.712634  1000.398471   \n",
       " 133 2033-12-31  1003.255819   961.646932  1235.703181   998.635704   \n",
       " 134 2034-12-31  1001.921453   958.662605  1217.286008   996.829791   \n",
       " \n",
       "      trend_upper  additive_terms  additive_terms_lower  additive_terms_upper  \\\n",
       " 0    1040.639058      109.209867            109.209867            109.209867   \n",
       " 1    1042.630915      105.991464            105.991464            105.991464   \n",
       " 2    1044.622773      102.693790            102.693790            102.693790   \n",
       " 3    1046.614630       99.320858             99.320858             99.320858   \n",
       " 4    1048.611945      109.209867            109.209867            109.209867   \n",
       " ..           ...             ...                   ...                   ...   \n",
       " 130  1011.176997       88.791989             88.791989             88.791989   \n",
       " 131  1010.185814       85.159912             85.159912             85.159912   \n",
       " 132  1009.272442       95.876772             95.876772             95.876772   \n",
       " 133  1008.323074       92.365725             92.365725             92.365725   \n",
       " 134  1007.428460       88.791989             88.791989             88.791989   \n",
       " \n",
       "          yearly  yearly_lower  yearly_upper  multiplicative_terms  \\\n",
       " 0    109.209867    109.209867    109.209867                   0.0   \n",
       " 1    105.991464    105.991464    105.991464                   0.0   \n",
       " 2    102.693790    102.693790    102.693790                   0.0   \n",
       " 3     99.320858     99.320858     99.320858                   0.0   \n",
       " 4    109.209867    109.209867    109.209867                   0.0   \n",
       " ..          ...           ...           ...                   ...   \n",
       " 130   88.791989     88.791989     88.791989                   0.0   \n",
       " 131   85.159912     85.159912     85.159912                   0.0   \n",
       " 132   95.876772     95.876772     95.876772                   0.0   \n",
       " 133   92.365725     92.365725     92.365725                   0.0   \n",
       " 134   88.791989     88.791989     88.791989                   0.0   \n",
       " \n",
       "      multiplicative_terms_lower  multiplicative_terms_upper         yhat  \n",
       " 0                           0.0                         0.0  1149.848924  \n",
       " 1                           0.0                         0.0  1148.622379  \n",
       " 2                           0.0                         0.0  1147.316563  \n",
       " 3                           0.0                         0.0  1145.935488  \n",
       " 4                           0.0                         0.0  1157.821812  \n",
       " ..                          ...                         ...          ...  \n",
       " 130                         0.0                         0.0  1096.054563  \n",
       " 131                         0.0                         0.0  1091.088119  \n",
       " 132                         0.0                         0.0  1100.466957  \n",
       " 133                         0.0                         0.0  1095.621544  \n",
       " 134                         0.0                         0.0  1090.713442  \n",
       " \n",
       " [135 rows x 16 columns])"
      ]
     },
     "execution_count": 100,
     "metadata": {},
     "output_type": "execute_result"
    }
   ],
   "source": [
    "# Create a future dataframe for the next 20 years\n",
    "future = prophet_model.make_future_dataframe(periods=20, freq='YE')\n",
    "forecast = prophet_model.predict(future)\n",
    "future, forecast"
   ]
  },
  {
   "cell_type": "code",
   "execution_count": 102,
   "metadata": {},
   "outputs": [
    {
     "data": {
      "application/vnd.plotly.v1+json": {
       "config": {
        "plotlyServerURL": "https://plot.ly"
       },
       "data": [
        {
         "marker": {
          "color": "black",
          "size": 4
         },
         "mode": "markers",
         "name": "Actual",
         "type": "scatter",
         "x": [
          "1901-01-01T00:00:00",
          "1902-01-01T00:00:00",
          "1903-01-01T00:00:00",
          "1904-01-01T00:00:00",
          "1905-01-01T00:00:00",
          "1906-01-01T00:00:00",
          "1907-01-01T00:00:00",
          "1908-01-01T00:00:00",
          "1909-01-01T00:00:00",
          "1910-01-01T00:00:00",
          "1911-01-01T00:00:00",
          "1912-01-01T00:00:00",
          "1913-01-01T00:00:00",
          "1914-01-01T00:00:00",
          "1915-01-01T00:00:00",
          "1916-01-01T00:00:00",
          "1917-01-01T00:00:00",
          "1918-01-01T00:00:00",
          "1919-01-01T00:00:00",
          "1920-01-01T00:00:00",
          "1921-01-01T00:00:00",
          "1922-01-01T00:00:00",
          "1923-01-01T00:00:00",
          "1924-01-01T00:00:00",
          "1925-01-01T00:00:00",
          "1926-01-01T00:00:00",
          "1927-01-01T00:00:00",
          "1928-01-01T00:00:00",
          "1929-01-01T00:00:00",
          "1930-01-01T00:00:00",
          "1931-01-01T00:00:00",
          "1932-01-01T00:00:00",
          "1933-01-01T00:00:00",
          "1934-01-01T00:00:00",
          "1935-01-01T00:00:00",
          "1936-01-01T00:00:00",
          "1937-01-01T00:00:00",
          "1938-01-01T00:00:00",
          "1939-01-01T00:00:00",
          "1940-01-01T00:00:00",
          "1941-01-01T00:00:00",
          "1942-01-01T00:00:00",
          "1943-01-01T00:00:00",
          "1944-01-01T00:00:00",
          "1945-01-01T00:00:00",
          "1946-01-01T00:00:00",
          "1947-01-01T00:00:00",
          "1948-01-01T00:00:00",
          "1949-01-01T00:00:00",
          "1950-01-01T00:00:00",
          "1951-01-01T00:00:00",
          "1952-01-01T00:00:00",
          "1953-01-01T00:00:00",
          "1954-01-01T00:00:00",
          "1955-01-01T00:00:00",
          "1956-01-01T00:00:00",
          "1957-01-01T00:00:00",
          "1958-01-01T00:00:00",
          "1959-01-01T00:00:00",
          "1960-01-01T00:00:00",
          "1961-01-01T00:00:00",
          "1962-01-01T00:00:00",
          "1963-01-01T00:00:00",
          "1964-01-01T00:00:00",
          "1965-01-01T00:00:00",
          "1966-01-01T00:00:00",
          "1967-01-01T00:00:00",
          "1968-01-01T00:00:00",
          "1969-01-01T00:00:00",
          "1970-01-01T00:00:00",
          "1971-01-01T00:00:00",
          "1972-01-01T00:00:00",
          "1973-01-01T00:00:00",
          "1974-01-01T00:00:00",
          "1975-01-01T00:00:00",
          "1976-01-01T00:00:00",
          "1977-01-01T00:00:00",
          "1978-01-01T00:00:00",
          "1979-01-01T00:00:00",
          "1980-01-01T00:00:00",
          "1981-01-01T00:00:00",
          "1982-01-01T00:00:00",
          "1983-01-01T00:00:00",
          "1984-01-01T00:00:00",
          "1985-01-01T00:00:00",
          "1986-01-01T00:00:00",
          "1987-01-01T00:00:00",
          "1988-01-01T00:00:00",
          "1989-01-01T00:00:00",
          "1990-01-01T00:00:00",
          "1991-01-01T00:00:00",
          "1992-01-01T00:00:00",
          "1993-01-01T00:00:00",
          "1994-01-01T00:00:00",
          "1995-01-01T00:00:00",
          "1996-01-01T00:00:00",
          "1997-01-01T00:00:00",
          "1998-01-01T00:00:00",
          "1999-01-01T00:00:00",
          "2000-01-01T00:00:00",
          "2001-01-01T00:00:00",
          "2002-01-01T00:00:00",
          "2003-01-01T00:00:00",
          "2004-01-01T00:00:00",
          "2005-01-01T00:00:00",
          "2006-01-01T00:00:00",
          "2007-01-01T00:00:00",
          "2008-01-01T00:00:00",
          "2009-01-01T00:00:00",
          "2010-01-01T00:00:00",
          "2011-01-01T00:00:00",
          "2012-01-01T00:00:00",
          "2013-01-01T00:00:00",
          "2014-01-01T00:00:00",
          "2015-01-01T00:00:00"
         ],
         "y": [
          1032.3,
          1030.2,
          1190.5,
          1019.8,
          975.3,
          1144.1,
          1039.7,
          1096.6,
          1158.1,
          1200.3,
          1047.5,
          1078.1,
          1068.9,
          1214.3,
          1137.2,
          1337.1,
          1480.3,
          1026.2,
          1308.9,
          1047.9,
          1240.2,
          1211.9,
          1176.3,
          1268.3,
          1210.4,
          1246.8,
          1262.6,
          1218.4,
          1208.5,
          1209.4,
          1314.6,
          1218.9,
          1393.5,
          1227.6,
          1143.4,
          1341.7,
          1218.1,
          1306.7,
          1125.9,
          1214.6,
          1080.9,
          1292.7,
          1282.1,
          1319.1,
          1225.8,
          1332.6,
          1236.6,
          1341.9,
          1272.4,
          1172.5,
          1061.3,
          1108.2,
          1222.9,
          1180.3,
          1298.3,
          1386.2,
          1178.2,
          1331,
          1382.1,
          1149,
          1403,
          1196.4,
          1210.2,
          1235.1,
          938.4,
          1064,
          1148.3,
          1054.2,
          1147.7,
          1247,
          1218,
          948.5,
          1214,
          1043.7,
          1290.2,
          1124.8,
          1270.4,
          1239.3,
          1023.4,
          1189.5,
          1171.6,
          1086.8,
          1331.5,
          1155.9,
          1140,
          1126.6,
          1078.9,
          1351,
          1122.4,
          1400.6,
          1159.9,
          1121.3,
          1201.9,
          1295.6,
          1243.6,
          1181.8,
          1171.4,
          1243.5,
          1132,
          1050.4,
          1083.3,
          920.8,
          1174.5,
          1071.3,
          1232.5,
          1199.4,
          1215.6,
          1132.1,
          959.3,
          1200.5,
          1110.1,
          1073.5,
          1216.2,
          1033.7,
          1093.2
         ]
        },
        {
         "hoverinfo": "skip",
         "line": {
          "width": 0
         },
         "mode": "lines",
         "type": "scatter",
         "x": [
          "1901-01-01T00:00:00",
          "1902-01-01T00:00:00",
          "1903-01-01T00:00:00",
          "1904-01-01T00:00:00",
          "1905-01-01T00:00:00",
          "1906-01-01T00:00:00",
          "1907-01-01T00:00:00",
          "1908-01-01T00:00:00",
          "1909-01-01T00:00:00",
          "1910-01-01T00:00:00",
          "1911-01-01T00:00:00",
          "1912-01-01T00:00:00",
          "1913-01-01T00:00:00",
          "1914-01-01T00:00:00",
          "1915-01-01T00:00:00",
          "1916-01-01T00:00:00",
          "1917-01-01T00:00:00",
          "1918-01-01T00:00:00",
          "1919-01-01T00:00:00",
          "1920-01-01T00:00:00",
          "1921-01-01T00:00:00",
          "1922-01-01T00:00:00",
          "1923-01-01T00:00:00",
          "1924-01-01T00:00:00",
          "1925-01-01T00:00:00",
          "1926-01-01T00:00:00",
          "1927-01-01T00:00:00",
          "1928-01-01T00:00:00",
          "1929-01-01T00:00:00",
          "1930-01-01T00:00:00",
          "1931-01-01T00:00:00",
          "1932-01-01T00:00:00",
          "1933-01-01T00:00:00",
          "1934-01-01T00:00:00",
          "1935-01-01T00:00:00",
          "1936-01-01T00:00:00",
          "1937-01-01T00:00:00",
          "1938-01-01T00:00:00",
          "1939-01-01T00:00:00",
          "1940-01-01T00:00:00",
          "1941-01-01T00:00:00",
          "1942-01-01T00:00:00",
          "1943-01-01T00:00:00",
          "1944-01-01T00:00:00",
          "1945-01-01T00:00:00",
          "1946-01-01T00:00:00",
          "1947-01-01T00:00:00",
          "1948-01-01T00:00:00",
          "1949-01-01T00:00:00",
          "1950-01-01T00:00:00",
          "1951-01-01T00:00:00",
          "1952-01-01T00:00:00",
          "1953-01-01T00:00:00",
          "1954-01-01T00:00:00",
          "1955-01-01T00:00:00",
          "1956-01-01T00:00:00",
          "1957-01-01T00:00:00",
          "1958-01-01T00:00:00",
          "1959-01-01T00:00:00",
          "1960-01-01T00:00:00",
          "1961-01-01T00:00:00",
          "1962-01-01T00:00:00",
          "1963-01-01T00:00:00",
          "1964-01-01T00:00:00",
          "1965-01-01T00:00:00",
          "1966-01-01T00:00:00",
          "1967-01-01T00:00:00",
          "1968-01-01T00:00:00",
          "1969-01-01T00:00:00",
          "1970-01-01T00:00:00",
          "1971-01-01T00:00:00",
          "1972-01-01T00:00:00",
          "1973-01-01T00:00:00",
          "1974-01-01T00:00:00",
          "1975-01-01T00:00:00",
          "1976-01-01T00:00:00",
          "1977-01-01T00:00:00",
          "1978-01-01T00:00:00",
          "1979-01-01T00:00:00",
          "1980-01-01T00:00:00",
          "1981-01-01T00:00:00",
          "1982-01-01T00:00:00",
          "1983-01-01T00:00:00",
          "1984-01-01T00:00:00",
          "1985-01-01T00:00:00",
          "1986-01-01T00:00:00",
          "1987-01-01T00:00:00",
          "1988-01-01T00:00:00",
          "1989-01-01T00:00:00",
          "1990-01-01T00:00:00",
          "1991-01-01T00:00:00",
          "1992-01-01T00:00:00",
          "1993-01-01T00:00:00",
          "1994-01-01T00:00:00",
          "1995-01-01T00:00:00",
          "1996-01-01T00:00:00",
          "1997-01-01T00:00:00",
          "1998-01-01T00:00:00",
          "1999-01-01T00:00:00",
          "2000-01-01T00:00:00",
          "2001-01-01T00:00:00",
          "2002-01-01T00:00:00",
          "2003-01-01T00:00:00",
          "2004-01-01T00:00:00",
          "2005-01-01T00:00:00",
          "2006-01-01T00:00:00",
          "2007-01-01T00:00:00",
          "2008-01-01T00:00:00",
          "2009-01-01T00:00:00",
          "2010-01-01T00:00:00",
          "2011-01-01T00:00:00",
          "2012-01-01T00:00:00",
          "2013-01-01T00:00:00",
          "2014-01-01T00:00:00",
          "2015-01-01T00:00:00",
          "2015-12-31T00:00:00",
          "2016-12-31T00:00:00",
          "2017-12-31T00:00:00",
          "2018-12-31T00:00:00",
          "2019-12-31T00:00:00",
          "2020-12-31T00:00:00",
          "2021-12-31T00:00:00",
          "2022-12-31T00:00:00",
          "2023-12-31T00:00:00",
          "2024-12-31T00:00:00",
          "2025-12-31T00:00:00",
          "2026-12-31T00:00:00",
          "2027-12-31T00:00:00",
          "2028-12-31T00:00:00",
          "2029-12-31T00:00:00",
          "2030-12-31T00:00:00",
          "2031-12-31T00:00:00",
          "2032-12-31T00:00:00",
          "2033-12-31T00:00:00",
          "2034-12-31T00:00:00"
         ],
         "y": [
          1016.5640836412891,
          1012.660932557454,
          1016.439273228094,
          1013.4838531397984,
          1024.677891659395,
          1024.728491716494,
          1022.3111932423707,
          1031.6810616968921,
          1035.28401761671,
          1039.5138154037177,
          1025.0493238530642,
          1017.5237201260122,
          1036.9700295502935,
          1043.4671652647685,
          1046.072906339014,
          1030.877808761244,
          1045.5570266280038,
          1059.617822108274,
          1035.452933711958,
          1047.5391824142969,
          1060.9889203683974,
          1058.353613770102,
          1067.2102978534883,
          1060.4937560922083,
          1060.064050673194,
          1067.429365958185,
          1051.6454379731376,
          1056.2830595019868,
          1077.7161887386922,
          1068.6474393714968,
          1059.7240519798793,
          1062.88383423411,
          1078.272265253549,
          1079.2126423213042,
          1082.405737239257,
          1075.3468122819727,
          1074.394543060659,
          1083.67028142867,
          1087.6252071791628,
          1085.0106281222895,
          1091.5555734514037,
          1096.0999723953641,
          1081.4909312025006,
          1082.0214607058138,
          1093.6750784048882,
          1083.1002111638113,
          1084.8090346760837,
          1083.1146965029372,
          1082.6840706739633,
          1092.207141150721,
          1078.7306294110392,
          1073.9992996225135,
          1097.4792988569152,
          1089.7478074985756,
          1080.0188051796101,
          1076.9696170296834,
          1094.7582709556202,
          1079.2114432353749,
          1079.5593087976317,
          1073.1561738832975,
          1086.0187360196564,
          1074.3531616703233,
          1077.2790742613422,
          1051.3811733622113,
          1077.4515824479154,
          1072.3258796761559,
          1061.5559615108878,
          1058.199812874422,
          1072.0273016658793,
          1055.057911430712,
          1051.9233845357642,
          1043.2866705582776,
          1058.1797906979355,
          1053.111847827526,
          1051.1879847139592,
          1053.8337583878204,
          1061.2328512694298,
          1056.0960646656547,
          1050.047040723363,
          1034.118171075266,
          1050.0852005456093,
          1048.9293004456554,
          1038.263048970008,
          1039.9250839256472,
          1048.8462148549186,
          1044.5773653624194,
          1039.362824565792,
          1031.6238794690921,
          1047.503632348719,
          1037.9237961144954,
          1026.4298177620606,
          1040.9970252456458,
          1036.3703641759914,
          1033.4679572715645,
          1025.3237650333558,
          1021.710917415646,
          1032.6589722414008,
          1029.3135698163658,
          1030.50415302518,
          1013.7504952296221,
          1017.5953631131613,
          1022.4908825856523,
          1018.6901114514546,
          1014.1982141657663,
          1017.5716119299975,
          1007.1494107849794,
          1003.8898863327032,
          1005.4072812231235,
          1011.9706054672134,
          1024.823317550286,
          1010.5641618038446,
          1000.4131599263112,
          1013.5055079753323,
          1003.3768335575139,
          990.7119258697221,
          987.2403799634866,
          987.6873881462399,
          977.1038611982812,
          973.2609667462916,
          975.0449598395326,
          984.6409440757725,
          988.5727736927386,
          982.3292904788285,
          976.2141172208759,
          970.8847333097738,
          967.6604344306849,
          971.7282298664142,
          957.1477055833162,
          974.6231359411972,
          971.0006489891329,
          964.0118021399122,
          955.1212192475189,
          969.0071242052062,
          961.6469321547959,
          958.6626049005586
         ]
        },
        {
         "fill": "tonexty",
         "fillcolor": "rgba(0, 114, 178, 0.2)",
         "line": {
          "color": "#0072B2",
          "width": 2
         },
         "mode": "lines",
         "name": "Predicted",
         "type": "scatter",
         "x": [
          "1901-01-01T00:00:00",
          "1902-01-01T00:00:00",
          "1903-01-01T00:00:00",
          "1904-01-01T00:00:00",
          "1905-01-01T00:00:00",
          "1906-01-01T00:00:00",
          "1907-01-01T00:00:00",
          "1908-01-01T00:00:00",
          "1909-01-01T00:00:00",
          "1910-01-01T00:00:00",
          "1911-01-01T00:00:00",
          "1912-01-01T00:00:00",
          "1913-01-01T00:00:00",
          "1914-01-01T00:00:00",
          "1915-01-01T00:00:00",
          "1916-01-01T00:00:00",
          "1917-01-01T00:00:00",
          "1918-01-01T00:00:00",
          "1919-01-01T00:00:00",
          "1920-01-01T00:00:00",
          "1921-01-01T00:00:00",
          "1922-01-01T00:00:00",
          "1923-01-01T00:00:00",
          "1924-01-01T00:00:00",
          "1925-01-01T00:00:00",
          "1926-01-01T00:00:00",
          "1927-01-01T00:00:00",
          "1928-01-01T00:00:00",
          "1929-01-01T00:00:00",
          "1930-01-01T00:00:00",
          "1931-01-01T00:00:00",
          "1932-01-01T00:00:00",
          "1933-01-01T00:00:00",
          "1934-01-01T00:00:00",
          "1935-01-01T00:00:00",
          "1936-01-01T00:00:00",
          "1937-01-01T00:00:00",
          "1938-01-01T00:00:00",
          "1939-01-01T00:00:00",
          "1940-01-01T00:00:00",
          "1941-01-01T00:00:00",
          "1942-01-01T00:00:00",
          "1943-01-01T00:00:00",
          "1944-01-01T00:00:00",
          "1945-01-01T00:00:00",
          "1946-01-01T00:00:00",
          "1947-01-01T00:00:00",
          "1948-01-01T00:00:00",
          "1949-01-01T00:00:00",
          "1950-01-01T00:00:00",
          "1951-01-01T00:00:00",
          "1952-01-01T00:00:00",
          "1953-01-01T00:00:00",
          "1954-01-01T00:00:00",
          "1955-01-01T00:00:00",
          "1956-01-01T00:00:00",
          "1957-01-01T00:00:00",
          "1958-01-01T00:00:00",
          "1959-01-01T00:00:00",
          "1960-01-01T00:00:00",
          "1961-01-01T00:00:00",
          "1962-01-01T00:00:00",
          "1963-01-01T00:00:00",
          "1964-01-01T00:00:00",
          "1965-01-01T00:00:00",
          "1966-01-01T00:00:00",
          "1967-01-01T00:00:00",
          "1968-01-01T00:00:00",
          "1969-01-01T00:00:00",
          "1970-01-01T00:00:00",
          "1971-01-01T00:00:00",
          "1972-01-01T00:00:00",
          "1973-01-01T00:00:00",
          "1974-01-01T00:00:00",
          "1975-01-01T00:00:00",
          "1976-01-01T00:00:00",
          "1977-01-01T00:00:00",
          "1978-01-01T00:00:00",
          "1979-01-01T00:00:00",
          "1980-01-01T00:00:00",
          "1981-01-01T00:00:00",
          "1982-01-01T00:00:00",
          "1983-01-01T00:00:00",
          "1984-01-01T00:00:00",
          "1985-01-01T00:00:00",
          "1986-01-01T00:00:00",
          "1987-01-01T00:00:00",
          "1988-01-01T00:00:00",
          "1989-01-01T00:00:00",
          "1990-01-01T00:00:00",
          "1991-01-01T00:00:00",
          "1992-01-01T00:00:00",
          "1993-01-01T00:00:00",
          "1994-01-01T00:00:00",
          "1995-01-01T00:00:00",
          "1996-01-01T00:00:00",
          "1997-01-01T00:00:00",
          "1998-01-01T00:00:00",
          "1999-01-01T00:00:00",
          "2000-01-01T00:00:00",
          "2001-01-01T00:00:00",
          "2002-01-01T00:00:00",
          "2003-01-01T00:00:00",
          "2004-01-01T00:00:00",
          "2005-01-01T00:00:00",
          "2006-01-01T00:00:00",
          "2007-01-01T00:00:00",
          "2008-01-01T00:00:00",
          "2009-01-01T00:00:00",
          "2010-01-01T00:00:00",
          "2011-01-01T00:00:00",
          "2012-01-01T00:00:00",
          "2013-01-01T00:00:00",
          "2014-01-01T00:00:00",
          "2015-01-01T00:00:00",
          "2015-12-31T00:00:00",
          "2016-12-31T00:00:00",
          "2017-12-31T00:00:00",
          "2018-12-31T00:00:00",
          "2019-12-31T00:00:00",
          "2020-12-31T00:00:00",
          "2021-12-31T00:00:00",
          "2022-12-31T00:00:00",
          "2023-12-31T00:00:00",
          "2024-12-31T00:00:00",
          "2025-12-31T00:00:00",
          "2026-12-31T00:00:00",
          "2027-12-31T00:00:00",
          "2028-12-31T00:00:00",
          "2029-12-31T00:00:00",
          "2030-12-31T00:00:00",
          "2031-12-31T00:00:00",
          "2032-12-31T00:00:00",
          "2033-12-31T00:00:00",
          "2034-12-31T00:00:00"
         ],
         "y": [
          1149.8489242395294,
          1148.622378830627,
          1147.3165626873158,
          1145.9354881190602,
          1157.8218118982293,
          1156.5952666550718,
          1155.2894506774583,
          1153.908376275022,
          1165.7946999497942,
          1164.5681544367308,
          1163.2623381893293,
          1161.8812635170318,
          1173.7675865613808,
          1172.5410404196482,
          1171.235223543523,
          1169.8541482425337,
          1181.7404712770524,
          1180.5139251255132,
          1179.2081082395418,
          1177.8197289922405,
          1189.6987280794924,
          1188.4648779914703,
          1187.1517571690504,
          1185.7465239713845,
          1197.608622933078,
          1196.3579188947433,
          1194.9955583821477,
          1193.5579394446588,
          1205.3875639384758,
          1204.1044741602855,
          1202.7286014982287,
          1201.27747041128,
          1213.0935457360622,
          1211.79694380841,
          1209.9849345325688,
          1208.0976668318008,
          1219.4764106479356,
          1217.1148937059916,
          1214.6741060296451,
          1212.1580599284034,
          1222.9063026634997,
          1220.0473773512472,
          1217.1091813045978,
          1214.0957268330565,
          1224.3451984351796,
          1220.9209244469023,
          1217.4173797242192,
          1213.838576576665,
          1222.9890885042487,
          1219.0342061395202,
          1215.0000530403806,
          1210.8906415163722,
          1219.7175551142482,
          1215.4399585682709,
          1211.0830912878723,
          1206.6509655825955,
          1215.2267571749521,
          1210.6987247491372,
          1206.0914215889195,
          1201.3843044565683,
          1209.9354732262086,
          1205.3828852531512,
          1200.7510265456847,
          1196.0439088365597,
          1204.5950770278496,
          1200.0424884780184,
          1195.4106291937796,
          1190.7033313339075,
          1199.2543188808881,
          1194.701550180309,
          1190.0695109391988,
          1185.3622132732023,
          1193.9132010145877,
          1189.3604325078818,
          1184.7283932625305,
          1180.0210955922905,
          1188.572083329421,
          1184.0193145795406,
          1179.3872750952587,
          1174.6799771860885,
          1183.230964683631,
          1178.6781955575875,
          1174.0461556971366,
          1169.3388574117935,
          1177.8898445321454,
          1173.337075919501,
          1168.7050365724679,
          1163.9977388005316,
          1172.5487264506917,
          1167.9959578529972,
          1163.3639185209026,
          1158.6566207639291,
          1167.2076076352273,
          1162.6548382608069,
          1158.022798151981,
          1153.315499618279,
          1161.8664864895704,
          1157.3137171151611,
          1152.6816770063383,
          1147.9743784726106,
          1156.525365343918,
          1151.9725959694995,
          1147.3405558606728,
          1142.6332573269906,
          1151.1842441982585,
          1146.631474823866,
          1141.999434715039,
          1137.2921361813262,
          1145.8431230526314,
          1141.2903536782107,
          1136.6583135693847,
          1131.9510150356784,
          1140.5020019069634,
          1135.9492325325423,
          1131.3171924237522,
          1112.452603674116,
          1121.8314419898811,
          1116.9860286015569,
          1112.0779263684824,
          1107.111482528497,
          1116.4903208442079,
          1111.6449074559177,
          1106.7368052228435,
          1101.7703613828332,
          1111.1491996985962,
          1106.3037863102597,
          1101.3956840771943,
          1096.4292402372057,
          1105.808078552945,
          1100.9626651645794,
          1096.0545629315538,
          1091.0881190915095,
          1100.4669574072598,
          1095.621544018956,
          1090.7134417858385
         ]
        },
        {
         "fill": "tonexty",
         "fillcolor": "rgba(0, 114, 178, 0.2)",
         "hoverinfo": "skip",
         "line": {
          "width": 0
         },
         "mode": "lines",
         "type": "scatter",
         "x": [
          "1901-01-01T00:00:00",
          "1902-01-01T00:00:00",
          "1903-01-01T00:00:00",
          "1904-01-01T00:00:00",
          "1905-01-01T00:00:00",
          "1906-01-01T00:00:00",
          "1907-01-01T00:00:00",
          "1908-01-01T00:00:00",
          "1909-01-01T00:00:00",
          "1910-01-01T00:00:00",
          "1911-01-01T00:00:00",
          "1912-01-01T00:00:00",
          "1913-01-01T00:00:00",
          "1914-01-01T00:00:00",
          "1915-01-01T00:00:00",
          "1916-01-01T00:00:00",
          "1917-01-01T00:00:00",
          "1918-01-01T00:00:00",
          "1919-01-01T00:00:00",
          "1920-01-01T00:00:00",
          "1921-01-01T00:00:00",
          "1922-01-01T00:00:00",
          "1923-01-01T00:00:00",
          "1924-01-01T00:00:00",
          "1925-01-01T00:00:00",
          "1926-01-01T00:00:00",
          "1927-01-01T00:00:00",
          "1928-01-01T00:00:00",
          "1929-01-01T00:00:00",
          "1930-01-01T00:00:00",
          "1931-01-01T00:00:00",
          "1932-01-01T00:00:00",
          "1933-01-01T00:00:00",
          "1934-01-01T00:00:00",
          "1935-01-01T00:00:00",
          "1936-01-01T00:00:00",
          "1937-01-01T00:00:00",
          "1938-01-01T00:00:00",
          "1939-01-01T00:00:00",
          "1940-01-01T00:00:00",
          "1941-01-01T00:00:00",
          "1942-01-01T00:00:00",
          "1943-01-01T00:00:00",
          "1944-01-01T00:00:00",
          "1945-01-01T00:00:00",
          "1946-01-01T00:00:00",
          "1947-01-01T00:00:00",
          "1948-01-01T00:00:00",
          "1949-01-01T00:00:00",
          "1950-01-01T00:00:00",
          "1951-01-01T00:00:00",
          "1952-01-01T00:00:00",
          "1953-01-01T00:00:00",
          "1954-01-01T00:00:00",
          "1955-01-01T00:00:00",
          "1956-01-01T00:00:00",
          "1957-01-01T00:00:00",
          "1958-01-01T00:00:00",
          "1959-01-01T00:00:00",
          "1960-01-01T00:00:00",
          "1961-01-01T00:00:00",
          "1962-01-01T00:00:00",
          "1963-01-01T00:00:00",
          "1964-01-01T00:00:00",
          "1965-01-01T00:00:00",
          "1966-01-01T00:00:00",
          "1967-01-01T00:00:00",
          "1968-01-01T00:00:00",
          "1969-01-01T00:00:00",
          "1970-01-01T00:00:00",
          "1971-01-01T00:00:00",
          "1972-01-01T00:00:00",
          "1973-01-01T00:00:00",
          "1974-01-01T00:00:00",
          "1975-01-01T00:00:00",
          "1976-01-01T00:00:00",
          "1977-01-01T00:00:00",
          "1978-01-01T00:00:00",
          "1979-01-01T00:00:00",
          "1980-01-01T00:00:00",
          "1981-01-01T00:00:00",
          "1982-01-01T00:00:00",
          "1983-01-01T00:00:00",
          "1984-01-01T00:00:00",
          "1985-01-01T00:00:00",
          "1986-01-01T00:00:00",
          "1987-01-01T00:00:00",
          "1988-01-01T00:00:00",
          "1989-01-01T00:00:00",
          "1990-01-01T00:00:00",
          "1991-01-01T00:00:00",
          "1992-01-01T00:00:00",
          "1993-01-01T00:00:00",
          "1994-01-01T00:00:00",
          "1995-01-01T00:00:00",
          "1996-01-01T00:00:00",
          "1997-01-01T00:00:00",
          "1998-01-01T00:00:00",
          "1999-01-01T00:00:00",
          "2000-01-01T00:00:00",
          "2001-01-01T00:00:00",
          "2002-01-01T00:00:00",
          "2003-01-01T00:00:00",
          "2004-01-01T00:00:00",
          "2005-01-01T00:00:00",
          "2006-01-01T00:00:00",
          "2007-01-01T00:00:00",
          "2008-01-01T00:00:00",
          "2009-01-01T00:00:00",
          "2010-01-01T00:00:00",
          "2011-01-01T00:00:00",
          "2012-01-01T00:00:00",
          "2013-01-01T00:00:00",
          "2014-01-01T00:00:00",
          "2015-01-01T00:00:00",
          "2015-12-31T00:00:00",
          "2016-12-31T00:00:00",
          "2017-12-31T00:00:00",
          "2018-12-31T00:00:00",
          "2019-12-31T00:00:00",
          "2020-12-31T00:00:00",
          "2021-12-31T00:00:00",
          "2022-12-31T00:00:00",
          "2023-12-31T00:00:00",
          "2024-12-31T00:00:00",
          "2025-12-31T00:00:00",
          "2026-12-31T00:00:00",
          "2027-12-31T00:00:00",
          "2028-12-31T00:00:00",
          "2029-12-31T00:00:00",
          "2030-12-31T00:00:00",
          "2031-12-31T00:00:00",
          "2032-12-31T00:00:00",
          "2033-12-31T00:00:00",
          "2034-12-31T00:00:00"
         ],
         "y": [
          1278.6721098988503,
          1287.0241525341899,
          1286.2355869540402,
          1270.3331572980023,
          1293.3984621243224,
          1284.932892387003,
          1280.7479317816305,
          1290.4328597170531,
          1297.622904607475,
          1295.1290039387488,
          1301.0586223955256,
          1295.667679426401,
          1307.0628214362437,
          1301.220720244639,
          1304.7377855822422,
          1295.361564774704,
          1310.8105211904638,
          1313.049449924828,
          1304.8655001526793,
          1313.4473361575238,
          1316.0123235993121,
          1312.7642876054188,
          1319.7395943500117,
          1312.8405662927892,
          1326.8888242554704,
          1330.8642777172665,
          1323.3741353380526,
          1327.4048393568944,
          1334.5479549768593,
          1333.679759690786,
          1333.2979801072931,
          1333.3694802775988,
          1344.834548019001,
          1345.5361464683892,
          1346.3389142534609,
          1334.528197850348,
          1346.2401465106389,
          1348.218302259409,
          1339.1230256969561,
          1345.3363375766826,
          1360.477563476225,
          1352.5973639669642,
          1353.642653431066,
          1338.6594647187774,
          1358.6432049096259,
          1361.4951144757842,
          1345.1124283862905,
          1348.1625589208868,
          1355.6755278636408,
          1345.277957668477,
          1351.0201154439771,
          1344.1420392821624,
          1353.5011103645993,
          1341.2849039299226,
          1345.8546785370922,
          1336.5102325755881,
          1360.714921139835,
          1343.4522422104883,
          1330.053000092573,
          1332.4690349290352,
          1347.9864176208891,
          1342.1588460815003,
          1332.9182342233864,
          1329.4715112616152,
          1335.1211287531416,
          1327.8718473744066,
          1318.3302758102875,
          1313.053701117322,
          1337.7077481335366,
          1331.9380669822533,
          1323.4875163988163,
          1310.6283395837838,
          1326.617325110827,
          1311.0288486531801,
          1312.1672511688855,
          1314.7594953805,
          1309.4717672793545,
          1311.8854418005444,
          1312.6237345059571,
          1306.7603772407906,
          1315.8909531179395,
          1318.0425825485556,
          1302.5787261659955,
          1306.974597306031,
          1305.9793212332438,
          1307.8988423548947,
          1301.465091192346,
          1304.403638103248,
          1297.5556652926562,
          1305.2805398566766,
          1286.3140760725628,
          1295.590515548427,
          1300.8757303257853,
          1295.416693254099,
          1290.3995876677866,
          1288.4164532070613,
          1294.056600202508,
          1289.6358299530873,
          1286.42563415549,
          1273.9772483429401,
          1285.5677115292892,
          1282.0572484525862,
          1289.3362198709674,
          1277.8616339860146,
          1278.4056186308828,
          1276.3272270030175,
          1268.93675449605,
          1263.5397816456987,
          1279.8042690729449,
          1278.0357469617027,
          1266.9134105436747,
          1251.7555274980655,
          1263.7741012543026,
          1266.307941484046,
          1262.2257708104444,
          1247.0817910503,
          1248.8220613530113,
          1239.212441781599,
          1245.4177906408966,
          1237.720296249711,
          1248.0120136607854,
          1237.0763754439065,
          1242.2320991271386,
          1229.1658470166265,
          1245.3113265300697,
          1233.325005957383,
          1236.5590968179206,
          1224.478616961353,
          1241.2081785170308,
          1233.2807691128996,
          1227.5053171497855,
          1229.6871475077605,
          1229.7126338430585,
          1235.7031807974909,
          1217.2860079703012
         ]
        }
       ],
       "layout": {
        "height": 500,
        "showlegend": false,
        "template": {
         "data": {
          "bar": [
           {
            "error_x": {
             "color": "#2a3f5f"
            },
            "error_y": {
             "color": "#2a3f5f"
            },
            "marker": {
             "line": {
              "color": "white",
              "width": 0.5
             },
             "pattern": {
              "fillmode": "overlay",
              "size": 10,
              "solidity": 0.2
             }
            },
            "type": "bar"
           }
          ],
          "barpolar": [
           {
            "marker": {
             "line": {
              "color": "white",
              "width": 0.5
             },
             "pattern": {
              "fillmode": "overlay",
              "size": 10,
              "solidity": 0.2
             }
            },
            "type": "barpolar"
           }
          ],
          "carpet": [
           {
            "aaxis": {
             "endlinecolor": "#2a3f5f",
             "gridcolor": "#C8D4E3",
             "linecolor": "#C8D4E3",
             "minorgridcolor": "#C8D4E3",
             "startlinecolor": "#2a3f5f"
            },
            "baxis": {
             "endlinecolor": "#2a3f5f",
             "gridcolor": "#C8D4E3",
             "linecolor": "#C8D4E3",
             "minorgridcolor": "#C8D4E3",
             "startlinecolor": "#2a3f5f"
            },
            "type": "carpet"
           }
          ],
          "choropleth": [
           {
            "colorbar": {
             "outlinewidth": 0,
             "ticks": ""
            },
            "type": "choropleth"
           }
          ],
          "contour": [
           {
            "colorbar": {
             "outlinewidth": 0,
             "ticks": ""
            },
            "colorscale": [
             [
              0,
              "#0d0887"
             ],
             [
              0.1111111111111111,
              "#46039f"
             ],
             [
              0.2222222222222222,
              "#7201a8"
             ],
             [
              0.3333333333333333,
              "#9c179e"
             ],
             [
              0.4444444444444444,
              "#bd3786"
             ],
             [
              0.5555555555555556,
              "#d8576b"
             ],
             [
              0.6666666666666666,
              "#ed7953"
             ],
             [
              0.7777777777777778,
              "#fb9f3a"
             ],
             [
              0.8888888888888888,
              "#fdca26"
             ],
             [
              1,
              "#f0f921"
             ]
            ],
            "type": "contour"
           }
          ],
          "contourcarpet": [
           {
            "colorbar": {
             "outlinewidth": 0,
             "ticks": ""
            },
            "type": "contourcarpet"
           }
          ],
          "heatmap": [
           {
            "colorbar": {
             "outlinewidth": 0,
             "ticks": ""
            },
            "colorscale": [
             [
              0,
              "#0d0887"
             ],
             [
              0.1111111111111111,
              "#46039f"
             ],
             [
              0.2222222222222222,
              "#7201a8"
             ],
             [
              0.3333333333333333,
              "#9c179e"
             ],
             [
              0.4444444444444444,
              "#bd3786"
             ],
             [
              0.5555555555555556,
              "#d8576b"
             ],
             [
              0.6666666666666666,
              "#ed7953"
             ],
             [
              0.7777777777777778,
              "#fb9f3a"
             ],
             [
              0.8888888888888888,
              "#fdca26"
             ],
             [
              1,
              "#f0f921"
             ]
            ],
            "type": "heatmap"
           }
          ],
          "heatmapgl": [
           {
            "colorbar": {
             "outlinewidth": 0,
             "ticks": ""
            },
            "colorscale": [
             [
              0,
              "#0d0887"
             ],
             [
              0.1111111111111111,
              "#46039f"
             ],
             [
              0.2222222222222222,
              "#7201a8"
             ],
             [
              0.3333333333333333,
              "#9c179e"
             ],
             [
              0.4444444444444444,
              "#bd3786"
             ],
             [
              0.5555555555555556,
              "#d8576b"
             ],
             [
              0.6666666666666666,
              "#ed7953"
             ],
             [
              0.7777777777777778,
              "#fb9f3a"
             ],
             [
              0.8888888888888888,
              "#fdca26"
             ],
             [
              1,
              "#f0f921"
             ]
            ],
            "type": "heatmapgl"
           }
          ],
          "histogram": [
           {
            "marker": {
             "pattern": {
              "fillmode": "overlay",
              "size": 10,
              "solidity": 0.2
             }
            },
            "type": "histogram"
           }
          ],
          "histogram2d": [
           {
            "colorbar": {
             "outlinewidth": 0,
             "ticks": ""
            },
            "colorscale": [
             [
              0,
              "#0d0887"
             ],
             [
              0.1111111111111111,
              "#46039f"
             ],
             [
              0.2222222222222222,
              "#7201a8"
             ],
             [
              0.3333333333333333,
              "#9c179e"
             ],
             [
              0.4444444444444444,
              "#bd3786"
             ],
             [
              0.5555555555555556,
              "#d8576b"
             ],
             [
              0.6666666666666666,
              "#ed7953"
             ],
             [
              0.7777777777777778,
              "#fb9f3a"
             ],
             [
              0.8888888888888888,
              "#fdca26"
             ],
             [
              1,
              "#f0f921"
             ]
            ],
            "type": "histogram2d"
           }
          ],
          "histogram2dcontour": [
           {
            "colorbar": {
             "outlinewidth": 0,
             "ticks": ""
            },
            "colorscale": [
             [
              0,
              "#0d0887"
             ],
             [
              0.1111111111111111,
              "#46039f"
             ],
             [
              0.2222222222222222,
              "#7201a8"
             ],
             [
              0.3333333333333333,
              "#9c179e"
             ],
             [
              0.4444444444444444,
              "#bd3786"
             ],
             [
              0.5555555555555556,
              "#d8576b"
             ],
             [
              0.6666666666666666,
              "#ed7953"
             ],
             [
              0.7777777777777778,
              "#fb9f3a"
             ],
             [
              0.8888888888888888,
              "#fdca26"
             ],
             [
              1,
              "#f0f921"
             ]
            ],
            "type": "histogram2dcontour"
           }
          ],
          "mesh3d": [
           {
            "colorbar": {
             "outlinewidth": 0,
             "ticks": ""
            },
            "type": "mesh3d"
           }
          ],
          "parcoords": [
           {
            "line": {
             "colorbar": {
              "outlinewidth": 0,
              "ticks": ""
             }
            },
            "type": "parcoords"
           }
          ],
          "pie": [
           {
            "automargin": true,
            "type": "pie"
           }
          ],
          "scatter": [
           {
            "fillpattern": {
             "fillmode": "overlay",
             "size": 10,
             "solidity": 0.2
            },
            "type": "scatter"
           }
          ],
          "scatter3d": [
           {
            "line": {
             "colorbar": {
              "outlinewidth": 0,
              "ticks": ""
             }
            },
            "marker": {
             "colorbar": {
              "outlinewidth": 0,
              "ticks": ""
             }
            },
            "type": "scatter3d"
           }
          ],
          "scattercarpet": [
           {
            "marker": {
             "colorbar": {
              "outlinewidth": 0,
              "ticks": ""
             }
            },
            "type": "scattercarpet"
           }
          ],
          "scattergeo": [
           {
            "marker": {
             "colorbar": {
              "outlinewidth": 0,
              "ticks": ""
             }
            },
            "type": "scattergeo"
           }
          ],
          "scattergl": [
           {
            "marker": {
             "colorbar": {
              "outlinewidth": 0,
              "ticks": ""
             }
            },
            "type": "scattergl"
           }
          ],
          "scattermapbox": [
           {
            "marker": {
             "colorbar": {
              "outlinewidth": 0,
              "ticks": ""
             }
            },
            "type": "scattermapbox"
           }
          ],
          "scatterpolar": [
           {
            "marker": {
             "colorbar": {
              "outlinewidth": 0,
              "ticks": ""
             }
            },
            "type": "scatterpolar"
           }
          ],
          "scatterpolargl": [
           {
            "marker": {
             "colorbar": {
              "outlinewidth": 0,
              "ticks": ""
             }
            },
            "type": "scatterpolargl"
           }
          ],
          "scatterternary": [
           {
            "marker": {
             "colorbar": {
              "outlinewidth": 0,
              "ticks": ""
             }
            },
            "type": "scatterternary"
           }
          ],
          "surface": [
           {
            "colorbar": {
             "outlinewidth": 0,
             "ticks": ""
            },
            "colorscale": [
             [
              0,
              "#0d0887"
             ],
             [
              0.1111111111111111,
              "#46039f"
             ],
             [
              0.2222222222222222,
              "#7201a8"
             ],
             [
              0.3333333333333333,
              "#9c179e"
             ],
             [
              0.4444444444444444,
              "#bd3786"
             ],
             [
              0.5555555555555556,
              "#d8576b"
             ],
             [
              0.6666666666666666,
              "#ed7953"
             ],
             [
              0.7777777777777778,
              "#fb9f3a"
             ],
             [
              0.8888888888888888,
              "#fdca26"
             ],
             [
              1,
              "#f0f921"
             ]
            ],
            "type": "surface"
           }
          ],
          "table": [
           {
            "cells": {
             "fill": {
              "color": "#EBF0F8"
             },
             "line": {
              "color": "white"
             }
            },
            "header": {
             "fill": {
              "color": "#C8D4E3"
             },
             "line": {
              "color": "white"
             }
            },
            "type": "table"
           }
          ]
         },
         "layout": {
          "annotationdefaults": {
           "arrowcolor": "#2a3f5f",
           "arrowhead": 0,
           "arrowwidth": 1
          },
          "autotypenumbers": "strict",
          "coloraxis": {
           "colorbar": {
            "outlinewidth": 0,
            "ticks": ""
           }
          },
          "colorscale": {
           "diverging": [
            [
             0,
             "#8e0152"
            ],
            [
             0.1,
             "#c51b7d"
            ],
            [
             0.2,
             "#de77ae"
            ],
            [
             0.3,
             "#f1b6da"
            ],
            [
             0.4,
             "#fde0ef"
            ],
            [
             0.5,
             "#f7f7f7"
            ],
            [
             0.6,
             "#e6f5d0"
            ],
            [
             0.7,
             "#b8e186"
            ],
            [
             0.8,
             "#7fbc41"
            ],
            [
             0.9,
             "#4d9221"
            ],
            [
             1,
             "#276419"
            ]
           ],
           "sequential": [
            [
             0,
             "#0d0887"
            ],
            [
             0.1111111111111111,
             "#46039f"
            ],
            [
             0.2222222222222222,
             "#7201a8"
            ],
            [
             0.3333333333333333,
             "#9c179e"
            ],
            [
             0.4444444444444444,
             "#bd3786"
            ],
            [
             0.5555555555555556,
             "#d8576b"
            ],
            [
             0.6666666666666666,
             "#ed7953"
            ],
            [
             0.7777777777777778,
             "#fb9f3a"
            ],
            [
             0.8888888888888888,
             "#fdca26"
            ],
            [
             1,
             "#f0f921"
            ]
           ],
           "sequentialminus": [
            [
             0,
             "#0d0887"
            ],
            [
             0.1111111111111111,
             "#46039f"
            ],
            [
             0.2222222222222222,
             "#7201a8"
            ],
            [
             0.3333333333333333,
             "#9c179e"
            ],
            [
             0.4444444444444444,
             "#bd3786"
            ],
            [
             0.5555555555555556,
             "#d8576b"
            ],
            [
             0.6666666666666666,
             "#ed7953"
            ],
            [
             0.7777777777777778,
             "#fb9f3a"
            ],
            [
             0.8888888888888888,
             "#fdca26"
            ],
            [
             1,
             "#f0f921"
            ]
           ]
          },
          "colorway": [
           "#636efa",
           "#EF553B",
           "#00cc96",
           "#ab63fa",
           "#FFA15A",
           "#19d3f3",
           "#FF6692",
           "#B6E880",
           "#FF97FF",
           "#FECB52"
          ],
          "font": {
           "color": "#2a3f5f"
          },
          "geo": {
           "bgcolor": "white",
           "lakecolor": "white",
           "landcolor": "white",
           "showlakes": true,
           "showland": true,
           "subunitcolor": "#C8D4E3"
          },
          "hoverlabel": {
           "align": "left"
          },
          "hovermode": "closest",
          "mapbox": {
           "style": "light"
          },
          "paper_bgcolor": "white",
          "plot_bgcolor": "white",
          "polar": {
           "angularaxis": {
            "gridcolor": "#EBF0F8",
            "linecolor": "#EBF0F8",
            "ticks": ""
           },
           "bgcolor": "white",
           "radialaxis": {
            "gridcolor": "#EBF0F8",
            "linecolor": "#EBF0F8",
            "ticks": ""
           }
          },
          "scene": {
           "xaxis": {
            "backgroundcolor": "white",
            "gridcolor": "#DFE8F3",
            "gridwidth": 2,
            "linecolor": "#EBF0F8",
            "showbackground": true,
            "ticks": "",
            "zerolinecolor": "#EBF0F8"
           },
           "yaxis": {
            "backgroundcolor": "white",
            "gridcolor": "#DFE8F3",
            "gridwidth": 2,
            "linecolor": "#EBF0F8",
            "showbackground": true,
            "ticks": "",
            "zerolinecolor": "#EBF0F8"
           },
           "zaxis": {
            "backgroundcolor": "white",
            "gridcolor": "#DFE8F3",
            "gridwidth": 2,
            "linecolor": "#EBF0F8",
            "showbackground": true,
            "ticks": "",
            "zerolinecolor": "#EBF0F8"
           }
          },
          "shapedefaults": {
           "line": {
            "color": "#2a3f5f"
           }
          },
          "ternary": {
           "aaxis": {
            "gridcolor": "#DFE8F3",
            "linecolor": "#A2B1C6",
            "ticks": ""
           },
           "baxis": {
            "gridcolor": "#DFE8F3",
            "linecolor": "#A2B1C6",
            "ticks": ""
           },
           "bgcolor": "white",
           "caxis": {
            "gridcolor": "#DFE8F3",
            "linecolor": "#A2B1C6",
            "ticks": ""
           }
          },
          "title": {
           "x": 0.05
          },
          "xaxis": {
           "automargin": true,
           "gridcolor": "#EBF0F8",
           "linecolor": "#EBF0F8",
           "ticks": "",
           "title": {
            "standoff": 15
           },
           "zerolinecolor": "#EBF0F8",
           "zerolinewidth": 2
          },
          "yaxis": {
           "automargin": true,
           "gridcolor": "#EBF0F8",
           "linecolor": "#EBF0F8",
           "ticks": "",
           "title": {
            "standoff": 15
           },
           "zerolinecolor": "#EBF0F8",
           "zerolinewidth": 2
          }
         }
        },
        "title": {
         "text": "Annual Rainfall Forecast Using Prophet"
        },
        "width": 900,
        "xaxis": {
         "rangeselector": {
          "buttons": [
           {
            "count": 7,
            "label": "1w",
            "step": "day",
            "stepmode": "backward"
           },
           {
            "count": 1,
            "label": "1m",
            "step": "month",
            "stepmode": "backward"
           },
           {
            "count": 6,
            "label": "6m",
            "step": "month",
            "stepmode": "backward"
           },
           {
            "count": 1,
            "label": "1y",
            "step": "year",
            "stepmode": "backward"
           },
           {
            "step": "all"
           }
          ]
         },
         "rangeslider": {
          "visible": true
         },
         "title": {
          "text": "Year"
         },
         "type": "date"
        },
        "yaxis": {
         "title": {
          "text": "Rainfall (mm)"
         }
        }
       }
      }
     },
     "metadata": {},
     "output_type": "display_data"
    }
   ],
   "source": [
    "fig_forecast = plot_plotly(prophet_model, forecast)\n",
    "\n",
    "fig_forecast.update_layout(\n",
    "    title='Annual Rainfall Forecast Using Prophet',\n",
    "    xaxis_title='Year',\n",
    "    yaxis_title='Rainfall (mm)',\n",
    "    template='plotly_white',\n",
    "    height=500\n",
    ")\n",
    "\n",
    "fig_forecast"
   ]
  },
  {
   "cell_type": "markdown",
   "metadata": {},
   "source": [
    "The blue line represents the model’s forecast trend, while the shaded area indicates the confidence interval. The trend reveals a slight decline in annual rainfall over time, with notable year-to-year variability (black dots representing actual data points). The model captures the variability well but highlights that future rainfall may continue to slightly decrease, which emphasizes the need for adaptive strategies to manage potential water resource challenges."
   ]
  },
  {
   "cell_type": "markdown",
   "metadata": {},
   "source": [
    "Conclusion:\n",
    "The analysis of India’s rainfall trends and patterns from 1901 to 2015 reveals significant variability in annual and seasonal rainfall, with the monsoon season (June-September) being the dominant contributor. Anomalous years of extreme drought and wetness highlight the unpredictability of rainfall, while clustering shows a shift towards more dry years in recent decades. Correlations indicate the limited dependency of non-monsoon seasons on monsoon rainfall. A time-series forecast using Prophet suggests a slight declining trend in annual rainfall, which emphasises the need for long-term water resource planning and adaptation to changing climate patterns."
   ]
  }
 ],
 "metadata": {
  "kernelspec": {
   "display_name": "Python 3",
   "language": "python",
   "name": "python3"
  },
  "language_info": {
   "codemirror_mode": {
    "name": "ipython",
    "version": 3
   },
   "file_extension": ".py",
   "mimetype": "text/x-python",
   "name": "python",
   "nbconvert_exporter": "python",
   "pygments_lexer": "ipython3",
   "version": "3.12.4"
  }
 },
 "nbformat": 4,
 "nbformat_minor": 2
}
